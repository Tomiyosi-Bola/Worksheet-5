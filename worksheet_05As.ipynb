{
 "cells": [
  {
   "cell_type": "markdown",
   "metadata": {
    "deletable": false,
    "editable": false,
    "lines_to_next_cell": 0,
    "nbgrader": {
     "cell_type": "markdown",
     "checksum": "76f1384370bac66e39496446a84a63fb",
     "grade": false,
     "grade_id": "cell-a52fdbcf333bb582",
     "locked": true,
     "schema_version": 3,
     "solution": false,
     "task": false
    }
   },
   "source": [
    "# Worksheet 05a: Working With Factors & Tibble Joins\n",
    "_**Leader**: Almas Khan **Reviewer:** Diana Lin **ASDA Assist**: David Kepplinger_\n",
    "\n",
    "**Version 1.0** - Delivered Sunday, October 11, 2020\n",
    "\n",
    "This is the corresponding worksheet for Class 10 (Oct 13, 2020) & Class 11 (Oct 15, 2020).\n",
    "\n",
    "For marking purposes, we will need the packages below.\n",
    "Remember to pay attention to the variable name to store your answer in, or else it will not be autograded correctly.\n",
    "To ensure everything works properly, remember to run all code cells, not just the ones with your answer."
   ]
  },
  {
   "cell_type": "markdown",
   "metadata": {
    "deletable": false,
    "editable": false,
    "lines_to_next_cell": 0,
    "nbgrader": {
     "cell_type": "markdown",
     "checksum": "caefbd9f624e2fd219f5c286549cbd3d",
     "grade": false,
     "grade_id": "cell-c67ecef016e98418",
     "locked": true,
     "schema_version": 3,
     "solution": false,
     "task": false
    }
   },
   "source": [
    "If you want to use packages which are not yet installed, you can use the code cell below to install them."
   ]
  },
  {
   "cell_type": "code",
   "execution_count": 1,
   "metadata": {},
   "outputs": [],
   "source": [
    "# Install additional packages, e.g.\n",
    "# install.packages(\"forcats\")\n",
    "# install.packages('tsibble')"
   ]
  },
  {
   "cell_type": "markdown",
   "metadata": {
    "deletable": false,
    "editable": false,
    "lines_to_next_cell": 0,
    "nbgrader": {
     "cell_type": "markdown",
     "checksum": "b6a7f1bab95d5bb86f82550c3568ba6d",
     "grade": false,
     "grade_id": "cell-3bb1633637c2d81e",
     "locked": true,
     "schema_version": 3,
     "solution": false,
     "task": false
    }
   },
   "source": [
    "Use the following code cell to load any additional packages you want to use for this worksheet."
   ]
  },
  {
   "cell_type": "code",
   "execution_count": 2,
   "metadata": {},
   "outputs": [],
   "source": [
    "# Load packages, e.g.\n",
    "# library(devtools)\n",
    "# library(tsibble)"
   ]
  },
  {
   "cell_type": "markdown",
   "metadata": {
    "deletable": false,
    "editable": false,
    "nbgrader": {
     "cell_type": "markdown",
     "checksum": "4bd32a1bd38064a5ffb75a75aefa528f",
     "grade": false,
     "grade_id": "cell-4950c9707fd0acb4",
     "locked": true,
     "schema_version": 3,
     "solution": false,
     "task": false
    }
   },
   "source": [
    "Run the code cell below to load the packages."
   ]
  },
  {
   "cell_type": "code",
   "execution_count": 3,
   "metadata": {
    "deletable": false,
    "editable": false,
    "nbgrader": {
     "cell_type": "code",
     "checksum": "5ed4811af0b3a269b30ef97fdc7f8216",
     "grade": false,
     "grade_id": "cell-c48a21406e8bb917",
     "locked": true,
     "schema_version": 3,
     "solution": false,
     "task": false
    }
   },
   "outputs": [],
   "source": [
    "library(testthat)\n",
    "library(digest)"
   ]
  },
  {
   "cell_type": "markdown",
   "metadata": {
    "deletable": false,
    "editable": false,
    "nbgrader": {
     "cell_type": "markdown",
     "checksum": "c8d53302d585c9722fe4cb1b826cc1d3",
     "grade": false,
     "grade_id": "cell-ff4d90bac29bce18",
     "locked": true,
     "schema_version": 3,
     "solution": false,
     "task": false
    }
   },
   "source": [
    "## TOPIC 1: Working With Factors in R\n",
    "\n",
    "For the best experience working with factors in R, we will use the forcats package."
   ]
  },
  {
   "cell_type": "code",
   "execution_count": 4,
   "metadata": {
    "deletable": false,
    "editable": false,
    "nbgrader": {
     "cell_type": "code",
     "checksum": "c51f7c0a51b2545400b76a94cf3df311",
     "grade": false,
     "grade_id": "cell-dce109e65bc28a9d",
     "locked": true,
     "schema_version": 3,
     "solution": false,
     "task": false
    }
   },
   "outputs": [],
   "source": [
    "suppressPackageStartupMessages(library(tidyverse))\n",
    "suppressPackageStartupMessages(library(forcats))\n",
    "suppressPackageStartupMessages(library(gapminder))"
   ]
  },
  {
   "cell_type": "code",
   "execution_count": 5,
   "metadata": {},
   "outputs": [
    {
     "data": {
      "text/html": [
       "<table>\n",
       "<caption>A tibble: 1704 × 6</caption>\n",
       "<thead>\n",
       "\t<tr><th scope=col>country</th><th scope=col>continent</th><th scope=col>year</th><th scope=col>lifeExp</th><th scope=col>pop</th><th scope=col>gdpPercap</th></tr>\n",
       "\t<tr><th scope=col>&lt;fct&gt;</th><th scope=col>&lt;fct&gt;</th><th scope=col>&lt;int&gt;</th><th scope=col>&lt;dbl&gt;</th><th scope=col>&lt;int&gt;</th><th scope=col>&lt;dbl&gt;</th></tr>\n",
       "</thead>\n",
       "<tbody>\n",
       "\t<tr><td>Afghanistan</td><td>Asia  </td><td>1952</td><td>28.801</td><td> 8425333</td><td> 779.4453</td></tr>\n",
       "\t<tr><td>Afghanistan</td><td>Asia  </td><td>1957</td><td>30.332</td><td> 9240934</td><td> 820.8530</td></tr>\n",
       "\t<tr><td>Afghanistan</td><td>Asia  </td><td>1962</td><td>31.997</td><td>10267083</td><td> 853.1007</td></tr>\n",
       "\t<tr><td>Afghanistan</td><td>Asia  </td><td>1967</td><td>34.020</td><td>11537966</td><td> 836.1971</td></tr>\n",
       "\t<tr><td>Afghanistan</td><td>Asia  </td><td>1972</td><td>36.088</td><td>13079460</td><td> 739.9811</td></tr>\n",
       "\t<tr><td>Afghanistan</td><td>Asia  </td><td>1977</td><td>38.438</td><td>14880372</td><td> 786.1134</td></tr>\n",
       "\t<tr><td>Afghanistan</td><td>Asia  </td><td>1982</td><td>39.854</td><td>12881816</td><td> 978.0114</td></tr>\n",
       "\t<tr><td>Afghanistan</td><td>Asia  </td><td>1987</td><td>40.822</td><td>13867957</td><td> 852.3959</td></tr>\n",
       "\t<tr><td>Afghanistan</td><td>Asia  </td><td>1992</td><td>41.674</td><td>16317921</td><td> 649.3414</td></tr>\n",
       "\t<tr><td>Afghanistan</td><td>Asia  </td><td>1997</td><td>41.763</td><td>22227415</td><td> 635.3414</td></tr>\n",
       "\t<tr><td>Afghanistan</td><td>Asia  </td><td>2002</td><td>42.129</td><td>25268405</td><td> 726.7341</td></tr>\n",
       "\t<tr><td>Afghanistan</td><td>Asia  </td><td>2007</td><td>43.828</td><td>31889923</td><td> 974.5803</td></tr>\n",
       "\t<tr><td>Albania    </td><td>Europe</td><td>1952</td><td>55.230</td><td> 1282697</td><td>1601.0561</td></tr>\n",
       "\t<tr><td>Albania    </td><td>Europe</td><td>1957</td><td>59.280</td><td> 1476505</td><td>1942.2842</td></tr>\n",
       "\t<tr><td>Albania    </td><td>Europe</td><td>1962</td><td>64.820</td><td> 1728137</td><td>2312.8890</td></tr>\n",
       "\t<tr><td>Albania    </td><td>Europe</td><td>1967</td><td>66.220</td><td> 1984060</td><td>2760.1969</td></tr>\n",
       "\t<tr><td>Albania    </td><td>Europe</td><td>1972</td><td>67.690</td><td> 2263554</td><td>3313.4222</td></tr>\n",
       "\t<tr><td>Albania    </td><td>Europe</td><td>1977</td><td>68.930</td><td> 2509048</td><td>3533.0039</td></tr>\n",
       "\t<tr><td>Albania    </td><td>Europe</td><td>1982</td><td>70.420</td><td> 2780097</td><td>3630.8807</td></tr>\n",
       "\t<tr><td>Albania    </td><td>Europe</td><td>1987</td><td>72.000</td><td> 3075321</td><td>3738.9327</td></tr>\n",
       "\t<tr><td>Albania    </td><td>Europe</td><td>1992</td><td>71.581</td><td> 3326498</td><td>2497.4379</td></tr>\n",
       "\t<tr><td>Albania    </td><td>Europe</td><td>1997</td><td>72.950</td><td> 3428038</td><td>3193.0546</td></tr>\n",
       "\t<tr><td>Albania    </td><td>Europe</td><td>2002</td><td>75.651</td><td> 3508512</td><td>4604.2117</td></tr>\n",
       "\t<tr><td>Albania    </td><td>Europe</td><td>2007</td><td>76.423</td><td> 3600523</td><td>5937.0295</td></tr>\n",
       "\t<tr><td>Algeria    </td><td>Africa</td><td>1952</td><td>43.077</td><td> 9279525</td><td>2449.0082</td></tr>\n",
       "\t<tr><td>Algeria    </td><td>Africa</td><td>1957</td><td>45.685</td><td>10270856</td><td>3013.9760</td></tr>\n",
       "\t<tr><td>Algeria    </td><td>Africa</td><td>1962</td><td>48.303</td><td>11000948</td><td>2550.8169</td></tr>\n",
       "\t<tr><td>Algeria    </td><td>Africa</td><td>1967</td><td>51.407</td><td>12760499</td><td>3246.9918</td></tr>\n",
       "\t<tr><td>Algeria    </td><td>Africa</td><td>1972</td><td>54.518</td><td>14760787</td><td>4182.6638</td></tr>\n",
       "\t<tr><td>Algeria    </td><td>Africa</td><td>1977</td><td>58.014</td><td>17152804</td><td>4910.4168</td></tr>\n",
       "\t<tr><td>⋮</td><td>⋮</td><td>⋮</td><td>⋮</td><td>⋮</td><td>⋮</td></tr>\n",
       "\t<tr><td>Yemen, Rep.</td><td>Asia  </td><td>1982</td><td>49.113</td><td> 9657618</td><td>1977.5570</td></tr>\n",
       "\t<tr><td>Yemen, Rep.</td><td>Asia  </td><td>1987</td><td>52.922</td><td>11219340</td><td>1971.7415</td></tr>\n",
       "\t<tr><td>Yemen, Rep.</td><td>Asia  </td><td>1992</td><td>55.599</td><td>13367997</td><td>1879.4967</td></tr>\n",
       "\t<tr><td>Yemen, Rep.</td><td>Asia  </td><td>1997</td><td>58.020</td><td>15826497</td><td>2117.4845</td></tr>\n",
       "\t<tr><td>Yemen, Rep.</td><td>Asia  </td><td>2002</td><td>60.308</td><td>18701257</td><td>2234.8208</td></tr>\n",
       "\t<tr><td>Yemen, Rep.</td><td>Asia  </td><td>2007</td><td>62.698</td><td>22211743</td><td>2280.7699</td></tr>\n",
       "\t<tr><td>Zambia     </td><td>Africa</td><td>1952</td><td>42.038</td><td> 2672000</td><td>1147.3888</td></tr>\n",
       "\t<tr><td>Zambia     </td><td>Africa</td><td>1957</td><td>44.077</td><td> 3016000</td><td>1311.9568</td></tr>\n",
       "\t<tr><td>Zambia     </td><td>Africa</td><td>1962</td><td>46.023</td><td> 3421000</td><td>1452.7258</td></tr>\n",
       "\t<tr><td>Zambia     </td><td>Africa</td><td>1967</td><td>47.768</td><td> 3900000</td><td>1777.0773</td></tr>\n",
       "\t<tr><td>Zambia     </td><td>Africa</td><td>1972</td><td>50.107</td><td> 4506497</td><td>1773.4983</td></tr>\n",
       "\t<tr><td>Zambia     </td><td>Africa</td><td>1977</td><td>51.386</td><td> 5216550</td><td>1588.6883</td></tr>\n",
       "\t<tr><td>Zambia     </td><td>Africa</td><td>1982</td><td>51.821</td><td> 6100407</td><td>1408.6786</td></tr>\n",
       "\t<tr><td>Zambia     </td><td>Africa</td><td>1987</td><td>50.821</td><td> 7272406</td><td>1213.3151</td></tr>\n",
       "\t<tr><td>Zambia     </td><td>Africa</td><td>1992</td><td>46.100</td><td> 8381163</td><td>1210.8846</td></tr>\n",
       "\t<tr><td>Zambia     </td><td>Africa</td><td>1997</td><td>40.238</td><td> 9417789</td><td>1071.3538</td></tr>\n",
       "\t<tr><td>Zambia     </td><td>Africa</td><td>2002</td><td>39.193</td><td>10595811</td><td>1071.6139</td></tr>\n",
       "\t<tr><td>Zambia     </td><td>Africa</td><td>2007</td><td>42.384</td><td>11746035</td><td>1271.2116</td></tr>\n",
       "\t<tr><td>Zimbabwe   </td><td>Africa</td><td>1952</td><td>48.451</td><td> 3080907</td><td> 406.8841</td></tr>\n",
       "\t<tr><td>Zimbabwe   </td><td>Africa</td><td>1957</td><td>50.469</td><td> 3646340</td><td> 518.7643</td></tr>\n",
       "\t<tr><td>Zimbabwe   </td><td>Africa</td><td>1962</td><td>52.358</td><td> 4277736</td><td> 527.2722</td></tr>\n",
       "\t<tr><td>Zimbabwe   </td><td>Africa</td><td>1967</td><td>53.995</td><td> 4995432</td><td> 569.7951</td></tr>\n",
       "\t<tr><td>Zimbabwe   </td><td>Africa</td><td>1972</td><td>55.635</td><td> 5861135</td><td> 799.3622</td></tr>\n",
       "\t<tr><td>Zimbabwe   </td><td>Africa</td><td>1977</td><td>57.674</td><td> 6642107</td><td> 685.5877</td></tr>\n",
       "\t<tr><td>Zimbabwe   </td><td>Africa</td><td>1982</td><td>60.363</td><td> 7636524</td><td> 788.8550</td></tr>\n",
       "\t<tr><td>Zimbabwe   </td><td>Africa</td><td>1987</td><td>62.351</td><td> 9216418</td><td> 706.1573</td></tr>\n",
       "\t<tr><td>Zimbabwe   </td><td>Africa</td><td>1992</td><td>60.377</td><td>10704340</td><td> 693.4208</td></tr>\n",
       "\t<tr><td>Zimbabwe   </td><td>Africa</td><td>1997</td><td>46.809</td><td>11404948</td><td> 792.4500</td></tr>\n",
       "\t<tr><td>Zimbabwe   </td><td>Africa</td><td>2002</td><td>39.989</td><td>11926563</td><td> 672.0386</td></tr>\n",
       "\t<tr><td>Zimbabwe   </td><td>Africa</td><td>2007</td><td>43.487</td><td>12311143</td><td> 469.7093</td></tr>\n",
       "</tbody>\n",
       "</table>\n"
      ],
      "text/latex": [
       "A tibble: 1704 × 6\n",
       "\\begin{tabular}{llllll}\n",
       " country & continent & year & lifeExp & pop & gdpPercap\\\\\n",
       " <fct> & <fct> & <int> & <dbl> & <int> & <dbl>\\\\\n",
       "\\hline\n",
       "\t Afghanistan & Asia   & 1952 & 28.801 &  8425333 &  779.4453\\\\\n",
       "\t Afghanistan & Asia   & 1957 & 30.332 &  9240934 &  820.8530\\\\\n",
       "\t Afghanistan & Asia   & 1962 & 31.997 & 10267083 &  853.1007\\\\\n",
       "\t Afghanistan & Asia   & 1967 & 34.020 & 11537966 &  836.1971\\\\\n",
       "\t Afghanistan & Asia   & 1972 & 36.088 & 13079460 &  739.9811\\\\\n",
       "\t Afghanistan & Asia   & 1977 & 38.438 & 14880372 &  786.1134\\\\\n",
       "\t Afghanistan & Asia   & 1982 & 39.854 & 12881816 &  978.0114\\\\\n",
       "\t Afghanistan & Asia   & 1987 & 40.822 & 13867957 &  852.3959\\\\\n",
       "\t Afghanistan & Asia   & 1992 & 41.674 & 16317921 &  649.3414\\\\\n",
       "\t Afghanistan & Asia   & 1997 & 41.763 & 22227415 &  635.3414\\\\\n",
       "\t Afghanistan & Asia   & 2002 & 42.129 & 25268405 &  726.7341\\\\\n",
       "\t Afghanistan & Asia   & 2007 & 43.828 & 31889923 &  974.5803\\\\\n",
       "\t Albania     & Europe & 1952 & 55.230 &  1282697 & 1601.0561\\\\\n",
       "\t Albania     & Europe & 1957 & 59.280 &  1476505 & 1942.2842\\\\\n",
       "\t Albania     & Europe & 1962 & 64.820 &  1728137 & 2312.8890\\\\\n",
       "\t Albania     & Europe & 1967 & 66.220 &  1984060 & 2760.1969\\\\\n",
       "\t Albania     & Europe & 1972 & 67.690 &  2263554 & 3313.4222\\\\\n",
       "\t Albania     & Europe & 1977 & 68.930 &  2509048 & 3533.0039\\\\\n",
       "\t Albania     & Europe & 1982 & 70.420 &  2780097 & 3630.8807\\\\\n",
       "\t Albania     & Europe & 1987 & 72.000 &  3075321 & 3738.9327\\\\\n",
       "\t Albania     & Europe & 1992 & 71.581 &  3326498 & 2497.4379\\\\\n",
       "\t Albania     & Europe & 1997 & 72.950 &  3428038 & 3193.0546\\\\\n",
       "\t Albania     & Europe & 2002 & 75.651 &  3508512 & 4604.2117\\\\\n",
       "\t Albania     & Europe & 2007 & 76.423 &  3600523 & 5937.0295\\\\\n",
       "\t Algeria     & Africa & 1952 & 43.077 &  9279525 & 2449.0082\\\\\n",
       "\t Algeria     & Africa & 1957 & 45.685 & 10270856 & 3013.9760\\\\\n",
       "\t Algeria     & Africa & 1962 & 48.303 & 11000948 & 2550.8169\\\\\n",
       "\t Algeria     & Africa & 1967 & 51.407 & 12760499 & 3246.9918\\\\\n",
       "\t Algeria     & Africa & 1972 & 54.518 & 14760787 & 4182.6638\\\\\n",
       "\t Algeria     & Africa & 1977 & 58.014 & 17152804 & 4910.4168\\\\\n",
       "\t ⋮ & ⋮ & ⋮ & ⋮ & ⋮ & ⋮\\\\\n",
       "\t Yemen, Rep. & Asia   & 1982 & 49.113 &  9657618 & 1977.5570\\\\\n",
       "\t Yemen, Rep. & Asia   & 1987 & 52.922 & 11219340 & 1971.7415\\\\\n",
       "\t Yemen, Rep. & Asia   & 1992 & 55.599 & 13367997 & 1879.4967\\\\\n",
       "\t Yemen, Rep. & Asia   & 1997 & 58.020 & 15826497 & 2117.4845\\\\\n",
       "\t Yemen, Rep. & Asia   & 2002 & 60.308 & 18701257 & 2234.8208\\\\\n",
       "\t Yemen, Rep. & Asia   & 2007 & 62.698 & 22211743 & 2280.7699\\\\\n",
       "\t Zambia      & Africa & 1952 & 42.038 &  2672000 & 1147.3888\\\\\n",
       "\t Zambia      & Africa & 1957 & 44.077 &  3016000 & 1311.9568\\\\\n",
       "\t Zambia      & Africa & 1962 & 46.023 &  3421000 & 1452.7258\\\\\n",
       "\t Zambia      & Africa & 1967 & 47.768 &  3900000 & 1777.0773\\\\\n",
       "\t Zambia      & Africa & 1972 & 50.107 &  4506497 & 1773.4983\\\\\n",
       "\t Zambia      & Africa & 1977 & 51.386 &  5216550 & 1588.6883\\\\\n",
       "\t Zambia      & Africa & 1982 & 51.821 &  6100407 & 1408.6786\\\\\n",
       "\t Zambia      & Africa & 1987 & 50.821 &  7272406 & 1213.3151\\\\\n",
       "\t Zambia      & Africa & 1992 & 46.100 &  8381163 & 1210.8846\\\\\n",
       "\t Zambia      & Africa & 1997 & 40.238 &  9417789 & 1071.3538\\\\\n",
       "\t Zambia      & Africa & 2002 & 39.193 & 10595811 & 1071.6139\\\\\n",
       "\t Zambia      & Africa & 2007 & 42.384 & 11746035 & 1271.2116\\\\\n",
       "\t Zimbabwe    & Africa & 1952 & 48.451 &  3080907 &  406.8841\\\\\n",
       "\t Zimbabwe    & Africa & 1957 & 50.469 &  3646340 &  518.7643\\\\\n",
       "\t Zimbabwe    & Africa & 1962 & 52.358 &  4277736 &  527.2722\\\\\n",
       "\t Zimbabwe    & Africa & 1967 & 53.995 &  4995432 &  569.7951\\\\\n",
       "\t Zimbabwe    & Africa & 1972 & 55.635 &  5861135 &  799.3622\\\\\n",
       "\t Zimbabwe    & Africa & 1977 & 57.674 &  6642107 &  685.5877\\\\\n",
       "\t Zimbabwe    & Africa & 1982 & 60.363 &  7636524 &  788.8550\\\\\n",
       "\t Zimbabwe    & Africa & 1987 & 62.351 &  9216418 &  706.1573\\\\\n",
       "\t Zimbabwe    & Africa & 1992 & 60.377 & 10704340 &  693.4208\\\\\n",
       "\t Zimbabwe    & Africa & 1997 & 46.809 & 11404948 &  792.4500\\\\\n",
       "\t Zimbabwe    & Africa & 2002 & 39.989 & 11926563 &  672.0386\\\\\n",
       "\t Zimbabwe    & Africa & 2007 & 43.487 & 12311143 &  469.7093\\\\\n",
       "\\end{tabular}\n"
      ],
      "text/markdown": [
       "\n",
       "A tibble: 1704 × 6\n",
       "\n",
       "| country &lt;fct&gt; | continent &lt;fct&gt; | year &lt;int&gt; | lifeExp &lt;dbl&gt; | pop &lt;int&gt; | gdpPercap &lt;dbl&gt; |\n",
       "|---|---|---|---|---|---|\n",
       "| Afghanistan | Asia   | 1952 | 28.801 |  8425333 |  779.4453 |\n",
       "| Afghanistan | Asia   | 1957 | 30.332 |  9240934 |  820.8530 |\n",
       "| Afghanistan | Asia   | 1962 | 31.997 | 10267083 |  853.1007 |\n",
       "| Afghanistan | Asia   | 1967 | 34.020 | 11537966 |  836.1971 |\n",
       "| Afghanistan | Asia   | 1972 | 36.088 | 13079460 |  739.9811 |\n",
       "| Afghanistan | Asia   | 1977 | 38.438 | 14880372 |  786.1134 |\n",
       "| Afghanistan | Asia   | 1982 | 39.854 | 12881816 |  978.0114 |\n",
       "| Afghanistan | Asia   | 1987 | 40.822 | 13867957 |  852.3959 |\n",
       "| Afghanistan | Asia   | 1992 | 41.674 | 16317921 |  649.3414 |\n",
       "| Afghanistan | Asia   | 1997 | 41.763 | 22227415 |  635.3414 |\n",
       "| Afghanistan | Asia   | 2002 | 42.129 | 25268405 |  726.7341 |\n",
       "| Afghanistan | Asia   | 2007 | 43.828 | 31889923 |  974.5803 |\n",
       "| Albania     | Europe | 1952 | 55.230 |  1282697 | 1601.0561 |\n",
       "| Albania     | Europe | 1957 | 59.280 |  1476505 | 1942.2842 |\n",
       "| Albania     | Europe | 1962 | 64.820 |  1728137 | 2312.8890 |\n",
       "| Albania     | Europe | 1967 | 66.220 |  1984060 | 2760.1969 |\n",
       "| Albania     | Europe | 1972 | 67.690 |  2263554 | 3313.4222 |\n",
       "| Albania     | Europe | 1977 | 68.930 |  2509048 | 3533.0039 |\n",
       "| Albania     | Europe | 1982 | 70.420 |  2780097 | 3630.8807 |\n",
       "| Albania     | Europe | 1987 | 72.000 |  3075321 | 3738.9327 |\n",
       "| Albania     | Europe | 1992 | 71.581 |  3326498 | 2497.4379 |\n",
       "| Albania     | Europe | 1997 | 72.950 |  3428038 | 3193.0546 |\n",
       "| Albania     | Europe | 2002 | 75.651 |  3508512 | 4604.2117 |\n",
       "| Albania     | Europe | 2007 | 76.423 |  3600523 | 5937.0295 |\n",
       "| Algeria     | Africa | 1952 | 43.077 |  9279525 | 2449.0082 |\n",
       "| Algeria     | Africa | 1957 | 45.685 | 10270856 | 3013.9760 |\n",
       "| Algeria     | Africa | 1962 | 48.303 | 11000948 | 2550.8169 |\n",
       "| Algeria     | Africa | 1967 | 51.407 | 12760499 | 3246.9918 |\n",
       "| Algeria     | Africa | 1972 | 54.518 | 14760787 | 4182.6638 |\n",
       "| Algeria     | Africa | 1977 | 58.014 | 17152804 | 4910.4168 |\n",
       "| ⋮ | ⋮ | ⋮ | ⋮ | ⋮ | ⋮ |\n",
       "| Yemen, Rep. | Asia   | 1982 | 49.113 |  9657618 | 1977.5570 |\n",
       "| Yemen, Rep. | Asia   | 1987 | 52.922 | 11219340 | 1971.7415 |\n",
       "| Yemen, Rep. | Asia   | 1992 | 55.599 | 13367997 | 1879.4967 |\n",
       "| Yemen, Rep. | Asia   | 1997 | 58.020 | 15826497 | 2117.4845 |\n",
       "| Yemen, Rep. | Asia   | 2002 | 60.308 | 18701257 | 2234.8208 |\n",
       "| Yemen, Rep. | Asia   | 2007 | 62.698 | 22211743 | 2280.7699 |\n",
       "| Zambia      | Africa | 1952 | 42.038 |  2672000 | 1147.3888 |\n",
       "| Zambia      | Africa | 1957 | 44.077 |  3016000 | 1311.9568 |\n",
       "| Zambia      | Africa | 1962 | 46.023 |  3421000 | 1452.7258 |\n",
       "| Zambia      | Africa | 1967 | 47.768 |  3900000 | 1777.0773 |\n",
       "| Zambia      | Africa | 1972 | 50.107 |  4506497 | 1773.4983 |\n",
       "| Zambia      | Africa | 1977 | 51.386 |  5216550 | 1588.6883 |\n",
       "| Zambia      | Africa | 1982 | 51.821 |  6100407 | 1408.6786 |\n",
       "| Zambia      | Africa | 1987 | 50.821 |  7272406 | 1213.3151 |\n",
       "| Zambia      | Africa | 1992 | 46.100 |  8381163 | 1210.8846 |\n",
       "| Zambia      | Africa | 1997 | 40.238 |  9417789 | 1071.3538 |\n",
       "| Zambia      | Africa | 2002 | 39.193 | 10595811 | 1071.6139 |\n",
       "| Zambia      | Africa | 2007 | 42.384 | 11746035 | 1271.2116 |\n",
       "| Zimbabwe    | Africa | 1952 | 48.451 |  3080907 |  406.8841 |\n",
       "| Zimbabwe    | Africa | 1957 | 50.469 |  3646340 |  518.7643 |\n",
       "| Zimbabwe    | Africa | 1962 | 52.358 |  4277736 |  527.2722 |\n",
       "| Zimbabwe    | Africa | 1967 | 53.995 |  4995432 |  569.7951 |\n",
       "| Zimbabwe    | Africa | 1972 | 55.635 |  5861135 |  799.3622 |\n",
       "| Zimbabwe    | Africa | 1977 | 57.674 |  6642107 |  685.5877 |\n",
       "| Zimbabwe    | Africa | 1982 | 60.363 |  7636524 |  788.8550 |\n",
       "| Zimbabwe    | Africa | 1987 | 62.351 |  9216418 |  706.1573 |\n",
       "| Zimbabwe    | Africa | 1992 | 60.377 | 10704340 |  693.4208 |\n",
       "| Zimbabwe    | Africa | 1997 | 46.809 | 11404948 |  792.4500 |\n",
       "| Zimbabwe    | Africa | 2002 | 39.989 | 11926563 |  672.0386 |\n",
       "| Zimbabwe    | Africa | 2007 | 43.487 | 12311143 |  469.7093 |\n",
       "\n"
      ],
      "text/plain": [
       "     country     continent year lifeExp pop      gdpPercap\n",
       "1    Afghanistan Asia      1952 28.801   8425333  779.4453\n",
       "2    Afghanistan Asia      1957 30.332   9240934  820.8530\n",
       "3    Afghanistan Asia      1962 31.997  10267083  853.1007\n",
       "4    Afghanistan Asia      1967 34.020  11537966  836.1971\n",
       "5    Afghanistan Asia      1972 36.088  13079460  739.9811\n",
       "6    Afghanistan Asia      1977 38.438  14880372  786.1134\n",
       "7    Afghanistan Asia      1982 39.854  12881816  978.0114\n",
       "8    Afghanistan Asia      1987 40.822  13867957  852.3959\n",
       "9    Afghanistan Asia      1992 41.674  16317921  649.3414\n",
       "10   Afghanistan Asia      1997 41.763  22227415  635.3414\n",
       "11   Afghanistan Asia      2002 42.129  25268405  726.7341\n",
       "12   Afghanistan Asia      2007 43.828  31889923  974.5803\n",
       "13   Albania     Europe    1952 55.230   1282697 1601.0561\n",
       "14   Albania     Europe    1957 59.280   1476505 1942.2842\n",
       "15   Albania     Europe    1962 64.820   1728137 2312.8890\n",
       "16   Albania     Europe    1967 66.220   1984060 2760.1969\n",
       "17   Albania     Europe    1972 67.690   2263554 3313.4222\n",
       "18   Albania     Europe    1977 68.930   2509048 3533.0039\n",
       "19   Albania     Europe    1982 70.420   2780097 3630.8807\n",
       "20   Albania     Europe    1987 72.000   3075321 3738.9327\n",
       "21   Albania     Europe    1992 71.581   3326498 2497.4379\n",
       "22   Albania     Europe    1997 72.950   3428038 3193.0546\n",
       "23   Albania     Europe    2002 75.651   3508512 4604.2117\n",
       "24   Albania     Europe    2007 76.423   3600523 5937.0295\n",
       "25   Algeria     Africa    1952 43.077   9279525 2449.0082\n",
       "26   Algeria     Africa    1957 45.685  10270856 3013.9760\n",
       "27   Algeria     Africa    1962 48.303  11000948 2550.8169\n",
       "28   Algeria     Africa    1967 51.407  12760499 3246.9918\n",
       "29   Algeria     Africa    1972 54.518  14760787 4182.6638\n",
       "30   Algeria     Africa    1977 58.014  17152804 4910.4168\n",
       "⋮    ⋮           ⋮         ⋮    ⋮       ⋮        ⋮        \n",
       "1675 Yemen, Rep. Asia      1982 49.113   9657618 1977.5570\n",
       "1676 Yemen, Rep. Asia      1987 52.922  11219340 1971.7415\n",
       "1677 Yemen, Rep. Asia      1992 55.599  13367997 1879.4967\n",
       "1678 Yemen, Rep. Asia      1997 58.020  15826497 2117.4845\n",
       "1679 Yemen, Rep. Asia      2002 60.308  18701257 2234.8208\n",
       "1680 Yemen, Rep. Asia      2007 62.698  22211743 2280.7699\n",
       "1681 Zambia      Africa    1952 42.038   2672000 1147.3888\n",
       "1682 Zambia      Africa    1957 44.077   3016000 1311.9568\n",
       "1683 Zambia      Africa    1962 46.023   3421000 1452.7258\n",
       "1684 Zambia      Africa    1967 47.768   3900000 1777.0773\n",
       "1685 Zambia      Africa    1972 50.107   4506497 1773.4983\n",
       "1686 Zambia      Africa    1977 51.386   5216550 1588.6883\n",
       "1687 Zambia      Africa    1982 51.821   6100407 1408.6786\n",
       "1688 Zambia      Africa    1987 50.821   7272406 1213.3151\n",
       "1689 Zambia      Africa    1992 46.100   8381163 1210.8846\n",
       "1690 Zambia      Africa    1997 40.238   9417789 1071.3538\n",
       "1691 Zambia      Africa    2002 39.193  10595811 1071.6139\n",
       "1692 Zambia      Africa    2007 42.384  11746035 1271.2116\n",
       "1693 Zimbabwe    Africa    1952 48.451   3080907  406.8841\n",
       "1694 Zimbabwe    Africa    1957 50.469   3646340  518.7643\n",
       "1695 Zimbabwe    Africa    1962 52.358   4277736  527.2722\n",
       "1696 Zimbabwe    Africa    1967 53.995   4995432  569.7951\n",
       "1697 Zimbabwe    Africa    1972 55.635   5861135  799.3622\n",
       "1698 Zimbabwe    Africa    1977 57.674   6642107  685.5877\n",
       "1699 Zimbabwe    Africa    1982 60.363   7636524  788.8550\n",
       "1700 Zimbabwe    Africa    1987 62.351   9216418  706.1573\n",
       "1701 Zimbabwe    Africa    1992 60.377  10704340  693.4208\n",
       "1702 Zimbabwe    Africa    1997 46.809  11404948  792.4500\n",
       "1703 Zimbabwe    Africa    2002 39.989  11926563  672.0386\n",
       "1704 Zimbabwe    Africa    2007 43.487  12311143  469.7093"
      ]
     },
     "metadata": {},
     "output_type": "display_data"
    }
   ],
   "source": [
    "gapminder"
   ]
  },
  {
   "cell_type": "markdown",
   "metadata": {
    "deletable": false,
    "editable": false,
    "nbgrader": {
     "cell_type": "markdown",
     "checksum": "5becee4951640ad8b7d6bf89418ca177",
     "grade": false,
     "grade_id": "cell-7bedc574cb2e95de",
     "locked": true,
     "schema_version": 3,
     "solution": false,
     "task": false
    }
   },
   "source": [
    "### Question 1: Creating Factors\n",
    "\n",
    "Let's look again into `gapminder` dataset and create a new column, `life_level`, that contains five categories (\"very high\", \"high\",\"moderate\", \"low\" and \"very low\") based on life expectancy in 1997.\n",
    "Assign categories according to the table below:"
   ]
  },
  {
   "cell_type": "markdown",
   "metadata": {
    "deletable": false,
    "editable": false,
    "nbgrader": {
     "cell_type": "markdown",
     "checksum": "9401f30909ee288cea6fa5f296272b0f",
     "grade": false,
     "grade_id": "cell-92d93e5de5944b49",
     "locked": true,
     "schema_version": 3,
     "solution": false,
     "task": false
    }
   },
   "source": [
    "| Criteria          |`life_level`   | \n",
    "|-------------------|-------------|\n",
    "| less than 23      | very low    |\n",
    "| between 23 and 48 | low         |\n",
    "| between 48 and 59 | moderate    |\n",
    "| between 59 and 70 | high        |\n",
    "| more than 70      | very high   |\n",
    "\n",
    "#### Question 1.1\n",
    "\n",
    "Create a new data set for the year 1997 by first filtering by the year and the adding a new column `life_level` according to the table above.\n",
    "\n",
    "Store this new data frame in variable `gapminder_1997`.\n",
    "\n",
    "**Hint**: We are using `case_when()`, a tidier way to vectorise multiple `if_else()` statements.\n",
    "You can read more about this function [in the tidyverse reference](https://dplyr.tidyverse.org/reference/case_when.html).\n",
    "\n",
    "```\n",
    "(gapminder_1997 <- gapminder %>% \n",
    "   FILL_THIS_IN(year == FILL_THIS_IN) %>% \n",
    "   FILL_THIS_IN(life_level = case_when(FILL_THIS_IN < FILL_THIS_IN ~ \"very low\",\n",
    "                                 FILL_THIS_IN < FILL_THIS_IN ~ \"low\",\n",
    "                                 FILL_THIS_IN < FILL_THIS_IN ~ \"moderate\",\n",
    "                                 FILL_THIS_IN < FILL_THIS_IN ~ \"high\",\n",
    "                                 TRUE ~ \"very high\")))\n",
    "```"
   ]
  },
  {
   "cell_type": "code",
   "execution_count": 6,
   "metadata": {
    "deletable": false,
    "lines_to_next_cell": 0,
    "nbgrader": {
     "cell_type": "code",
     "checksum": "5745abbebd52c72e7f8187ecaa89b317",
     "grade": false,
     "grade_id": "cell-dc036d146cef2025",
     "locked": false,
     "schema_version": 3,
     "solution": true,
     "task": false
    }
   },
   "outputs": [
    {
     "data": {
      "text/html": [
       "<table>\n",
       "<caption>A tibble: 142 × 7</caption>\n",
       "<thead>\n",
       "\t<tr><th scope=col>country</th><th scope=col>continent</th><th scope=col>year</th><th scope=col>lifeExp</th><th scope=col>pop</th><th scope=col>gdpPercap</th><th scope=col>life_level</th></tr>\n",
       "\t<tr><th scope=col>&lt;fct&gt;</th><th scope=col>&lt;fct&gt;</th><th scope=col>&lt;int&gt;</th><th scope=col>&lt;dbl&gt;</th><th scope=col>&lt;int&gt;</th><th scope=col>&lt;dbl&gt;</th><th scope=col>&lt;chr&gt;</th></tr>\n",
       "</thead>\n",
       "<tbody>\n",
       "\t<tr><td>Afghanistan             </td><td>Asia    </td><td>1997</td><td>41.763</td><td>  22227415</td><td>  635.3414</td><td>low      </td></tr>\n",
       "\t<tr><td>Albania                 </td><td>Europe  </td><td>1997</td><td>72.950</td><td>   3428038</td><td> 3193.0546</td><td>very high</td></tr>\n",
       "\t<tr><td>Algeria                 </td><td>Africa  </td><td>1997</td><td>69.152</td><td>  29072015</td><td> 4797.2951</td><td>high     </td></tr>\n",
       "\t<tr><td>Angola                  </td><td>Africa  </td><td>1997</td><td>40.963</td><td>   9875024</td><td> 2277.1409</td><td>low      </td></tr>\n",
       "\t<tr><td>Argentina               </td><td>Americas</td><td>1997</td><td>73.275</td><td>  36203463</td><td>10967.2820</td><td>very high</td></tr>\n",
       "\t<tr><td>Australia               </td><td>Oceania </td><td>1997</td><td>78.830</td><td>  18565243</td><td>26997.9366</td><td>very high</td></tr>\n",
       "\t<tr><td>Austria                 </td><td>Europe  </td><td>1997</td><td>77.510</td><td>   8069876</td><td>29095.9207</td><td>very high</td></tr>\n",
       "\t<tr><td>Bahrain                 </td><td>Asia    </td><td>1997</td><td>73.925</td><td>    598561</td><td>20292.0168</td><td>very high</td></tr>\n",
       "\t<tr><td>Bangladesh              </td><td>Asia    </td><td>1997</td><td>59.412</td><td> 123315288</td><td>  972.7700</td><td>high     </td></tr>\n",
       "\t<tr><td>Belgium                 </td><td>Europe  </td><td>1997</td><td>77.530</td><td>  10199787</td><td>27561.1966</td><td>very high</td></tr>\n",
       "\t<tr><td>Benin                   </td><td>Africa  </td><td>1997</td><td>54.777</td><td>   6066080</td><td> 1232.9753</td><td>moderate </td></tr>\n",
       "\t<tr><td>Bolivia                 </td><td>Americas</td><td>1997</td><td>62.050</td><td>   7693188</td><td> 3326.1432</td><td>high     </td></tr>\n",
       "\t<tr><td>Bosnia and Herzegovina  </td><td>Europe  </td><td>1997</td><td>73.244</td><td>   3607000</td><td> 4766.3559</td><td>very high</td></tr>\n",
       "\t<tr><td>Botswana                </td><td>Africa  </td><td>1997</td><td>52.556</td><td>   1536536</td><td> 8647.1423</td><td>moderate </td></tr>\n",
       "\t<tr><td>Brazil                  </td><td>Americas</td><td>1997</td><td>69.388</td><td> 168546719</td><td> 7957.9808</td><td>high     </td></tr>\n",
       "\t<tr><td>Bulgaria                </td><td>Europe  </td><td>1997</td><td>70.320</td><td>   8066057</td><td> 5970.3888</td><td>very high</td></tr>\n",
       "\t<tr><td>Burkina Faso            </td><td>Africa  </td><td>1997</td><td>50.324</td><td>  10352843</td><td>  946.2950</td><td>moderate </td></tr>\n",
       "\t<tr><td>Burundi                 </td><td>Africa  </td><td>1997</td><td>45.326</td><td>   6121610</td><td>  463.1151</td><td>low      </td></tr>\n",
       "\t<tr><td>Cambodia                </td><td>Asia    </td><td>1997</td><td>56.534</td><td>  11782962</td><td>  734.2852</td><td>moderate </td></tr>\n",
       "\t<tr><td>Cameroon                </td><td>Africa  </td><td>1997</td><td>52.199</td><td>  14195809</td><td> 1694.3375</td><td>moderate </td></tr>\n",
       "\t<tr><td>Canada                  </td><td>Americas</td><td>1997</td><td>78.610</td><td>  30305843</td><td>28954.9259</td><td>very high</td></tr>\n",
       "\t<tr><td>Central African Republic</td><td>Africa  </td><td>1997</td><td>46.066</td><td>   3696513</td><td>  740.5063</td><td>low      </td></tr>\n",
       "\t<tr><td>Chad                    </td><td>Africa  </td><td>1997</td><td>51.573</td><td>   7562011</td><td> 1004.9614</td><td>moderate </td></tr>\n",
       "\t<tr><td>Chile                   </td><td>Americas</td><td>1997</td><td>75.816</td><td>  14599929</td><td>10118.0532</td><td>very high</td></tr>\n",
       "\t<tr><td>China                   </td><td>Asia    </td><td>1997</td><td>70.426</td><td>1230075000</td><td> 2289.2341</td><td>very high</td></tr>\n",
       "\t<tr><td>Colombia                </td><td>Americas</td><td>1997</td><td>70.313</td><td>  37657830</td><td> 6117.3617</td><td>very high</td></tr>\n",
       "\t<tr><td>Comoros                 </td><td>Africa  </td><td>1997</td><td>60.660</td><td>    527982</td><td> 1173.6182</td><td>high     </td></tr>\n",
       "\t<tr><td>Congo, Dem. Rep.        </td><td>Africa  </td><td>1997</td><td>42.587</td><td>  47798986</td><td>  312.1884</td><td>low      </td></tr>\n",
       "\t<tr><td>Congo, Rep.             </td><td>Africa  </td><td>1997</td><td>52.962</td><td>   2800947</td><td> 3484.1644</td><td>moderate </td></tr>\n",
       "\t<tr><td>Costa Rica              </td><td>Americas</td><td>1997</td><td>77.260</td><td>   3518107</td><td> 6677.0453</td><td>very high</td></tr>\n",
       "\t<tr><td>⋮</td><td>⋮</td><td>⋮</td><td>⋮</td><td>⋮</td><td>⋮</td><td>⋮</td></tr>\n",
       "\t<tr><td>Sierra Leone       </td><td>Africa  </td><td>1997</td><td>39.897</td><td>  4578212</td><td>  574.6482</td><td>low      </td></tr>\n",
       "\t<tr><td>Singapore          </td><td>Asia    </td><td>1997</td><td>77.158</td><td>  3802309</td><td>33519.4766</td><td>very high</td></tr>\n",
       "\t<tr><td>Slovak Republic    </td><td>Europe  </td><td>1997</td><td>72.710</td><td>  5383010</td><td>12126.2306</td><td>very high</td></tr>\n",
       "\t<tr><td>Slovenia           </td><td>Europe  </td><td>1997</td><td>75.130</td><td>  2011612</td><td>17161.1073</td><td>very high</td></tr>\n",
       "\t<tr><td>Somalia            </td><td>Africa  </td><td>1997</td><td>43.795</td><td>  6633514</td><td>  930.5964</td><td>low      </td></tr>\n",
       "\t<tr><td>South Africa       </td><td>Africa  </td><td>1997</td><td>60.236</td><td> 42835005</td><td> 7479.1882</td><td>high     </td></tr>\n",
       "\t<tr><td>Spain              </td><td>Europe  </td><td>1997</td><td>78.770</td><td> 39855442</td><td>20445.2990</td><td>very high</td></tr>\n",
       "\t<tr><td>Sri Lanka          </td><td>Asia    </td><td>1997</td><td>70.457</td><td> 18698655</td><td> 2664.4773</td><td>very high</td></tr>\n",
       "\t<tr><td>Sudan              </td><td>Africa  </td><td>1997</td><td>55.373</td><td> 32160729</td><td> 1632.2108</td><td>moderate </td></tr>\n",
       "\t<tr><td>Swaziland          </td><td>Africa  </td><td>1997</td><td>54.289</td><td>  1054486</td><td> 3876.7685</td><td>moderate </td></tr>\n",
       "\t<tr><td>Sweden             </td><td>Europe  </td><td>1997</td><td>79.390</td><td>  8897619</td><td>25266.5950</td><td>very high</td></tr>\n",
       "\t<tr><td>Switzerland        </td><td>Europe  </td><td>1997</td><td>79.370</td><td>  7193761</td><td>32135.3230</td><td>very high</td></tr>\n",
       "\t<tr><td>Syria              </td><td>Asia    </td><td>1997</td><td>71.527</td><td> 15081016</td><td> 4014.2390</td><td>very high</td></tr>\n",
       "\t<tr><td>Taiwan             </td><td>Asia    </td><td>1997</td><td>75.250</td><td> 21628605</td><td>20206.8210</td><td>very high</td></tr>\n",
       "\t<tr><td>Tanzania           </td><td>Africa  </td><td>1997</td><td>48.466</td><td> 30686889</td><td>  789.1862</td><td>moderate </td></tr>\n",
       "\t<tr><td>Thailand           </td><td>Asia    </td><td>1997</td><td>67.521</td><td> 60216677</td><td> 5852.6255</td><td>high     </td></tr>\n",
       "\t<tr><td>Togo               </td><td>Africa  </td><td>1997</td><td>58.390</td><td>  4320890</td><td>  982.2869</td><td>moderate </td></tr>\n",
       "\t<tr><td>Trinidad and Tobago</td><td>Americas</td><td>1997</td><td>69.465</td><td>  1138101</td><td> 8792.5731</td><td>high     </td></tr>\n",
       "\t<tr><td>Tunisia            </td><td>Africa  </td><td>1997</td><td>71.973</td><td>  9231669</td><td> 4876.7986</td><td>very high</td></tr>\n",
       "\t<tr><td>Turkey             </td><td>Europe  </td><td>1997</td><td>68.835</td><td> 63047647</td><td> 6601.4299</td><td>high     </td></tr>\n",
       "\t<tr><td>Uganda             </td><td>Africa  </td><td>1997</td><td>44.578</td><td> 21210254</td><td>  816.5591</td><td>low      </td></tr>\n",
       "\t<tr><td>United Kingdom     </td><td>Europe  </td><td>1997</td><td>77.218</td><td> 58808266</td><td>26074.5314</td><td>very high</td></tr>\n",
       "\t<tr><td>United States      </td><td>Americas</td><td>1997</td><td>76.810</td><td>272911760</td><td>35767.4330</td><td>very high</td></tr>\n",
       "\t<tr><td>Uruguay            </td><td>Americas</td><td>1997</td><td>74.223</td><td>  3262838</td><td> 9230.2407</td><td>very high</td></tr>\n",
       "\t<tr><td>Venezuela          </td><td>Americas</td><td>1997</td><td>72.146</td><td> 22374398</td><td>10165.4952</td><td>very high</td></tr>\n",
       "\t<tr><td>Vietnam            </td><td>Asia    </td><td>1997</td><td>70.672</td><td> 76048996</td><td> 1385.8968</td><td>very high</td></tr>\n",
       "\t<tr><td>West Bank and Gaza </td><td>Asia    </td><td>1997</td><td>71.096</td><td>  2826046</td><td> 7110.6676</td><td>very high</td></tr>\n",
       "\t<tr><td>Yemen, Rep.        </td><td>Asia    </td><td>1997</td><td>58.020</td><td> 15826497</td><td> 2117.4845</td><td>moderate </td></tr>\n",
       "\t<tr><td>Zambia             </td><td>Africa  </td><td>1997</td><td>40.238</td><td>  9417789</td><td> 1071.3538</td><td>low      </td></tr>\n",
       "\t<tr><td>Zimbabwe           </td><td>Africa  </td><td>1997</td><td>46.809</td><td> 11404948</td><td>  792.4500</td><td>low      </td></tr>\n",
       "</tbody>\n",
       "</table>\n"
      ],
      "text/latex": [
       "A tibble: 142 × 7\n",
       "\\begin{tabular}{lllllll}\n",
       " country & continent & year & lifeExp & pop & gdpPercap & life\\_level\\\\\n",
       " <fct> & <fct> & <int> & <dbl> & <int> & <dbl> & <chr>\\\\\n",
       "\\hline\n",
       "\t Afghanistan              & Asia     & 1997 & 41.763 &   22227415 &   635.3414 & low      \\\\\n",
       "\t Albania                  & Europe   & 1997 & 72.950 &    3428038 &  3193.0546 & very high\\\\\n",
       "\t Algeria                  & Africa   & 1997 & 69.152 &   29072015 &  4797.2951 & high     \\\\\n",
       "\t Angola                   & Africa   & 1997 & 40.963 &    9875024 &  2277.1409 & low      \\\\\n",
       "\t Argentina                & Americas & 1997 & 73.275 &   36203463 & 10967.2820 & very high\\\\\n",
       "\t Australia                & Oceania  & 1997 & 78.830 &   18565243 & 26997.9366 & very high\\\\\n",
       "\t Austria                  & Europe   & 1997 & 77.510 &    8069876 & 29095.9207 & very high\\\\\n",
       "\t Bahrain                  & Asia     & 1997 & 73.925 &     598561 & 20292.0168 & very high\\\\\n",
       "\t Bangladesh               & Asia     & 1997 & 59.412 &  123315288 &   972.7700 & high     \\\\\n",
       "\t Belgium                  & Europe   & 1997 & 77.530 &   10199787 & 27561.1966 & very high\\\\\n",
       "\t Benin                    & Africa   & 1997 & 54.777 &    6066080 &  1232.9753 & moderate \\\\\n",
       "\t Bolivia                  & Americas & 1997 & 62.050 &    7693188 &  3326.1432 & high     \\\\\n",
       "\t Bosnia and Herzegovina   & Europe   & 1997 & 73.244 &    3607000 &  4766.3559 & very high\\\\\n",
       "\t Botswana                 & Africa   & 1997 & 52.556 &    1536536 &  8647.1423 & moderate \\\\\n",
       "\t Brazil                   & Americas & 1997 & 69.388 &  168546719 &  7957.9808 & high     \\\\\n",
       "\t Bulgaria                 & Europe   & 1997 & 70.320 &    8066057 &  5970.3888 & very high\\\\\n",
       "\t Burkina Faso             & Africa   & 1997 & 50.324 &   10352843 &   946.2950 & moderate \\\\\n",
       "\t Burundi                  & Africa   & 1997 & 45.326 &    6121610 &   463.1151 & low      \\\\\n",
       "\t Cambodia                 & Asia     & 1997 & 56.534 &   11782962 &   734.2852 & moderate \\\\\n",
       "\t Cameroon                 & Africa   & 1997 & 52.199 &   14195809 &  1694.3375 & moderate \\\\\n",
       "\t Canada                   & Americas & 1997 & 78.610 &   30305843 & 28954.9259 & very high\\\\\n",
       "\t Central African Republic & Africa   & 1997 & 46.066 &    3696513 &   740.5063 & low      \\\\\n",
       "\t Chad                     & Africa   & 1997 & 51.573 &    7562011 &  1004.9614 & moderate \\\\\n",
       "\t Chile                    & Americas & 1997 & 75.816 &   14599929 & 10118.0532 & very high\\\\\n",
       "\t China                    & Asia     & 1997 & 70.426 & 1230075000 &  2289.2341 & very high\\\\\n",
       "\t Colombia                 & Americas & 1997 & 70.313 &   37657830 &  6117.3617 & very high\\\\\n",
       "\t Comoros                  & Africa   & 1997 & 60.660 &     527982 &  1173.6182 & high     \\\\\n",
       "\t Congo, Dem. Rep.         & Africa   & 1997 & 42.587 &   47798986 &   312.1884 & low      \\\\\n",
       "\t Congo, Rep.              & Africa   & 1997 & 52.962 &    2800947 &  3484.1644 & moderate \\\\\n",
       "\t Costa Rica               & Americas & 1997 & 77.260 &    3518107 &  6677.0453 & very high\\\\\n",
       "\t ⋮ & ⋮ & ⋮ & ⋮ & ⋮ & ⋮ & ⋮\\\\\n",
       "\t Sierra Leone        & Africa   & 1997 & 39.897 &   4578212 &   574.6482 & low      \\\\\n",
       "\t Singapore           & Asia     & 1997 & 77.158 &   3802309 & 33519.4766 & very high\\\\\n",
       "\t Slovak Republic     & Europe   & 1997 & 72.710 &   5383010 & 12126.2306 & very high\\\\\n",
       "\t Slovenia            & Europe   & 1997 & 75.130 &   2011612 & 17161.1073 & very high\\\\\n",
       "\t Somalia             & Africa   & 1997 & 43.795 &   6633514 &   930.5964 & low      \\\\\n",
       "\t South Africa        & Africa   & 1997 & 60.236 &  42835005 &  7479.1882 & high     \\\\\n",
       "\t Spain               & Europe   & 1997 & 78.770 &  39855442 & 20445.2990 & very high\\\\\n",
       "\t Sri Lanka           & Asia     & 1997 & 70.457 &  18698655 &  2664.4773 & very high\\\\\n",
       "\t Sudan               & Africa   & 1997 & 55.373 &  32160729 &  1632.2108 & moderate \\\\\n",
       "\t Swaziland           & Africa   & 1997 & 54.289 &   1054486 &  3876.7685 & moderate \\\\\n",
       "\t Sweden              & Europe   & 1997 & 79.390 &   8897619 & 25266.5950 & very high\\\\\n",
       "\t Switzerland         & Europe   & 1997 & 79.370 &   7193761 & 32135.3230 & very high\\\\\n",
       "\t Syria               & Asia     & 1997 & 71.527 &  15081016 &  4014.2390 & very high\\\\\n",
       "\t Taiwan              & Asia     & 1997 & 75.250 &  21628605 & 20206.8210 & very high\\\\\n",
       "\t Tanzania            & Africa   & 1997 & 48.466 &  30686889 &   789.1862 & moderate \\\\\n",
       "\t Thailand            & Asia     & 1997 & 67.521 &  60216677 &  5852.6255 & high     \\\\\n",
       "\t Togo                & Africa   & 1997 & 58.390 &   4320890 &   982.2869 & moderate \\\\\n",
       "\t Trinidad and Tobago & Americas & 1997 & 69.465 &   1138101 &  8792.5731 & high     \\\\\n",
       "\t Tunisia             & Africa   & 1997 & 71.973 &   9231669 &  4876.7986 & very high\\\\\n",
       "\t Turkey              & Europe   & 1997 & 68.835 &  63047647 &  6601.4299 & high     \\\\\n",
       "\t Uganda              & Africa   & 1997 & 44.578 &  21210254 &   816.5591 & low      \\\\\n",
       "\t United Kingdom      & Europe   & 1997 & 77.218 &  58808266 & 26074.5314 & very high\\\\\n",
       "\t United States       & Americas & 1997 & 76.810 & 272911760 & 35767.4330 & very high\\\\\n",
       "\t Uruguay             & Americas & 1997 & 74.223 &   3262838 &  9230.2407 & very high\\\\\n",
       "\t Venezuela           & Americas & 1997 & 72.146 &  22374398 & 10165.4952 & very high\\\\\n",
       "\t Vietnam             & Asia     & 1997 & 70.672 &  76048996 &  1385.8968 & very high\\\\\n",
       "\t West Bank and Gaza  & Asia     & 1997 & 71.096 &   2826046 &  7110.6676 & very high\\\\\n",
       "\t Yemen, Rep.         & Asia     & 1997 & 58.020 &  15826497 &  2117.4845 & moderate \\\\\n",
       "\t Zambia              & Africa   & 1997 & 40.238 &   9417789 &  1071.3538 & low      \\\\\n",
       "\t Zimbabwe            & Africa   & 1997 & 46.809 &  11404948 &   792.4500 & low      \\\\\n",
       "\\end{tabular}\n"
      ],
      "text/markdown": [
       "\n",
       "A tibble: 142 × 7\n",
       "\n",
       "| country &lt;fct&gt; | continent &lt;fct&gt; | year &lt;int&gt; | lifeExp &lt;dbl&gt; | pop &lt;int&gt; | gdpPercap &lt;dbl&gt; | life_level &lt;chr&gt; |\n",
       "|---|---|---|---|---|---|---|\n",
       "| Afghanistan              | Asia     | 1997 | 41.763 |   22227415 |   635.3414 | low       |\n",
       "| Albania                  | Europe   | 1997 | 72.950 |    3428038 |  3193.0546 | very high |\n",
       "| Algeria                  | Africa   | 1997 | 69.152 |   29072015 |  4797.2951 | high      |\n",
       "| Angola                   | Africa   | 1997 | 40.963 |    9875024 |  2277.1409 | low       |\n",
       "| Argentina                | Americas | 1997 | 73.275 |   36203463 | 10967.2820 | very high |\n",
       "| Australia                | Oceania  | 1997 | 78.830 |   18565243 | 26997.9366 | very high |\n",
       "| Austria                  | Europe   | 1997 | 77.510 |    8069876 | 29095.9207 | very high |\n",
       "| Bahrain                  | Asia     | 1997 | 73.925 |     598561 | 20292.0168 | very high |\n",
       "| Bangladesh               | Asia     | 1997 | 59.412 |  123315288 |   972.7700 | high      |\n",
       "| Belgium                  | Europe   | 1997 | 77.530 |   10199787 | 27561.1966 | very high |\n",
       "| Benin                    | Africa   | 1997 | 54.777 |    6066080 |  1232.9753 | moderate  |\n",
       "| Bolivia                  | Americas | 1997 | 62.050 |    7693188 |  3326.1432 | high      |\n",
       "| Bosnia and Herzegovina   | Europe   | 1997 | 73.244 |    3607000 |  4766.3559 | very high |\n",
       "| Botswana                 | Africa   | 1997 | 52.556 |    1536536 |  8647.1423 | moderate  |\n",
       "| Brazil                   | Americas | 1997 | 69.388 |  168546719 |  7957.9808 | high      |\n",
       "| Bulgaria                 | Europe   | 1997 | 70.320 |    8066057 |  5970.3888 | very high |\n",
       "| Burkina Faso             | Africa   | 1997 | 50.324 |   10352843 |   946.2950 | moderate  |\n",
       "| Burundi                  | Africa   | 1997 | 45.326 |    6121610 |   463.1151 | low       |\n",
       "| Cambodia                 | Asia     | 1997 | 56.534 |   11782962 |   734.2852 | moderate  |\n",
       "| Cameroon                 | Africa   | 1997 | 52.199 |   14195809 |  1694.3375 | moderate  |\n",
       "| Canada                   | Americas | 1997 | 78.610 |   30305843 | 28954.9259 | very high |\n",
       "| Central African Republic | Africa   | 1997 | 46.066 |    3696513 |   740.5063 | low       |\n",
       "| Chad                     | Africa   | 1997 | 51.573 |    7562011 |  1004.9614 | moderate  |\n",
       "| Chile                    | Americas | 1997 | 75.816 |   14599929 | 10118.0532 | very high |\n",
       "| China                    | Asia     | 1997 | 70.426 | 1230075000 |  2289.2341 | very high |\n",
       "| Colombia                 | Americas | 1997 | 70.313 |   37657830 |  6117.3617 | very high |\n",
       "| Comoros                  | Africa   | 1997 | 60.660 |     527982 |  1173.6182 | high      |\n",
       "| Congo, Dem. Rep.         | Africa   | 1997 | 42.587 |   47798986 |   312.1884 | low       |\n",
       "| Congo, Rep.              | Africa   | 1997 | 52.962 |    2800947 |  3484.1644 | moderate  |\n",
       "| Costa Rica               | Americas | 1997 | 77.260 |    3518107 |  6677.0453 | very high |\n",
       "| ⋮ | ⋮ | ⋮ | ⋮ | ⋮ | ⋮ | ⋮ |\n",
       "| Sierra Leone        | Africa   | 1997 | 39.897 |   4578212 |   574.6482 | low       |\n",
       "| Singapore           | Asia     | 1997 | 77.158 |   3802309 | 33519.4766 | very high |\n",
       "| Slovak Republic     | Europe   | 1997 | 72.710 |   5383010 | 12126.2306 | very high |\n",
       "| Slovenia            | Europe   | 1997 | 75.130 |   2011612 | 17161.1073 | very high |\n",
       "| Somalia             | Africa   | 1997 | 43.795 |   6633514 |   930.5964 | low       |\n",
       "| South Africa        | Africa   | 1997 | 60.236 |  42835005 |  7479.1882 | high      |\n",
       "| Spain               | Europe   | 1997 | 78.770 |  39855442 | 20445.2990 | very high |\n",
       "| Sri Lanka           | Asia     | 1997 | 70.457 |  18698655 |  2664.4773 | very high |\n",
       "| Sudan               | Africa   | 1997 | 55.373 |  32160729 |  1632.2108 | moderate  |\n",
       "| Swaziland           | Africa   | 1997 | 54.289 |   1054486 |  3876.7685 | moderate  |\n",
       "| Sweden              | Europe   | 1997 | 79.390 |   8897619 | 25266.5950 | very high |\n",
       "| Switzerland         | Europe   | 1997 | 79.370 |   7193761 | 32135.3230 | very high |\n",
       "| Syria               | Asia     | 1997 | 71.527 |  15081016 |  4014.2390 | very high |\n",
       "| Taiwan              | Asia     | 1997 | 75.250 |  21628605 | 20206.8210 | very high |\n",
       "| Tanzania            | Africa   | 1997 | 48.466 |  30686889 |   789.1862 | moderate  |\n",
       "| Thailand            | Asia     | 1997 | 67.521 |  60216677 |  5852.6255 | high      |\n",
       "| Togo                | Africa   | 1997 | 58.390 |   4320890 |   982.2869 | moderate  |\n",
       "| Trinidad and Tobago | Americas | 1997 | 69.465 |   1138101 |  8792.5731 | high      |\n",
       "| Tunisia             | Africa   | 1997 | 71.973 |   9231669 |  4876.7986 | very high |\n",
       "| Turkey              | Europe   | 1997 | 68.835 |  63047647 |  6601.4299 | high      |\n",
       "| Uganda              | Africa   | 1997 | 44.578 |  21210254 |   816.5591 | low       |\n",
       "| United Kingdom      | Europe   | 1997 | 77.218 |  58808266 | 26074.5314 | very high |\n",
       "| United States       | Americas | 1997 | 76.810 | 272911760 | 35767.4330 | very high |\n",
       "| Uruguay             | Americas | 1997 | 74.223 |   3262838 |  9230.2407 | very high |\n",
       "| Venezuela           | Americas | 1997 | 72.146 |  22374398 | 10165.4952 | very high |\n",
       "| Vietnam             | Asia     | 1997 | 70.672 |  76048996 |  1385.8968 | very high |\n",
       "| West Bank and Gaza  | Asia     | 1997 | 71.096 |   2826046 |  7110.6676 | very high |\n",
       "| Yemen, Rep.         | Asia     | 1997 | 58.020 |  15826497 |  2117.4845 | moderate  |\n",
       "| Zambia              | Africa   | 1997 | 40.238 |   9417789 |  1071.3538 | low       |\n",
       "| Zimbabwe            | Africa   | 1997 | 46.809 |  11404948 |   792.4500 | low       |\n",
       "\n"
      ],
      "text/plain": [
       "    country                  continent year lifeExp pop        gdpPercap \n",
       "1   Afghanistan              Asia      1997 41.763    22227415   635.3414\n",
       "2   Albania                  Europe    1997 72.950     3428038  3193.0546\n",
       "3   Algeria                  Africa    1997 69.152    29072015  4797.2951\n",
       "4   Angola                   Africa    1997 40.963     9875024  2277.1409\n",
       "5   Argentina                Americas  1997 73.275    36203463 10967.2820\n",
       "6   Australia                Oceania   1997 78.830    18565243 26997.9366\n",
       "7   Austria                  Europe    1997 77.510     8069876 29095.9207\n",
       "8   Bahrain                  Asia      1997 73.925      598561 20292.0168\n",
       "9   Bangladesh               Asia      1997 59.412   123315288   972.7700\n",
       "10  Belgium                  Europe    1997 77.530    10199787 27561.1966\n",
       "11  Benin                    Africa    1997 54.777     6066080  1232.9753\n",
       "12  Bolivia                  Americas  1997 62.050     7693188  3326.1432\n",
       "13  Bosnia and Herzegovina   Europe    1997 73.244     3607000  4766.3559\n",
       "14  Botswana                 Africa    1997 52.556     1536536  8647.1423\n",
       "15  Brazil                   Americas  1997 69.388   168546719  7957.9808\n",
       "16  Bulgaria                 Europe    1997 70.320     8066057  5970.3888\n",
       "17  Burkina Faso             Africa    1997 50.324    10352843   946.2950\n",
       "18  Burundi                  Africa    1997 45.326     6121610   463.1151\n",
       "19  Cambodia                 Asia      1997 56.534    11782962   734.2852\n",
       "20  Cameroon                 Africa    1997 52.199    14195809  1694.3375\n",
       "21  Canada                   Americas  1997 78.610    30305843 28954.9259\n",
       "22  Central African Republic Africa    1997 46.066     3696513   740.5063\n",
       "23  Chad                     Africa    1997 51.573     7562011  1004.9614\n",
       "24  Chile                    Americas  1997 75.816    14599929 10118.0532\n",
       "25  China                    Asia      1997 70.426  1230075000  2289.2341\n",
       "26  Colombia                 Americas  1997 70.313    37657830  6117.3617\n",
       "27  Comoros                  Africa    1997 60.660      527982  1173.6182\n",
       "28  Congo, Dem. Rep.         Africa    1997 42.587    47798986   312.1884\n",
       "29  Congo, Rep.              Africa    1997 52.962     2800947  3484.1644\n",
       "30  Costa Rica               Americas  1997 77.260     3518107  6677.0453\n",
       "⋮   ⋮                        ⋮         ⋮    ⋮       ⋮          ⋮         \n",
       "113 Sierra Leone             Africa    1997 39.897    4578212    574.6482\n",
       "114 Singapore                Asia      1997 77.158    3802309  33519.4766\n",
       "115 Slovak Republic          Europe    1997 72.710    5383010  12126.2306\n",
       "116 Slovenia                 Europe    1997 75.130    2011612  17161.1073\n",
       "117 Somalia                  Africa    1997 43.795    6633514    930.5964\n",
       "118 South Africa             Africa    1997 60.236   42835005   7479.1882\n",
       "119 Spain                    Europe    1997 78.770   39855442  20445.2990\n",
       "120 Sri Lanka                Asia      1997 70.457   18698655   2664.4773\n",
       "121 Sudan                    Africa    1997 55.373   32160729   1632.2108\n",
       "122 Swaziland                Africa    1997 54.289    1054486   3876.7685\n",
       "123 Sweden                   Europe    1997 79.390    8897619  25266.5950\n",
       "124 Switzerland              Europe    1997 79.370    7193761  32135.3230\n",
       "125 Syria                    Asia      1997 71.527   15081016   4014.2390\n",
       "126 Taiwan                   Asia      1997 75.250   21628605  20206.8210\n",
       "127 Tanzania                 Africa    1997 48.466   30686889    789.1862\n",
       "128 Thailand                 Asia      1997 67.521   60216677   5852.6255\n",
       "129 Togo                     Africa    1997 58.390    4320890    982.2869\n",
       "130 Trinidad and Tobago      Americas  1997 69.465    1138101   8792.5731\n",
       "131 Tunisia                  Africa    1997 71.973    9231669   4876.7986\n",
       "132 Turkey                   Europe    1997 68.835   63047647   6601.4299\n",
       "133 Uganda                   Africa    1997 44.578   21210254    816.5591\n",
       "134 United Kingdom           Europe    1997 77.218   58808266  26074.5314\n",
       "135 United States            Americas  1997 76.810  272911760  35767.4330\n",
       "136 Uruguay                  Americas  1997 74.223    3262838   9230.2407\n",
       "137 Venezuela                Americas  1997 72.146   22374398  10165.4952\n",
       "138 Vietnam                  Asia      1997 70.672   76048996   1385.8968\n",
       "139 West Bank and Gaza       Asia      1997 71.096    2826046   7110.6676\n",
       "140 Yemen, Rep.              Asia      1997 58.020   15826497   2117.4845\n",
       "141 Zambia                   Africa    1997 40.238    9417789   1071.3538\n",
       "142 Zimbabwe                 Africa    1997 46.809   11404948    792.4500\n",
       "    life_level\n",
       "1   low       \n",
       "2   very high \n",
       "3   high      \n",
       "4   low       \n",
       "5   very high \n",
       "6   very high \n",
       "7   very high \n",
       "8   very high \n",
       "9   high      \n",
       "10  very high \n",
       "11  moderate  \n",
       "12  high      \n",
       "13  very high \n",
       "14  moderate  \n",
       "15  high      \n",
       "16  very high \n",
       "17  moderate  \n",
       "18  low       \n",
       "19  moderate  \n",
       "20  moderate  \n",
       "21  very high \n",
       "22  low       \n",
       "23  moderate  \n",
       "24  very high \n",
       "25  very high \n",
       "26  very high \n",
       "27  high      \n",
       "28  low       \n",
       "29  moderate  \n",
       "30  very high \n",
       "⋮   ⋮         \n",
       "113 low       \n",
       "114 very high \n",
       "115 very high \n",
       "116 very high \n",
       "117 low       \n",
       "118 high      \n",
       "119 very high \n",
       "120 very high \n",
       "121 moderate  \n",
       "122 moderate  \n",
       "123 very high \n",
       "124 very high \n",
       "125 very high \n",
       "126 very high \n",
       "127 moderate  \n",
       "128 high      \n",
       "129 moderate  \n",
       "130 high      \n",
       "131 very high \n",
       "132 high      \n",
       "133 low       \n",
       "134 very high \n",
       "135 very high \n",
       "136 very high \n",
       "137 very high \n",
       "138 very high \n",
       "139 very high \n",
       "140 moderate  \n",
       "141 low       \n",
       "142 low       "
      ]
     },
     "metadata": {},
     "output_type": "display_data"
    }
   ],
   "source": [
    "# your code here\n",
    "(gapminder_1997 <- gapminder %>% \n",
    "   filter(year == 1997) %>% \n",
    "   mutate(life_level = case_when(lifeExp < 23 ~ \"very low\",\n",
    "                                 lifeExp < 48 ~ \"low\",\n",
    "                                 lifeExp < 59 ~ \"moderate\",\n",
    "                                 lifeExp < 70 ~ \"high\",\n",
    "                                 TRUE ~ \"very high\")))"
   ]
  },
  {
   "cell_type": "code",
   "execution_count": 7,
   "metadata": {
    "deletable": false,
    "editable": false,
    "nbgrader": {
     "cell_type": "code",
     "checksum": "2a1ed091cada9abdd5955c866a9ba32d",
     "grade": true,
     "grade_id": "cell-f8b2ff75e5097542",
     "locked": true,
     "points": 1,
     "schema_version": 3,
     "solution": false,
     "task": false
    }
   },
   "outputs": [
    {
     "name": "stdout",
     "output_type": "stream",
     "text": [
      "[1] \"Success!\"\n"
     ]
    }
   ],
   "source": [
    "test_that(\"Question 1.1\", expect_known_hash(table(gapminder_1997$life_level), \"3d2e691667d4706e66ce5784bb1d7042\"))\n",
    "print(\"Success!\")"
   ]
  },
  {
   "cell_type": "markdown",
   "metadata": {
    "deletable": false,
    "editable": false,
    "nbgrader": {
     "cell_type": "markdown",
     "checksum": "af7c9397b711bdf93ccabe33eb3c1495",
     "grade": false,
     "grade_id": "cell-5c2f86da93e2a963",
     "locked": true,
     "schema_version": 3,
     "solution": false,
     "task": false
    }
   },
   "source": [
    "We can now plot boxplots for the GDP per capita per level of life expectancy.\n",
    "Run the following code to see the boxplots."
   ]
  },
  {
   "cell_type": "code",
   "execution_count": 8,
   "metadata": {
    "deletable": false,
    "editable": false,
    "nbgrader": {
     "cell_type": "code",
     "checksum": "abfdd14fd9d9daeeedc15d0bde698f4b",
     "grade": false,
     "grade_id": "cell-bb53dd9bcb9f2f82",
     "locked": true,
     "schema_version": 3,
     "solution": false,
     "task": false
    }
   },
   "outputs": [
    {
     "data": {
      "image/png": "[encoded data removed]",
      "text/plain": [
       "plot without title"
      ]
     },
     "metadata": {
      "image/png": {
       "height": 420,
       "width": 420
      }
     },
     "output_type": "display_data"
    }
   ],
   "source": [
    "ggplot(gapminder_1997) + geom_boxplot(aes(x = life_level, y = gdpPercap)) +\n",
    "  labs(y = \"GDP per capita ($)\", x= \"Life expectancy level (years)\") +\n",
    "  ggtitle(\"GDP per capita per Level of Life Expectancy\") +\n",
    "  theme_bw() "
   ]
  },
  {
   "cell_type": "markdown",
   "metadata": {
    "deletable": false,
    "editable": false,
    "nbgrader": {
     "cell_type": "markdown",
     "checksum": "be5275e6baada4ef1e93aa60130756b9",
     "grade": false,
     "grade_id": "cell-95e05c5acbdd7a28",
     "locked": true,
     "schema_version": 3,
     "solution": false,
     "task": false
    }
   },
   "source": [
    "We notice a few oddities here:\n",
    "\n",
    "- It seems that none of the countries had a \"very low\" life-expectancy in 1997. \n",
    "- However, since it was an option in our analysis it should be included in our plot. Right?\n",
    "- Notice also how levels on x-axis are placed in the \"wrong\" order. (in alphabetical order)\n",
    "\n",
    "#### Question 1.2\n",
    "\n",
    "You can correct these issues by explicitly making `life_level` a factor and setting the levels parameter.\n",
    "Create a new data frame as in Question 1.1, but make the column `life_level` a factor with levels ordered from *very low* to *very high*.\n",
    "Store this new data frame in variable `gapminder_1997_fct`.\n",
    "\n",
    "```\n",
    "(gapminder_1997_fct <- gapminder %>% \n",
    "   FILL_THIS_IN(year == 1997) %>% \n",
    "   FILL_THIS_IN(life_level = FILL_THIS_IN(case_when(FILL_THIS_IN < FILL_THIS_IN ~ \"very low\",\n",
    "                                        FILL_THIS_IN < FILL_THIS_IN ~ \"low\",\n",
    "                                        FILL_THIS_IN < FILL_THIS_IN ~ \"moderate\",\n",
    "                                        FILL_THIS_IN < FILL_THIS_IN ~ \"high\",\n",
    "                                        TRUE ~ \"very high\"),\n",
    "                              levels = c('FILL_THIS_IN', 'FILL_THIS_IN', 'FILL_THIS_IN', 'FILL_THIS_IN', 'FILL_THIS_IN'))))\n",
    "```"
   ]
  },
  {
   "cell_type": "code",
   "execution_count": 47,
   "metadata": {
    "deletable": false,
    "lines_to_next_cell": 0,
    "nbgrader": {
     "cell_type": "code",
     "checksum": "ef92716bb6c3bf250e28b9f0209c4df2",
     "grade": false,
     "grade_id": "cell-0f65d0f778ec6287",
     "locked": false,
     "schema_version": 3,
     "solution": true,
     "task": false
    },
    "scrolled": false
   },
   "outputs": [
    {
     "data": {
      "text/html": [
       "<table>\n",
       "<caption>A tibble: 142 × 7</caption>\n",
       "<thead>\n",
       "\t<tr><th scope=col>country</th><th scope=col>continent</th><th scope=col>year</th><th scope=col>lifeExp</th><th scope=col>pop</th><th scope=col>gdpPercap</th><th scope=col>life_level</th></tr>\n",
       "\t<tr><th scope=col>&lt;fct&gt;</th><th scope=col>&lt;fct&gt;</th><th scope=col>&lt;int&gt;</th><th scope=col>&lt;dbl&gt;</th><th scope=col>&lt;int&gt;</th><th scope=col>&lt;dbl&gt;</th><th scope=col>&lt;fct&gt;</th></tr>\n",
       "</thead>\n",
       "<tbody>\n",
       "\t<tr><td>Afghanistan             </td><td>Asia    </td><td>1997</td><td>41.763</td><td>  22227415</td><td>  635.3414</td><td>low      </td></tr>\n",
       "\t<tr><td>Albania                 </td><td>Europe  </td><td>1997</td><td>72.950</td><td>   3428038</td><td> 3193.0546</td><td>very high</td></tr>\n",
       "\t<tr><td>Algeria                 </td><td>Africa  </td><td>1997</td><td>69.152</td><td>  29072015</td><td> 4797.2951</td><td>high     </td></tr>\n",
       "\t<tr><td>Angola                  </td><td>Africa  </td><td>1997</td><td>40.963</td><td>   9875024</td><td> 2277.1409</td><td>low      </td></tr>\n",
       "\t<tr><td>Argentina               </td><td>Americas</td><td>1997</td><td>73.275</td><td>  36203463</td><td>10967.2820</td><td>very high</td></tr>\n",
       "\t<tr><td>Australia               </td><td>Oceania </td><td>1997</td><td>78.830</td><td>  18565243</td><td>26997.9366</td><td>very high</td></tr>\n",
       "\t<tr><td>Austria                 </td><td>Europe  </td><td>1997</td><td>77.510</td><td>   8069876</td><td>29095.9207</td><td>very high</td></tr>\n",
       "\t<tr><td>Bahrain                 </td><td>Asia    </td><td>1997</td><td>73.925</td><td>    598561</td><td>20292.0168</td><td>very high</td></tr>\n",
       "\t<tr><td>Bangladesh              </td><td>Asia    </td><td>1997</td><td>59.412</td><td> 123315288</td><td>  972.7700</td><td>high     </td></tr>\n",
       "\t<tr><td>Belgium                 </td><td>Europe  </td><td>1997</td><td>77.530</td><td>  10199787</td><td>27561.1966</td><td>very high</td></tr>\n",
       "\t<tr><td>Benin                   </td><td>Africa  </td><td>1997</td><td>54.777</td><td>   6066080</td><td> 1232.9753</td><td>moderate </td></tr>\n",
       "\t<tr><td>Bolivia                 </td><td>Americas</td><td>1997</td><td>62.050</td><td>   7693188</td><td> 3326.1432</td><td>high     </td></tr>\n",
       "\t<tr><td>Bosnia and Herzegovina  </td><td>Europe  </td><td>1997</td><td>73.244</td><td>   3607000</td><td> 4766.3559</td><td>very high</td></tr>\n",
       "\t<tr><td>Botswana                </td><td>Africa  </td><td>1997</td><td>52.556</td><td>   1536536</td><td> 8647.1423</td><td>moderate </td></tr>\n",
       "\t<tr><td>Brazil                  </td><td>Americas</td><td>1997</td><td>69.388</td><td> 168546719</td><td> 7957.9808</td><td>high     </td></tr>\n",
       "\t<tr><td>Bulgaria                </td><td>Europe  </td><td>1997</td><td>70.320</td><td>   8066057</td><td> 5970.3888</td><td>very high</td></tr>\n",
       "\t<tr><td>Burkina Faso            </td><td>Africa  </td><td>1997</td><td>50.324</td><td>  10352843</td><td>  946.2950</td><td>moderate </td></tr>\n",
       "\t<tr><td>Burundi                 </td><td>Africa  </td><td>1997</td><td>45.326</td><td>   6121610</td><td>  463.1151</td><td>low      </td></tr>\n",
       "\t<tr><td>Cambodia                </td><td>Asia    </td><td>1997</td><td>56.534</td><td>  11782962</td><td>  734.2852</td><td>moderate </td></tr>\n",
       "\t<tr><td>Cameroon                </td><td>Africa  </td><td>1997</td><td>52.199</td><td>  14195809</td><td> 1694.3375</td><td>moderate </td></tr>\n",
       "\t<tr><td>Canada                  </td><td>Americas</td><td>1997</td><td>78.610</td><td>  30305843</td><td>28954.9259</td><td>very high</td></tr>\n",
       "\t<tr><td>Central African Republic</td><td>Africa  </td><td>1997</td><td>46.066</td><td>   3696513</td><td>  740.5063</td><td>low      </td></tr>\n",
       "\t<tr><td>Chad                    </td><td>Africa  </td><td>1997</td><td>51.573</td><td>   7562011</td><td> 1004.9614</td><td>moderate </td></tr>\n",
       "\t<tr><td>Chile                   </td><td>Americas</td><td>1997</td><td>75.816</td><td>  14599929</td><td>10118.0532</td><td>very high</td></tr>\n",
       "\t<tr><td>China                   </td><td>Asia    </td><td>1997</td><td>70.426</td><td>1230075000</td><td> 2289.2341</td><td>very high</td></tr>\n",
       "\t<tr><td>Colombia                </td><td>Americas</td><td>1997</td><td>70.313</td><td>  37657830</td><td> 6117.3617</td><td>very high</td></tr>\n",
       "\t<tr><td>Comoros                 </td><td>Africa  </td><td>1997</td><td>60.660</td><td>    527982</td><td> 1173.6182</td><td>high     </td></tr>\n",
       "\t<tr><td>Congo, Dem. Rep.        </td><td>Africa  </td><td>1997</td><td>42.587</td><td>  47798986</td><td>  312.1884</td><td>low      </td></tr>\n",
       "\t<tr><td>Congo, Rep.             </td><td>Africa  </td><td>1997</td><td>52.962</td><td>   2800947</td><td> 3484.1644</td><td>moderate </td></tr>\n",
       "\t<tr><td>Costa Rica              </td><td>Americas</td><td>1997</td><td>77.260</td><td>   3518107</td><td> 6677.0453</td><td>very high</td></tr>\n",
       "\t<tr><td>⋮</td><td>⋮</td><td>⋮</td><td>⋮</td><td>⋮</td><td>⋮</td><td>⋮</td></tr>\n",
       "\t<tr><td>Sierra Leone       </td><td>Africa  </td><td>1997</td><td>39.897</td><td>  4578212</td><td>  574.6482</td><td>low      </td></tr>\n",
       "\t<tr><td>Singapore          </td><td>Asia    </td><td>1997</td><td>77.158</td><td>  3802309</td><td>33519.4766</td><td>very high</td></tr>\n",
       "\t<tr><td>Slovak Republic    </td><td>Europe  </td><td>1997</td><td>72.710</td><td>  5383010</td><td>12126.2306</td><td>very high</td></tr>\n",
       "\t<tr><td>Slovenia           </td><td>Europe  </td><td>1997</td><td>75.130</td><td>  2011612</td><td>17161.1073</td><td>very high</td></tr>\n",
       "\t<tr><td>Somalia            </td><td>Africa  </td><td>1997</td><td>43.795</td><td>  6633514</td><td>  930.5964</td><td>low      </td></tr>\n",
       "\t<tr><td>South Africa       </td><td>Africa  </td><td>1997</td><td>60.236</td><td> 42835005</td><td> 7479.1882</td><td>high     </td></tr>\n",
       "\t<tr><td>Spain              </td><td>Europe  </td><td>1997</td><td>78.770</td><td> 39855442</td><td>20445.2990</td><td>very high</td></tr>\n",
       "\t<tr><td>Sri Lanka          </td><td>Asia    </td><td>1997</td><td>70.457</td><td> 18698655</td><td> 2664.4773</td><td>very high</td></tr>\n",
       "\t<tr><td>Sudan              </td><td>Africa  </td><td>1997</td><td>55.373</td><td> 32160729</td><td> 1632.2108</td><td>moderate </td></tr>\n",
       "\t<tr><td>Swaziland          </td><td>Africa  </td><td>1997</td><td>54.289</td><td>  1054486</td><td> 3876.7685</td><td>moderate </td></tr>\n",
       "\t<tr><td>Sweden             </td><td>Europe  </td><td>1997</td><td>79.390</td><td>  8897619</td><td>25266.5950</td><td>very high</td></tr>\n",
       "\t<tr><td>Switzerland        </td><td>Europe  </td><td>1997</td><td>79.370</td><td>  7193761</td><td>32135.3230</td><td>very high</td></tr>\n",
       "\t<tr><td>Syria              </td><td>Asia    </td><td>1997</td><td>71.527</td><td> 15081016</td><td> 4014.2390</td><td>very high</td></tr>\n",
       "\t<tr><td>Taiwan             </td><td>Asia    </td><td>1997</td><td>75.250</td><td> 21628605</td><td>20206.8210</td><td>very high</td></tr>\n",
       "\t<tr><td>Tanzania           </td><td>Africa  </td><td>1997</td><td>48.466</td><td> 30686889</td><td>  789.1862</td><td>moderate </td></tr>\n",
       "\t<tr><td>Thailand           </td><td>Asia    </td><td>1997</td><td>67.521</td><td> 60216677</td><td> 5852.6255</td><td>high     </td></tr>\n",
       "\t<tr><td>Togo               </td><td>Africa  </td><td>1997</td><td>58.390</td><td>  4320890</td><td>  982.2869</td><td>moderate </td></tr>\n",
       "\t<tr><td>Trinidad and Tobago</td><td>Americas</td><td>1997</td><td>69.465</td><td>  1138101</td><td> 8792.5731</td><td>high     </td></tr>\n",
       "\t<tr><td>Tunisia            </td><td>Africa  </td><td>1997</td><td>71.973</td><td>  9231669</td><td> 4876.7986</td><td>very high</td></tr>\n",
       "\t<tr><td>Turkey             </td><td>Europe  </td><td>1997</td><td>68.835</td><td> 63047647</td><td> 6601.4299</td><td>high     </td></tr>\n",
       "\t<tr><td>Uganda             </td><td>Africa  </td><td>1997</td><td>44.578</td><td> 21210254</td><td>  816.5591</td><td>low      </td></tr>\n",
       "\t<tr><td>United Kingdom     </td><td>Europe  </td><td>1997</td><td>77.218</td><td> 58808266</td><td>26074.5314</td><td>very high</td></tr>\n",
       "\t<tr><td>United States      </td><td>Americas</td><td>1997</td><td>76.810</td><td>272911760</td><td>35767.4330</td><td>very high</td></tr>\n",
       "\t<tr><td>Uruguay            </td><td>Americas</td><td>1997</td><td>74.223</td><td>  3262838</td><td> 9230.2407</td><td>very high</td></tr>\n",
       "\t<tr><td>Venezuela          </td><td>Americas</td><td>1997</td><td>72.146</td><td> 22374398</td><td>10165.4952</td><td>very high</td></tr>\n",
       "\t<tr><td>Vietnam            </td><td>Asia    </td><td>1997</td><td>70.672</td><td> 76048996</td><td> 1385.8968</td><td>very high</td></tr>\n",
       "\t<tr><td>West Bank and Gaza </td><td>Asia    </td><td>1997</td><td>71.096</td><td>  2826046</td><td> 7110.6676</td><td>very high</td></tr>\n",
       "\t<tr><td>Yemen, Rep.        </td><td>Asia    </td><td>1997</td><td>58.020</td><td> 15826497</td><td> 2117.4845</td><td>moderate </td></tr>\n",
       "\t<tr><td>Zambia             </td><td>Africa  </td><td>1997</td><td>40.238</td><td>  9417789</td><td> 1071.3538</td><td>low      </td></tr>\n",
       "\t<tr><td>Zimbabwe           </td><td>Africa  </td><td>1997</td><td>46.809</td><td> 11404948</td><td>  792.4500</td><td>low      </td></tr>\n",
       "</tbody>\n",
       "</table>\n"
      ],
      "text/latex": [
       "A tibble: 142 × 7\n",
       "\\begin{tabular}{lllllll}\n",
       " country & continent & year & lifeExp & pop & gdpPercap & life\\_level\\\\\n",
       " <fct> & <fct> & <int> & <dbl> & <int> & <dbl> & <fct>\\\\\n",
       "\\hline\n",
       "\t Afghanistan              & Asia     & 1997 & 41.763 &   22227415 &   635.3414 & low      \\\\\n",
       "\t Albania                  & Europe   & 1997 & 72.950 &    3428038 &  3193.0546 & very high\\\\\n",
       "\t Algeria                  & Africa   & 1997 & 69.152 &   29072015 &  4797.2951 & high     \\\\\n",
       "\t Angola                   & Africa   & 1997 & 40.963 &    9875024 &  2277.1409 & low      \\\\\n",
       "\t Argentina                & Americas & 1997 & 73.275 &   36203463 & 10967.2820 & very high\\\\\n",
       "\t Australia                & Oceania  & 1997 & 78.830 &   18565243 & 26997.9366 & very high\\\\\n",
       "\t Austria                  & Europe   & 1997 & 77.510 &    8069876 & 29095.9207 & very high\\\\\n",
       "\t Bahrain                  & Asia     & 1997 & 73.925 &     598561 & 20292.0168 & very high\\\\\n",
       "\t Bangladesh               & Asia     & 1997 & 59.412 &  123315288 &   972.7700 & high     \\\\\n",
       "\t Belgium                  & Europe   & 1997 & 77.530 &   10199787 & 27561.1966 & very high\\\\\n",
       "\t Benin                    & Africa   & 1997 & 54.777 &    6066080 &  1232.9753 & moderate \\\\\n",
       "\t Bolivia                  & Americas & 1997 & 62.050 &    7693188 &  3326.1432 & high     \\\\\n",
       "\t Bosnia and Herzegovina   & Europe   & 1997 & 73.244 &    3607000 &  4766.3559 & very high\\\\\n",
       "\t Botswana                 & Africa   & 1997 & 52.556 &    1536536 &  8647.1423 & moderate \\\\\n",
       "\t Brazil                   & Americas & 1997 & 69.388 &  168546719 &  7957.9808 & high     \\\\\n",
       "\t Bulgaria                 & Europe   & 1997 & 70.320 &    8066057 &  5970.3888 & very high\\\\\n",
       "\t Burkina Faso             & Africa   & 1997 & 50.324 &   10352843 &   946.2950 & moderate \\\\\n",
       "\t Burundi                  & Africa   & 1997 & 45.326 &    6121610 &   463.1151 & low      \\\\\n",
       "\t Cambodia                 & Asia     & 1997 & 56.534 &   11782962 &   734.2852 & moderate \\\\\n",
       "\t Cameroon                 & Africa   & 1997 & 52.199 &   14195809 &  1694.3375 & moderate \\\\\n",
       "\t Canada                   & Americas & 1997 & 78.610 &   30305843 & 28954.9259 & very high\\\\\n",
       "\t Central African Republic & Africa   & 1997 & 46.066 &    3696513 &   740.5063 & low      \\\\\n",
       "\t Chad                     & Africa   & 1997 & 51.573 &    7562011 &  1004.9614 & moderate \\\\\n",
       "\t Chile                    & Americas & 1997 & 75.816 &   14599929 & 10118.0532 & very high\\\\\n",
       "\t China                    & Asia     & 1997 & 70.426 & 1230075000 &  2289.2341 & very high\\\\\n",
       "\t Colombia                 & Americas & 1997 & 70.313 &   37657830 &  6117.3617 & very high\\\\\n",
       "\t Comoros                  & Africa   & 1997 & 60.660 &     527982 &  1173.6182 & high     \\\\\n",
       "\t Congo, Dem. Rep.         & Africa   & 1997 & 42.587 &   47798986 &   312.1884 & low      \\\\\n",
       "\t Congo, Rep.              & Africa   & 1997 & 52.962 &    2800947 &  3484.1644 & moderate \\\\\n",
       "\t Costa Rica               & Americas & 1997 & 77.260 &    3518107 &  6677.0453 & very high\\\\\n",
       "\t ⋮ & ⋮ & ⋮ & ⋮ & ⋮ & ⋮ & ⋮\\\\\n",
       "\t Sierra Leone        & Africa   & 1997 & 39.897 &   4578212 &   574.6482 & low      \\\\\n",
       "\t Singapore           & Asia     & 1997 & 77.158 &   3802309 & 33519.4766 & very high\\\\\n",
       "\t Slovak Republic     & Europe   & 1997 & 72.710 &   5383010 & 12126.2306 & very high\\\\\n",
       "\t Slovenia            & Europe   & 1997 & 75.130 &   2011612 & 17161.1073 & very high\\\\\n",
       "\t Somalia             & Africa   & 1997 & 43.795 &   6633514 &   930.5964 & low      \\\\\n",
       "\t South Africa        & Africa   & 1997 & 60.236 &  42835005 &  7479.1882 & high     \\\\\n",
       "\t Spain               & Europe   & 1997 & 78.770 &  39855442 & 20445.2990 & very high\\\\\n",
       "\t Sri Lanka           & Asia     & 1997 & 70.457 &  18698655 &  2664.4773 & very high\\\\\n",
       "\t Sudan               & Africa   & 1997 & 55.373 &  32160729 &  1632.2108 & moderate \\\\\n",
       "\t Swaziland           & Africa   & 1997 & 54.289 &   1054486 &  3876.7685 & moderate \\\\\n",
       "\t Sweden              & Europe   & 1997 & 79.390 &   8897619 & 25266.5950 & very high\\\\\n",
       "\t Switzerland         & Europe   & 1997 & 79.370 &   7193761 & 32135.3230 & very high\\\\\n",
       "\t Syria               & Asia     & 1997 & 71.527 &  15081016 &  4014.2390 & very high\\\\\n",
       "\t Taiwan              & Asia     & 1997 & 75.250 &  21628605 & 20206.8210 & very high\\\\\n",
       "\t Tanzania            & Africa   & 1997 & 48.466 &  30686889 &   789.1862 & moderate \\\\\n",
       "\t Thailand            & Asia     & 1997 & 67.521 &  60216677 &  5852.6255 & high     \\\\\n",
       "\t Togo                & Africa   & 1997 & 58.390 &   4320890 &   982.2869 & moderate \\\\\n",
       "\t Trinidad and Tobago & Americas & 1997 & 69.465 &   1138101 &  8792.5731 & high     \\\\\n",
       "\t Tunisia             & Africa   & 1997 & 71.973 &   9231669 &  4876.7986 & very high\\\\\n",
       "\t Turkey              & Europe   & 1997 & 68.835 &  63047647 &  6601.4299 & high     \\\\\n",
       "\t Uganda              & Africa   & 1997 & 44.578 &  21210254 &   816.5591 & low      \\\\\n",
       "\t United Kingdom      & Europe   & 1997 & 77.218 &  58808266 & 26074.5314 & very high\\\\\n",
       "\t United States       & Americas & 1997 & 76.810 & 272911760 & 35767.4330 & very high\\\\\n",
       "\t Uruguay             & Americas & 1997 & 74.223 &   3262838 &  9230.2407 & very high\\\\\n",
       "\t Venezuela           & Americas & 1997 & 72.146 &  22374398 & 10165.4952 & very high\\\\\n",
       "\t Vietnam             & Asia     & 1997 & 70.672 &  76048996 &  1385.8968 & very high\\\\\n",
       "\t West Bank and Gaza  & Asia     & 1997 & 71.096 &   2826046 &  7110.6676 & very high\\\\\n",
       "\t Yemen, Rep.         & Asia     & 1997 & 58.020 &  15826497 &  2117.4845 & moderate \\\\\n",
       "\t Zambia              & Africa   & 1997 & 40.238 &   9417789 &  1071.3538 & low      \\\\\n",
       "\t Zimbabwe            & Africa   & 1997 & 46.809 &  11404948 &   792.4500 & low      \\\\\n",
       "\\end{tabular}\n"
      ],
      "text/markdown": [
       "\n",
       "A tibble: 142 × 7\n",
       "\n",
       "| country &lt;fct&gt; | continent &lt;fct&gt; | year &lt;int&gt; | lifeExp &lt;dbl&gt; | pop &lt;int&gt; | gdpPercap &lt;dbl&gt; | life_level &lt;fct&gt; |\n",
       "|---|---|---|---|---|---|---|\n",
       "| Afghanistan              | Asia     | 1997 | 41.763 |   22227415 |   635.3414 | low       |\n",
       "| Albania                  | Europe   | 1997 | 72.950 |    3428038 |  3193.0546 | very high |\n",
       "| Algeria                  | Africa   | 1997 | 69.152 |   29072015 |  4797.2951 | high      |\n",
       "| Angola                   | Africa   | 1997 | 40.963 |    9875024 |  2277.1409 | low       |\n",
       "| Argentina                | Americas | 1997 | 73.275 |   36203463 | 10967.2820 | very high |\n",
       "| Australia                | Oceania  | 1997 | 78.830 |   18565243 | 26997.9366 | very high |\n",
       "| Austria                  | Europe   | 1997 | 77.510 |    8069876 | 29095.9207 | very high |\n",
       "| Bahrain                  | Asia     | 1997 | 73.925 |     598561 | 20292.0168 | very high |\n",
       "| Bangladesh               | Asia     | 1997 | 59.412 |  123315288 |   972.7700 | high      |\n",
       "| Belgium                  | Europe   | 1997 | 77.530 |   10199787 | 27561.1966 | very high |\n",
       "| Benin                    | Africa   | 1997 | 54.777 |    6066080 |  1232.9753 | moderate  |\n",
       "| Bolivia                  | Americas | 1997 | 62.050 |    7693188 |  3326.1432 | high      |\n",
       "| Bosnia and Herzegovina   | Europe   | 1997 | 73.244 |    3607000 |  4766.3559 | very high |\n",
       "| Botswana                 | Africa   | 1997 | 52.556 |    1536536 |  8647.1423 | moderate  |\n",
       "| Brazil                   | Americas | 1997 | 69.388 |  168546719 |  7957.9808 | high      |\n",
       "| Bulgaria                 | Europe   | 1997 | 70.320 |    8066057 |  5970.3888 | very high |\n",
       "| Burkina Faso             | Africa   | 1997 | 50.324 |   10352843 |   946.2950 | moderate  |\n",
       "| Burundi                  | Africa   | 1997 | 45.326 |    6121610 |   463.1151 | low       |\n",
       "| Cambodia                 | Asia     | 1997 | 56.534 |   11782962 |   734.2852 | moderate  |\n",
       "| Cameroon                 | Africa   | 1997 | 52.199 |   14195809 |  1694.3375 | moderate  |\n",
       "| Canada                   | Americas | 1997 | 78.610 |   30305843 | 28954.9259 | very high |\n",
       "| Central African Republic | Africa   | 1997 | 46.066 |    3696513 |   740.5063 | low       |\n",
       "| Chad                     | Africa   | 1997 | 51.573 |    7562011 |  1004.9614 | moderate  |\n",
       "| Chile                    | Americas | 1997 | 75.816 |   14599929 | 10118.0532 | very high |\n",
       "| China                    | Asia     | 1997 | 70.426 | 1230075000 |  2289.2341 | very high |\n",
       "| Colombia                 | Americas | 1997 | 70.313 |   37657830 |  6117.3617 | very high |\n",
       "| Comoros                  | Africa   | 1997 | 60.660 |     527982 |  1173.6182 | high      |\n",
       "| Congo, Dem. Rep.         | Africa   | 1997 | 42.587 |   47798986 |   312.1884 | low       |\n",
       "| Congo, Rep.              | Africa   | 1997 | 52.962 |    2800947 |  3484.1644 | moderate  |\n",
       "| Costa Rica               | Americas | 1997 | 77.260 |    3518107 |  6677.0453 | very high |\n",
       "| ⋮ | ⋮ | ⋮ | ⋮ | ⋮ | ⋮ | ⋮ |\n",
       "| Sierra Leone        | Africa   | 1997 | 39.897 |   4578212 |   574.6482 | low       |\n",
       "| Singapore           | Asia     | 1997 | 77.158 |   3802309 | 33519.4766 | very high |\n",
       "| Slovak Republic     | Europe   | 1997 | 72.710 |   5383010 | 12126.2306 | very high |\n",
       "| Slovenia            | Europe   | 1997 | 75.130 |   2011612 | 17161.1073 | very high |\n",
       "| Somalia             | Africa   | 1997 | 43.795 |   6633514 |   930.5964 | low       |\n",
       "| South Africa        | Africa   | 1997 | 60.236 |  42835005 |  7479.1882 | high      |\n",
       "| Spain               | Europe   | 1997 | 78.770 |  39855442 | 20445.2990 | very high |\n",
       "| Sri Lanka           | Asia     | 1997 | 70.457 |  18698655 |  2664.4773 | very high |\n",
       "| Sudan               | Africa   | 1997 | 55.373 |  32160729 |  1632.2108 | moderate  |\n",
       "| Swaziland           | Africa   | 1997 | 54.289 |   1054486 |  3876.7685 | moderate  |\n",
       "| Sweden              | Europe   | 1997 | 79.390 |   8897619 | 25266.5950 | very high |\n",
       "| Switzerland         | Europe   | 1997 | 79.370 |   7193761 | 32135.3230 | very high |\n",
       "| Syria               | Asia     | 1997 | 71.527 |  15081016 |  4014.2390 | very high |\n",
       "| Taiwan              | Asia     | 1997 | 75.250 |  21628605 | 20206.8210 | very high |\n",
       "| Tanzania            | Africa   | 1997 | 48.466 |  30686889 |   789.1862 | moderate  |\n",
       "| Thailand            | Asia     | 1997 | 67.521 |  60216677 |  5852.6255 | high      |\n",
       "| Togo                | Africa   | 1997 | 58.390 |   4320890 |   982.2869 | moderate  |\n",
       "| Trinidad and Tobago | Americas | 1997 | 69.465 |   1138101 |  8792.5731 | high      |\n",
       "| Tunisia             | Africa   | 1997 | 71.973 |   9231669 |  4876.7986 | very high |\n",
       "| Turkey              | Europe   | 1997 | 68.835 |  63047647 |  6601.4299 | high      |\n",
       "| Uganda              | Africa   | 1997 | 44.578 |  21210254 |   816.5591 | low       |\n",
       "| United Kingdom      | Europe   | 1997 | 77.218 |  58808266 | 26074.5314 | very high |\n",
       "| United States       | Americas | 1997 | 76.810 | 272911760 | 35767.4330 | very high |\n",
       "| Uruguay             | Americas | 1997 | 74.223 |   3262838 |  9230.2407 | very high |\n",
       "| Venezuela           | Americas | 1997 | 72.146 |  22374398 | 10165.4952 | very high |\n",
       "| Vietnam             | Asia     | 1997 | 70.672 |  76048996 |  1385.8968 | very high |\n",
       "| West Bank and Gaza  | Asia     | 1997 | 71.096 |   2826046 |  7110.6676 | very high |\n",
       "| Yemen, Rep.         | Asia     | 1997 | 58.020 |  15826497 |  2117.4845 | moderate  |\n",
       "| Zambia              | Africa   | 1997 | 40.238 |   9417789 |  1071.3538 | low       |\n",
       "| Zimbabwe            | Africa   | 1997 | 46.809 |  11404948 |   792.4500 | low       |\n",
       "\n"
      ],
      "text/plain": [
       "    country                  continent year lifeExp pop        gdpPercap \n",
       "1   Afghanistan              Asia      1997 41.763    22227415   635.3414\n",
       "2   Albania                  Europe    1997 72.950     3428038  3193.0546\n",
       "3   Algeria                  Africa    1997 69.152    29072015  4797.2951\n",
       "4   Angola                   Africa    1997 40.963     9875024  2277.1409\n",
       "5   Argentina                Americas  1997 73.275    36203463 10967.2820\n",
       "6   Australia                Oceania   1997 78.830    18565243 26997.9366\n",
       "7   Austria                  Europe    1997 77.510     8069876 29095.9207\n",
       "8   Bahrain                  Asia      1997 73.925      598561 20292.0168\n",
       "9   Bangladesh               Asia      1997 59.412   123315288   972.7700\n",
       "10  Belgium                  Europe    1997 77.530    10199787 27561.1966\n",
       "11  Benin                    Africa    1997 54.777     6066080  1232.9753\n",
       "12  Bolivia                  Americas  1997 62.050     7693188  3326.1432\n",
       "13  Bosnia and Herzegovina   Europe    1997 73.244     3607000  4766.3559\n",
       "14  Botswana                 Africa    1997 52.556     1536536  8647.1423\n",
       "15  Brazil                   Americas  1997 69.388   168546719  7957.9808\n",
       "16  Bulgaria                 Europe    1997 70.320     8066057  5970.3888\n",
       "17  Burkina Faso             Africa    1997 50.324    10352843   946.2950\n",
       "18  Burundi                  Africa    1997 45.326     6121610   463.1151\n",
       "19  Cambodia                 Asia      1997 56.534    11782962   734.2852\n",
       "20  Cameroon                 Africa    1997 52.199    14195809  1694.3375\n",
       "21  Canada                   Americas  1997 78.610    30305843 28954.9259\n",
       "22  Central African Republic Africa    1997 46.066     3696513   740.5063\n",
       "23  Chad                     Africa    1997 51.573     7562011  1004.9614\n",
       "24  Chile                    Americas  1997 75.816    14599929 10118.0532\n",
       "25  China                    Asia      1997 70.426  1230075000  2289.2341\n",
       "26  Colombia                 Americas  1997 70.313    37657830  6117.3617\n",
       "27  Comoros                  Africa    1997 60.660      527982  1173.6182\n",
       "28  Congo, Dem. Rep.         Africa    1997 42.587    47798986   312.1884\n",
       "29  Congo, Rep.              Africa    1997 52.962     2800947  3484.1644\n",
       "30  Costa Rica               Americas  1997 77.260     3518107  6677.0453\n",
       "⋮   ⋮                        ⋮         ⋮    ⋮       ⋮          ⋮         \n",
       "113 Sierra Leone             Africa    1997 39.897    4578212    574.6482\n",
       "114 Singapore                Asia      1997 77.158    3802309  33519.4766\n",
       "115 Slovak Republic          Europe    1997 72.710    5383010  12126.2306\n",
       "116 Slovenia                 Europe    1997 75.130    2011612  17161.1073\n",
       "117 Somalia                  Africa    1997 43.795    6633514    930.5964\n",
       "118 South Africa             Africa    1997 60.236   42835005   7479.1882\n",
       "119 Spain                    Europe    1997 78.770   39855442  20445.2990\n",
       "120 Sri Lanka                Asia      1997 70.457   18698655   2664.4773\n",
       "121 Sudan                    Africa    1997 55.373   32160729   1632.2108\n",
       "122 Swaziland                Africa    1997 54.289    1054486   3876.7685\n",
       "123 Sweden                   Europe    1997 79.390    8897619  25266.5950\n",
       "124 Switzerland              Europe    1997 79.370    7193761  32135.3230\n",
       "125 Syria                    Asia      1997 71.527   15081016   4014.2390\n",
       "126 Taiwan                   Asia      1997 75.250   21628605  20206.8210\n",
       "127 Tanzania                 Africa    1997 48.466   30686889    789.1862\n",
       "128 Thailand                 Asia      1997 67.521   60216677   5852.6255\n",
       "129 Togo                     Africa    1997 58.390    4320890    982.2869\n",
       "130 Trinidad and Tobago      Americas  1997 69.465    1138101   8792.5731\n",
       "131 Tunisia                  Africa    1997 71.973    9231669   4876.7986\n",
       "132 Turkey                   Europe    1997 68.835   63047647   6601.4299\n",
       "133 Uganda                   Africa    1997 44.578   21210254    816.5591\n",
       "134 United Kingdom           Europe    1997 77.218   58808266  26074.5314\n",
       "135 United States            Americas  1997 76.810  272911760  35767.4330\n",
       "136 Uruguay                  Americas  1997 74.223    3262838   9230.2407\n",
       "137 Venezuela                Americas  1997 72.146   22374398  10165.4952\n",
       "138 Vietnam                  Asia      1997 70.672   76048996   1385.8968\n",
       "139 West Bank and Gaza       Asia      1997 71.096    2826046   7110.6676\n",
       "140 Yemen, Rep.              Asia      1997 58.020   15826497   2117.4845\n",
       "141 Zambia                   Africa    1997 40.238    9417789   1071.3538\n",
       "142 Zimbabwe                 Africa    1997 46.809   11404948    792.4500\n",
       "    life_level\n",
       "1   low       \n",
       "2   very high \n",
       "3   high      \n",
       "4   low       \n",
       "5   very high \n",
       "6   very high \n",
       "7   very high \n",
       "8   very high \n",
       "9   high      \n",
       "10  very high \n",
       "11  moderate  \n",
       "12  high      \n",
       "13  very high \n",
       "14  moderate  \n",
       "15  high      \n",
       "16  very high \n",
       "17  moderate  \n",
       "18  low       \n",
       "19  moderate  \n",
       "20  moderate  \n",
       "21  very high \n",
       "22  low       \n",
       "23  moderate  \n",
       "24  very high \n",
       "25  very high \n",
       "26  very high \n",
       "27  high      \n",
       "28  low       \n",
       "29  moderate  \n",
       "30  very high \n",
       "⋮   ⋮         \n",
       "113 low       \n",
       "114 very high \n",
       "115 very high \n",
       "116 very high \n",
       "117 low       \n",
       "118 high      \n",
       "119 very high \n",
       "120 very high \n",
       "121 moderate  \n",
       "122 moderate  \n",
       "123 very high \n",
       "124 very high \n",
       "125 very high \n",
       "126 very high \n",
       "127 moderate  \n",
       "128 high      \n",
       "129 moderate  \n",
       "130 high      \n",
       "131 very high \n",
       "132 high      \n",
       "133 low       \n",
       "134 very high \n",
       "135 very high \n",
       "136 very high \n",
       "137 very high \n",
       "138 very high \n",
       "139 very high \n",
       "140 moderate  \n",
       "141 low       \n",
       "142 low       "
      ]
     },
     "metadata": {},
     "output_type": "display_data"
    }
   ],
   "source": [
    "# your code here\n",
    "\n",
    "(gapminder_1997_fct <- gapminder %>% \n",
    "   filter(year == 1997) %>% \n",
    "   mutate(life_level = factor(case_when(lifeExp < 23 ~ \"very low\",\n",
    "                                 lifeExp < 48 ~ \"low\",\n",
    "                                 lifeExp < 59 ~ \"moderate\",\n",
    "                                 lifeExp < 70 ~ \"high\",\n",
    "                                 TRUE ~ \"very high\"),\n",
    "                              levels = c(\"very low\", \"low\", \"moderate\", \"high\", \"very high\"))))"
   ]
  },
  {
   "cell_type": "code",
   "execution_count": 48,
   "metadata": {
    "deletable": false,
    "editable": false,
    "nbgrader": {
     "cell_type": "code",
     "checksum": "58e896a94b23f0031ff68d3797ea3376",
     "grade": true,
     "grade_id": "cell-8448390b94500381",
     "locked": true,
     "points": 1,
     "schema_version": 3,
     "solution": false,
     "task": false
    }
   },
   "outputs": [
    {
     "name": "stdout",
     "output_type": "stream",
     "text": [
      "[1] \"Success!\"\n"
     ]
    }
   ],
   "source": [
    "test_that(\"Question 1.2\", expect_known_hash(table(gapminder_1997_fct$life_level), \"8e62f09fbd0756d7e69d1bc95715d333\"))\n",
    "print(\"Success!\")"
   ]
  },
  {
   "cell_type": "markdown",
   "metadata": {
    "deletable": false,
    "editable": false,
    "nbgrader": {
     "cell_type": "markdown",
     "checksum": "79159e2f1e076a32d34245013baeb8c8",
     "grade": false,
     "grade_id": "cell-ab66c1758a1353d7",
     "locked": true,
     "schema_version": 3,
     "solution": false,
     "task": false
    }
   },
   "source": [
    "Run the following code to see the boxplots from the new data frame with life expectancy level as factor."
   ]
  },
  {
   "cell_type": "code",
   "execution_count": 49,
   "metadata": {
    "deletable": false,
    "editable": false,
    "lines_to_next_cell": 2,
    "nbgrader": {
     "cell_type": "code",
     "checksum": "49428ed049346010159818eab9a71a9d",
     "grade": false,
     "grade_id": "cell-a660106ec5a2bf52",
     "locked": true,
     "schema_version": 3,
     "solution": false,
     "task": false
    }
   },
   "outputs": [
    {
     "data": {
      "image/png": "[encoded data removed]",
      "text/plain": [
       "plot without title"
      ]
     },
     "metadata": {
      "image/png": {
       "height": 420,
       "width": 420
      }
     },
     "output_type": "display_data"
    }
   ],
   "source": [
    "ggplot(gapminder_1997_fct) + geom_boxplot(aes(x = life_level, y = gdpPercap)) +\n",
    "  labs(y = \"GDP per capita ($)\", x= \"Life expectancy level (years)\") +\n",
    "  scale_x_discrete(drop = FALSE) + # Don't drop the very low factor\n",
    "  ggtitle(\"GDP per capita per level of Life Expectancy\") +\n",
    "  theme_bw() "
   ]
  },
  {
   "cell_type": "markdown",
   "metadata": {
    "deletable": false,
    "editable": false,
    "nbgrader": {
     "cell_type": "markdown",
     "checksum": "48beba5ff36af2b9f488f886cc719647",
     "grade": false,
     "grade_id": "cell-d2c47ea01eefe9d8",
     "locked": true,
     "schema_version": 3,
     "solution": false,
     "task": false
    }
   },
   "source": [
    "### Question 2: Inspecting Factors\n",
    "\n",
    "In Question 1, you created our own factors, so now let's explore what categorical variables are in the `gapminder` dataset.\n",
    "\n",
    "#### Question 2.1\n",
    "\n",
    "What levels does the column `continent` have?\n",
    "Assign the levels to variable `continent_levels`.\n",
    "\n",
    "```\n",
    "(continent_levels <- FILL_THIS_IN(gapminder$FILL_THIS_IN))\n",
    "```"
   ]
  },
  {
   "cell_type": "code",
   "execution_count": 50,
   "metadata": {
    "deletable": false,
    "lines_to_next_cell": 0,
    "nbgrader": {
     "cell_type": "code",
     "checksum": "7be5618c3256dd82efd204024798f8cb",
     "grade": false,
     "grade_id": "cell-537277f01997b17c",
     "locked": false,
     "schema_version": 3,
     "solution": true,
     "task": false
    }
   },
   "outputs": [
    {
     "data": {
      "text/html": [
       "<style>\n",
       ".list-inline {list-style: none; margin:0; padding: 0}\n",
       ".list-inline>li {display: inline-block}\n",
       ".list-inline>li:not(:last-child)::after {content: \"\\00b7\"; padding: 0 .5ex}\n",
       "</style>\n",
       "<ol class=list-inline><li>'Africa'</li><li>'Americas'</li><li>'Asia'</li><li>'Europe'</li><li>'Oceania'</li></ol>\n"
      ],
      "text/latex": [
       "\\begin{enumerate*}\n",
       "\\item 'Africa'\n",
       "\\item 'Americas'\n",
       "\\item 'Asia'\n",
       "\\item 'Europe'\n",
       "\\item 'Oceania'\n",
       "\\end{enumerate*}\n"
      ],
      "text/markdown": [
       "1. 'Africa'\n",
       "2. 'Americas'\n",
       "3. 'Asia'\n",
       "4. 'Europe'\n",
       "5. 'Oceania'\n",
       "\n",
       "\n"
      ],
      "text/plain": [
       "[1] \"Africa\"   \"Americas\" \"Asia\"     \"Europe\"   \"Oceania\" "
      ]
     },
     "metadata": {},
     "output_type": "display_data"
    }
   ],
   "source": [
    "# your code here\n",
    "(continent_levels <- levels(gapminder$continent))"
   ]
  },
  {
   "cell_type": "code",
   "execution_count": 51,
   "metadata": {
    "deletable": false,
    "editable": false,
    "nbgrader": {
     "cell_type": "code",
     "checksum": "39710dae00ba2b3046ffdc029ed8a589",
     "grade": true,
     "grade_id": "cell-5aacbda4d51ef339",
     "locked": true,
     "points": 1,
     "schema_version": 3,
     "solution": false,
     "task": false
    }
   },
   "outputs": [
    {
     "name": "stdout",
     "output_type": "stream",
     "text": [
      "[1] \"Success!\"\n"
     ]
    }
   ],
   "source": [
    "test_that(\"Question 2.1\", expect_known_hash(continent_levels, \"6926255b7f073fb8e7d89773802102a6\"))\n",
    "print(\"Success!\")"
   ]
  },
  {
   "cell_type": "markdown",
   "metadata": {
    "deletable": false,
    "editable": false,
    "nbgrader": {
     "cell_type": "markdown",
     "checksum": "52acc96a11d61046225e144de3318c37",
     "grade": false,
     "grade_id": "cell-49df2e07dc37ef51",
     "locked": true,
     "schema_version": 3,
     "solution": false,
     "task": false
    }
   },
   "source": [
    "#### Question 2.2\n",
    "\n",
    "How many levels does the column `country` have?\n",
    "Assign the number of levels to variable `gap_nr_countries`.\n",
    "\n",
    "```\n",
    "(gap_nr_countries <- FILL_THIS_IN(gapminder$FILL_THIS_IN))\n",
    "```"
   ]
  },
  {
   "cell_type": "code",
   "execution_count": 56,
   "metadata": {
    "deletable": false,
    "lines_to_next_cell": 0,
    "nbgrader": {
     "cell_type": "code",
     "checksum": "ad6a8549874c86a85b1e4d341e4cecbe",
     "grade": false,
     "grade_id": "cell-b79dc64b081f578c",
     "locked": false,
     "schema_version": 3,
     "solution": true,
     "task": false
    }
   },
   "outputs": [
    {
     "data": {
      "text/html": [
       "142"
      ],
      "text/latex": [
       "142"
      ],
      "text/markdown": [
       "142"
      ],
      "text/plain": [
       "[1] 142"
      ]
     },
     "metadata": {},
     "output_type": "display_data"
    }
   ],
   "source": [
    "# your code here\n",
    "(gap_nr_countries <- nlevels(gapminder$country))"
   ]
  },
  {
   "cell_type": "code",
   "execution_count": 57,
   "metadata": {
    "deletable": false,
    "editable": false,
    "nbgrader": {
     "cell_type": "code",
     "checksum": "eba54a314a172e8b4f77cdd71082f6ee",
     "grade": true,
     "grade_id": "cell-e34eff454c51eedd",
     "locked": true,
     "points": 1,
     "schema_version": 3,
     "solution": false,
     "task": false
    }
   },
   "outputs": [
    {
     "name": "stdout",
     "output_type": "stream",
     "text": [
      "[1] \"Success!\"\n"
     ]
    }
   ],
   "source": [
    "test_that(\"Question 2.2\", expect_known_hash(as.integer(gap_nr_countries), \"3b6d002135d8d45a3c5f4a9fb857c323\"))\n",
    "print(\"Success!\")"
   ]
  },
  {
   "cell_type": "markdown",
   "metadata": {
    "deletable": false,
    "editable": false,
    "nbgrader": {
     "cell_type": "markdown",
     "checksum": "ba1cbdb928d68127531bfd95a1c7da1a",
     "grade": false,
     "grade_id": "cell-6fe136fd3a220c57",
     "locked": true,
     "schema_version": 3,
     "solution": false,
     "task": false
    }
   },
   "source": [
    "#### Question 2.3\n",
    "\n",
    "Consider we are only interested in the following 5 countries: Egypt, Haiti, Romania, Thailand, and Venezuela.\n",
    "Create a new data frame with only these 5 countries and store it in variable `gap_5`.\n",
    "\n",
    "```\n",
    "(gap_5 <- gapminder %>%\n",
    "   FILL_THIS_IN(FILL_THIS_IN %in% c(\"FILL_THIS_IN\", \"FILL_THIS_IN\", \"FILL_THIS_IN\", \"FILL_THIS_IN\", \"FILL_THIS_IN\")))\n",
    "```"
   ]
  },
  {
   "cell_type": "code",
   "execution_count": 59,
   "metadata": {
    "deletable": false,
    "lines_to_next_cell": 0,
    "nbgrader": {
     "cell_type": "code",
     "checksum": "edf205a866e905713590c0d13f071e84",
     "grade": false,
     "grade_id": "cell-46503448ea2a9cb9",
     "locked": false,
     "schema_version": 3,
     "solution": true,
     "task": false
    }
   },
   "outputs": [
    {
     "data": {
      "text/html": [
       "<table>\n",
       "<caption>A tibble: 60 × 6</caption>\n",
       "<thead>\n",
       "\t<tr><th scope=col>country</th><th scope=col>continent</th><th scope=col>year</th><th scope=col>lifeExp</th><th scope=col>pop</th><th scope=col>gdpPercap</th></tr>\n",
       "\t<tr><th scope=col>&lt;fct&gt;</th><th scope=col>&lt;fct&gt;</th><th scope=col>&lt;int&gt;</th><th scope=col>&lt;dbl&gt;</th><th scope=col>&lt;int&gt;</th><th scope=col>&lt;dbl&gt;</th></tr>\n",
       "</thead>\n",
       "<tbody>\n",
       "\t<tr><td>Egypt    </td><td>Africa  </td><td>1952</td><td>41.893</td><td>22223309</td><td> 1418.8224</td></tr>\n",
       "\t<tr><td>Egypt    </td><td>Africa  </td><td>1957</td><td>44.444</td><td>25009741</td><td> 1458.9153</td></tr>\n",
       "\t<tr><td>Egypt    </td><td>Africa  </td><td>1962</td><td>46.992</td><td>28173309</td><td> 1693.3359</td></tr>\n",
       "\t<tr><td>Egypt    </td><td>Africa  </td><td>1967</td><td>49.293</td><td>31681188</td><td> 1814.8807</td></tr>\n",
       "\t<tr><td>Egypt    </td><td>Africa  </td><td>1972</td><td>51.137</td><td>34807417</td><td> 2024.0081</td></tr>\n",
       "\t<tr><td>Egypt    </td><td>Africa  </td><td>1977</td><td>53.319</td><td>38783863</td><td> 2785.4936</td></tr>\n",
       "\t<tr><td>Egypt    </td><td>Africa  </td><td>1982</td><td>56.006</td><td>45681811</td><td> 3503.7296</td></tr>\n",
       "\t<tr><td>Egypt    </td><td>Africa  </td><td>1987</td><td>59.797</td><td>52799062</td><td> 3885.4607</td></tr>\n",
       "\t<tr><td>Egypt    </td><td>Africa  </td><td>1992</td><td>63.674</td><td>59402198</td><td> 3794.7552</td></tr>\n",
       "\t<tr><td>Egypt    </td><td>Africa  </td><td>1997</td><td>67.217</td><td>66134291</td><td> 4173.1818</td></tr>\n",
       "\t<tr><td>Egypt    </td><td>Africa  </td><td>2002</td><td>69.806</td><td>73312559</td><td> 4754.6044</td></tr>\n",
       "\t<tr><td>Egypt    </td><td>Africa  </td><td>2007</td><td>71.338</td><td>80264543</td><td> 5581.1810</td></tr>\n",
       "\t<tr><td>Haiti    </td><td>Americas</td><td>1952</td><td>37.579</td><td> 3201488</td><td> 1840.3669</td></tr>\n",
       "\t<tr><td>Haiti    </td><td>Americas</td><td>1957</td><td>40.696</td><td> 3507701</td><td> 1726.8879</td></tr>\n",
       "\t<tr><td>Haiti    </td><td>Americas</td><td>1962</td><td>43.590</td><td> 3880130</td><td> 1796.5890</td></tr>\n",
       "\t<tr><td>Haiti    </td><td>Americas</td><td>1967</td><td>46.243</td><td> 4318137</td><td> 1452.0577</td></tr>\n",
       "\t<tr><td>Haiti    </td><td>Americas</td><td>1972</td><td>48.042</td><td> 4698301</td><td> 1654.4569</td></tr>\n",
       "\t<tr><td>Haiti    </td><td>Americas</td><td>1977</td><td>49.923</td><td> 4908554</td><td> 1874.2989</td></tr>\n",
       "\t<tr><td>Haiti    </td><td>Americas</td><td>1982</td><td>51.461</td><td> 5198399</td><td> 2011.1595</td></tr>\n",
       "\t<tr><td>Haiti    </td><td>Americas</td><td>1987</td><td>53.636</td><td> 5756203</td><td> 1823.0160</td></tr>\n",
       "\t<tr><td>Haiti    </td><td>Americas</td><td>1992</td><td>55.089</td><td> 6326682</td><td> 1456.3095</td></tr>\n",
       "\t<tr><td>Haiti    </td><td>Americas</td><td>1997</td><td>56.671</td><td> 6913545</td><td> 1341.7269</td></tr>\n",
       "\t<tr><td>Haiti    </td><td>Americas</td><td>2002</td><td>58.137</td><td> 7607651</td><td> 1270.3649</td></tr>\n",
       "\t<tr><td>Haiti    </td><td>Americas</td><td>2007</td><td>60.916</td><td> 8502814</td><td> 1201.6372</td></tr>\n",
       "\t<tr><td>Romania  </td><td>Europe  </td><td>1952</td><td>61.050</td><td>16630000</td><td> 3144.6132</td></tr>\n",
       "\t<tr><td>Romania  </td><td>Europe  </td><td>1957</td><td>64.100</td><td>17829327</td><td> 3943.3702</td></tr>\n",
       "\t<tr><td>Romania  </td><td>Europe  </td><td>1962</td><td>66.800</td><td>18680721</td><td> 4734.9976</td></tr>\n",
       "\t<tr><td>Romania  </td><td>Europe  </td><td>1967</td><td>66.800</td><td>19284814</td><td> 6470.8665</td></tr>\n",
       "\t<tr><td>Romania  </td><td>Europe  </td><td>1972</td><td>69.210</td><td>20662648</td><td> 8011.4144</td></tr>\n",
       "\t<tr><td>Romania  </td><td>Europe  </td><td>1977</td><td>69.460</td><td>21658597</td><td> 9356.3972</td></tr>\n",
       "\t<tr><td>Romania  </td><td>Europe  </td><td>1982</td><td>69.660</td><td>22356726</td><td> 9605.3141</td></tr>\n",
       "\t<tr><td>Romania  </td><td>Europe  </td><td>1987</td><td>69.530</td><td>22686371</td><td> 9696.2733</td></tr>\n",
       "\t<tr><td>Romania  </td><td>Europe  </td><td>1992</td><td>69.360</td><td>22797027</td><td> 6598.4099</td></tr>\n",
       "\t<tr><td>Romania  </td><td>Europe  </td><td>1997</td><td>69.720</td><td>22562458</td><td> 7346.5476</td></tr>\n",
       "\t<tr><td>Romania  </td><td>Europe  </td><td>2002</td><td>71.322</td><td>22404337</td><td> 7885.3601</td></tr>\n",
       "\t<tr><td>Romania  </td><td>Europe  </td><td>2007</td><td>72.476</td><td>22276056</td><td>10808.4756</td></tr>\n",
       "\t<tr><td>Thailand </td><td>Asia    </td><td>1952</td><td>50.848</td><td>21289402</td><td>  757.7974</td></tr>\n",
       "\t<tr><td>Thailand </td><td>Asia    </td><td>1957</td><td>53.630</td><td>25041917</td><td>  793.5774</td></tr>\n",
       "\t<tr><td>Thailand </td><td>Asia    </td><td>1962</td><td>56.061</td><td>29263397</td><td> 1002.1992</td></tr>\n",
       "\t<tr><td>Thailand </td><td>Asia    </td><td>1967</td><td>58.285</td><td>34024249</td><td> 1295.4607</td></tr>\n",
       "\t<tr><td>Thailand </td><td>Asia    </td><td>1972</td><td>60.405</td><td>39276153</td><td> 1524.3589</td></tr>\n",
       "\t<tr><td>Thailand </td><td>Asia    </td><td>1977</td><td>62.494</td><td>44148285</td><td> 1961.2246</td></tr>\n",
       "\t<tr><td>Thailand </td><td>Asia    </td><td>1982</td><td>64.597</td><td>48827160</td><td> 2393.2198</td></tr>\n",
       "\t<tr><td>Thailand </td><td>Asia    </td><td>1987</td><td>66.084</td><td>52910342</td><td> 2982.6538</td></tr>\n",
       "\t<tr><td>Thailand </td><td>Asia    </td><td>1992</td><td>67.298</td><td>56667095</td><td> 4616.8965</td></tr>\n",
       "\t<tr><td>Thailand </td><td>Asia    </td><td>1997</td><td>67.521</td><td>60216677</td><td> 5852.6255</td></tr>\n",
       "\t<tr><td>Thailand </td><td>Asia    </td><td>2002</td><td>68.564</td><td>62806748</td><td> 5913.1875</td></tr>\n",
       "\t<tr><td>Thailand </td><td>Asia    </td><td>2007</td><td>70.616</td><td>65068149</td><td> 7458.3963</td></tr>\n",
       "\t<tr><td>Venezuela</td><td>Americas</td><td>1952</td><td>55.088</td><td> 5439568</td><td> 7689.7998</td></tr>\n",
       "\t<tr><td>Venezuela</td><td>Americas</td><td>1957</td><td>57.907</td><td> 6702668</td><td> 9802.4665</td></tr>\n",
       "\t<tr><td>Venezuela</td><td>Americas</td><td>1962</td><td>60.770</td><td> 8143375</td><td> 8422.9742</td></tr>\n",
       "\t<tr><td>Venezuela</td><td>Americas</td><td>1967</td><td>63.479</td><td> 9709552</td><td> 9541.4742</td></tr>\n",
       "\t<tr><td>Venezuela</td><td>Americas</td><td>1972</td><td>65.712</td><td>11515649</td><td>10505.2597</td></tr>\n",
       "\t<tr><td>Venezuela</td><td>Americas</td><td>1977</td><td>67.456</td><td>13503563</td><td>13143.9510</td></tr>\n",
       "\t<tr><td>Venezuela</td><td>Americas</td><td>1982</td><td>68.557</td><td>15620766</td><td>11152.4101</td></tr>\n",
       "\t<tr><td>Venezuela</td><td>Americas</td><td>1987</td><td>70.190</td><td>17910182</td><td> 9883.5846</td></tr>\n",
       "\t<tr><td>Venezuela</td><td>Americas</td><td>1992</td><td>71.150</td><td>20265563</td><td>10733.9263</td></tr>\n",
       "\t<tr><td>Venezuela</td><td>Americas</td><td>1997</td><td>72.146</td><td>22374398</td><td>10165.4952</td></tr>\n",
       "\t<tr><td>Venezuela</td><td>Americas</td><td>2002</td><td>72.766</td><td>24287670</td><td> 8605.0478</td></tr>\n",
       "\t<tr><td>Venezuela</td><td>Americas</td><td>2007</td><td>73.747</td><td>26084662</td><td>11415.8057</td></tr>\n",
       "</tbody>\n",
       "</table>\n"
      ],
      "text/latex": [
       "A tibble: 60 × 6\n",
       "\\begin{tabular}{llllll}\n",
       " country & continent & year & lifeExp & pop & gdpPercap\\\\\n",
       " <fct> & <fct> & <int> & <dbl> & <int> & <dbl>\\\\\n",
       "\\hline\n",
       "\t Egypt     & Africa   & 1952 & 41.893 & 22223309 &  1418.8224\\\\\n",
       "\t Egypt     & Africa   & 1957 & 44.444 & 25009741 &  1458.9153\\\\\n",
       "\t Egypt     & Africa   & 1962 & 46.992 & 28173309 &  1693.3359\\\\\n",
       "\t Egypt     & Africa   & 1967 & 49.293 & 31681188 &  1814.8807\\\\\n",
       "\t Egypt     & Africa   & 1972 & 51.137 & 34807417 &  2024.0081\\\\\n",
       "\t Egypt     & Africa   & 1977 & 53.319 & 38783863 &  2785.4936\\\\\n",
       "\t Egypt     & Africa   & 1982 & 56.006 & 45681811 &  3503.7296\\\\\n",
       "\t Egypt     & Africa   & 1987 & 59.797 & 52799062 &  3885.4607\\\\\n",
       "\t Egypt     & Africa   & 1992 & 63.674 & 59402198 &  3794.7552\\\\\n",
       "\t Egypt     & Africa   & 1997 & 67.217 & 66134291 &  4173.1818\\\\\n",
       "\t Egypt     & Africa   & 2002 & 69.806 & 73312559 &  4754.6044\\\\\n",
       "\t Egypt     & Africa   & 2007 & 71.338 & 80264543 &  5581.1810\\\\\n",
       "\t Haiti     & Americas & 1952 & 37.579 &  3201488 &  1840.3669\\\\\n",
       "\t Haiti     & Americas & 1957 & 40.696 &  3507701 &  1726.8879\\\\\n",
       "\t Haiti     & Americas & 1962 & 43.590 &  3880130 &  1796.5890\\\\\n",
       "\t Haiti     & Americas & 1967 & 46.243 &  4318137 &  1452.0577\\\\\n",
       "\t Haiti     & Americas & 1972 & 48.042 &  4698301 &  1654.4569\\\\\n",
       "\t Haiti     & Americas & 1977 & 49.923 &  4908554 &  1874.2989\\\\\n",
       "\t Haiti     & Americas & 1982 & 51.461 &  5198399 &  2011.1595\\\\\n",
       "\t Haiti     & Americas & 1987 & 53.636 &  5756203 &  1823.0160\\\\\n",
       "\t Haiti     & Americas & 1992 & 55.089 &  6326682 &  1456.3095\\\\\n",
       "\t Haiti     & Americas & 1997 & 56.671 &  6913545 &  1341.7269\\\\\n",
       "\t Haiti     & Americas & 2002 & 58.137 &  7607651 &  1270.3649\\\\\n",
       "\t Haiti     & Americas & 2007 & 60.916 &  8502814 &  1201.6372\\\\\n",
       "\t Romania   & Europe   & 1952 & 61.050 & 16630000 &  3144.6132\\\\\n",
       "\t Romania   & Europe   & 1957 & 64.100 & 17829327 &  3943.3702\\\\\n",
       "\t Romania   & Europe   & 1962 & 66.800 & 18680721 &  4734.9976\\\\\n",
       "\t Romania   & Europe   & 1967 & 66.800 & 19284814 &  6470.8665\\\\\n",
       "\t Romania   & Europe   & 1972 & 69.210 & 20662648 &  8011.4144\\\\\n",
       "\t Romania   & Europe   & 1977 & 69.460 & 21658597 &  9356.3972\\\\\n",
       "\t Romania   & Europe   & 1982 & 69.660 & 22356726 &  9605.3141\\\\\n",
       "\t Romania   & Europe   & 1987 & 69.530 & 22686371 &  9696.2733\\\\\n",
       "\t Romania   & Europe   & 1992 & 69.360 & 22797027 &  6598.4099\\\\\n",
       "\t Romania   & Europe   & 1997 & 69.720 & 22562458 &  7346.5476\\\\\n",
       "\t Romania   & Europe   & 2002 & 71.322 & 22404337 &  7885.3601\\\\\n",
       "\t Romania   & Europe   & 2007 & 72.476 & 22276056 & 10808.4756\\\\\n",
       "\t Thailand  & Asia     & 1952 & 50.848 & 21289402 &   757.7974\\\\\n",
       "\t Thailand  & Asia     & 1957 & 53.630 & 25041917 &   793.5774\\\\\n",
       "\t Thailand  & Asia     & 1962 & 56.061 & 29263397 &  1002.1992\\\\\n",
       "\t Thailand  & Asia     & 1967 & 58.285 & 34024249 &  1295.4607\\\\\n",
       "\t Thailand  & Asia     & 1972 & 60.405 & 39276153 &  1524.3589\\\\\n",
       "\t Thailand  & Asia     & 1977 & 62.494 & 44148285 &  1961.2246\\\\\n",
       "\t Thailand  & Asia     & 1982 & 64.597 & 48827160 &  2393.2198\\\\\n",
       "\t Thailand  & Asia     & 1987 & 66.084 & 52910342 &  2982.6538\\\\\n",
       "\t Thailand  & Asia     & 1992 & 67.298 & 56667095 &  4616.8965\\\\\n",
       "\t Thailand  & Asia     & 1997 & 67.521 & 60216677 &  5852.6255\\\\\n",
       "\t Thailand  & Asia     & 2002 & 68.564 & 62806748 &  5913.1875\\\\\n",
       "\t Thailand  & Asia     & 2007 & 70.616 & 65068149 &  7458.3963\\\\\n",
       "\t Venezuela & Americas & 1952 & 55.088 &  5439568 &  7689.7998\\\\\n",
       "\t Venezuela & Americas & 1957 & 57.907 &  6702668 &  9802.4665\\\\\n",
       "\t Venezuela & Americas & 1962 & 60.770 &  8143375 &  8422.9742\\\\\n",
       "\t Venezuela & Americas & 1967 & 63.479 &  9709552 &  9541.4742\\\\\n",
       "\t Venezuela & Americas & 1972 & 65.712 & 11515649 & 10505.2597\\\\\n",
       "\t Venezuela & Americas & 1977 & 67.456 & 13503563 & 13143.9510\\\\\n",
       "\t Venezuela & Americas & 1982 & 68.557 & 15620766 & 11152.4101\\\\\n",
       "\t Venezuela & Americas & 1987 & 70.190 & 17910182 &  9883.5846\\\\\n",
       "\t Venezuela & Americas & 1992 & 71.150 & 20265563 & 10733.9263\\\\\n",
       "\t Venezuela & Americas & 1997 & 72.146 & 22374398 & 10165.4952\\\\\n",
       "\t Venezuela & Americas & 2002 & 72.766 & 24287670 &  8605.0478\\\\\n",
       "\t Venezuela & Americas & 2007 & 73.747 & 26084662 & 11415.8057\\\\\n",
       "\\end{tabular}\n"
      ],
      "text/markdown": [
       "\n",
       "A tibble: 60 × 6\n",
       "\n",
       "| country &lt;fct&gt; | continent &lt;fct&gt; | year &lt;int&gt; | lifeExp &lt;dbl&gt; | pop &lt;int&gt; | gdpPercap &lt;dbl&gt; |\n",
       "|---|---|---|---|---|---|\n",
       "| Egypt     | Africa   | 1952 | 41.893 | 22223309 |  1418.8224 |\n",
       "| Egypt     | Africa   | 1957 | 44.444 | 25009741 |  1458.9153 |\n",
       "| Egypt     | Africa   | 1962 | 46.992 | 28173309 |  1693.3359 |\n",
       "| Egypt     | Africa   | 1967 | 49.293 | 31681188 |  1814.8807 |\n",
       "| Egypt     | Africa   | 1972 | 51.137 | 34807417 |  2024.0081 |\n",
       "| Egypt     | Africa   | 1977 | 53.319 | 38783863 |  2785.4936 |\n",
       "| Egypt     | Africa   | 1982 | 56.006 | 45681811 |  3503.7296 |\n",
       "| Egypt     | Africa   | 1987 | 59.797 | 52799062 |  3885.4607 |\n",
       "| Egypt     | Africa   | 1992 | 63.674 | 59402198 |  3794.7552 |\n",
       "| Egypt     | Africa   | 1997 | 67.217 | 66134291 |  4173.1818 |\n",
       "| Egypt     | Africa   | 2002 | 69.806 | 73312559 |  4754.6044 |\n",
       "| Egypt     | Africa   | 2007 | 71.338 | 80264543 |  5581.1810 |\n",
       "| Haiti     | Americas | 1952 | 37.579 |  3201488 |  1840.3669 |\n",
       "| Haiti     | Americas | 1957 | 40.696 |  3507701 |  1726.8879 |\n",
       "| Haiti     | Americas | 1962 | 43.590 |  3880130 |  1796.5890 |\n",
       "| Haiti     | Americas | 1967 | 46.243 |  4318137 |  1452.0577 |\n",
       "| Haiti     | Americas | 1972 | 48.042 |  4698301 |  1654.4569 |\n",
       "| Haiti     | Americas | 1977 | 49.923 |  4908554 |  1874.2989 |\n",
       "| Haiti     | Americas | 1982 | 51.461 |  5198399 |  2011.1595 |\n",
       "| Haiti     | Americas | 1987 | 53.636 |  5756203 |  1823.0160 |\n",
       "| Haiti     | Americas | 1992 | 55.089 |  6326682 |  1456.3095 |\n",
       "| Haiti     | Americas | 1997 | 56.671 |  6913545 |  1341.7269 |\n",
       "| Haiti     | Americas | 2002 | 58.137 |  7607651 |  1270.3649 |\n",
       "| Haiti     | Americas | 2007 | 60.916 |  8502814 |  1201.6372 |\n",
       "| Romania   | Europe   | 1952 | 61.050 | 16630000 |  3144.6132 |\n",
       "| Romania   | Europe   | 1957 | 64.100 | 17829327 |  3943.3702 |\n",
       "| Romania   | Europe   | 1962 | 66.800 | 18680721 |  4734.9976 |\n",
       "| Romania   | Europe   | 1967 | 66.800 | 19284814 |  6470.8665 |\n",
       "| Romania   | Europe   | 1972 | 69.210 | 20662648 |  8011.4144 |\n",
       "| Romania   | Europe   | 1977 | 69.460 | 21658597 |  9356.3972 |\n",
       "| Romania   | Europe   | 1982 | 69.660 | 22356726 |  9605.3141 |\n",
       "| Romania   | Europe   | 1987 | 69.530 | 22686371 |  9696.2733 |\n",
       "| Romania   | Europe   | 1992 | 69.360 | 22797027 |  6598.4099 |\n",
       "| Romania   | Europe   | 1997 | 69.720 | 22562458 |  7346.5476 |\n",
       "| Romania   | Europe   | 2002 | 71.322 | 22404337 |  7885.3601 |\n",
       "| Romania   | Europe   | 2007 | 72.476 | 22276056 | 10808.4756 |\n",
       "| Thailand  | Asia     | 1952 | 50.848 | 21289402 |   757.7974 |\n",
       "| Thailand  | Asia     | 1957 | 53.630 | 25041917 |   793.5774 |\n",
       "| Thailand  | Asia     | 1962 | 56.061 | 29263397 |  1002.1992 |\n",
       "| Thailand  | Asia     | 1967 | 58.285 | 34024249 |  1295.4607 |\n",
       "| Thailand  | Asia     | 1972 | 60.405 | 39276153 |  1524.3589 |\n",
       "| Thailand  | Asia     | 1977 | 62.494 | 44148285 |  1961.2246 |\n",
       "| Thailand  | Asia     | 1982 | 64.597 | 48827160 |  2393.2198 |\n",
       "| Thailand  | Asia     | 1987 | 66.084 | 52910342 |  2982.6538 |\n",
       "| Thailand  | Asia     | 1992 | 67.298 | 56667095 |  4616.8965 |\n",
       "| Thailand  | Asia     | 1997 | 67.521 | 60216677 |  5852.6255 |\n",
       "| Thailand  | Asia     | 2002 | 68.564 | 62806748 |  5913.1875 |\n",
       "| Thailand  | Asia     | 2007 | 70.616 | 65068149 |  7458.3963 |\n",
       "| Venezuela | Americas | 1952 | 55.088 |  5439568 |  7689.7998 |\n",
       "| Venezuela | Americas | 1957 | 57.907 |  6702668 |  9802.4665 |\n",
       "| Venezuela | Americas | 1962 | 60.770 |  8143375 |  8422.9742 |\n",
       "| Venezuela | Americas | 1967 | 63.479 |  9709552 |  9541.4742 |\n",
       "| Venezuela | Americas | 1972 | 65.712 | 11515649 | 10505.2597 |\n",
       "| Venezuela | Americas | 1977 | 67.456 | 13503563 | 13143.9510 |\n",
       "| Venezuela | Americas | 1982 | 68.557 | 15620766 | 11152.4101 |\n",
       "| Venezuela | Americas | 1987 | 70.190 | 17910182 |  9883.5846 |\n",
       "| Venezuela | Americas | 1992 | 71.150 | 20265563 | 10733.9263 |\n",
       "| Venezuela | Americas | 1997 | 72.146 | 22374398 | 10165.4952 |\n",
       "| Venezuela | Americas | 2002 | 72.766 | 24287670 |  8605.0478 |\n",
       "| Venezuela | Americas | 2007 | 73.747 | 26084662 | 11415.8057 |\n",
       "\n"
      ],
      "text/plain": [
       "   country   continent year lifeExp pop      gdpPercap \n",
       "1  Egypt     Africa    1952 41.893  22223309  1418.8224\n",
       "2  Egypt     Africa    1957 44.444  25009741  1458.9153\n",
       "3  Egypt     Africa    1962 46.992  28173309  1693.3359\n",
       "4  Egypt     Africa    1967 49.293  31681188  1814.8807\n",
       "5  Egypt     Africa    1972 51.137  34807417  2024.0081\n",
       "6  Egypt     Africa    1977 53.319  38783863  2785.4936\n",
       "7  Egypt     Africa    1982 56.006  45681811  3503.7296\n",
       "8  Egypt     Africa    1987 59.797  52799062  3885.4607\n",
       "9  Egypt     Africa    1992 63.674  59402198  3794.7552\n",
       "10 Egypt     Africa    1997 67.217  66134291  4173.1818\n",
       "11 Egypt     Africa    2002 69.806  73312559  4754.6044\n",
       "12 Egypt     Africa    2007 71.338  80264543  5581.1810\n",
       "13 Haiti     Americas  1952 37.579   3201488  1840.3669\n",
       "14 Haiti     Americas  1957 40.696   3507701  1726.8879\n",
       "15 Haiti     Americas  1962 43.590   3880130  1796.5890\n",
       "16 Haiti     Americas  1967 46.243   4318137  1452.0577\n",
       "17 Haiti     Americas  1972 48.042   4698301  1654.4569\n",
       "18 Haiti     Americas  1977 49.923   4908554  1874.2989\n",
       "19 Haiti     Americas  1982 51.461   5198399  2011.1595\n",
       "20 Haiti     Americas  1987 53.636   5756203  1823.0160\n",
       "21 Haiti     Americas  1992 55.089   6326682  1456.3095\n",
       "22 Haiti     Americas  1997 56.671   6913545  1341.7269\n",
       "23 Haiti     Americas  2002 58.137   7607651  1270.3649\n",
       "24 Haiti     Americas  2007 60.916   8502814  1201.6372\n",
       "25 Romania   Europe    1952 61.050  16630000  3144.6132\n",
       "26 Romania   Europe    1957 64.100  17829327  3943.3702\n",
       "27 Romania   Europe    1962 66.800  18680721  4734.9976\n",
       "28 Romania   Europe    1967 66.800  19284814  6470.8665\n",
       "29 Romania   Europe    1972 69.210  20662648  8011.4144\n",
       "30 Romania   Europe    1977 69.460  21658597  9356.3972\n",
       "31 Romania   Europe    1982 69.660  22356726  9605.3141\n",
       "32 Romania   Europe    1987 69.530  22686371  9696.2733\n",
       "33 Romania   Europe    1992 69.360  22797027  6598.4099\n",
       "34 Romania   Europe    1997 69.720  22562458  7346.5476\n",
       "35 Romania   Europe    2002 71.322  22404337  7885.3601\n",
       "36 Romania   Europe    2007 72.476  22276056 10808.4756\n",
       "37 Thailand  Asia      1952 50.848  21289402   757.7974\n",
       "38 Thailand  Asia      1957 53.630  25041917   793.5774\n",
       "39 Thailand  Asia      1962 56.061  29263397  1002.1992\n",
       "40 Thailand  Asia      1967 58.285  34024249  1295.4607\n",
       "41 Thailand  Asia      1972 60.405  39276153  1524.3589\n",
       "42 Thailand  Asia      1977 62.494  44148285  1961.2246\n",
       "43 Thailand  Asia      1982 64.597  48827160  2393.2198\n",
       "44 Thailand  Asia      1987 66.084  52910342  2982.6538\n",
       "45 Thailand  Asia      1992 67.298  56667095  4616.8965\n",
       "46 Thailand  Asia      1997 67.521  60216677  5852.6255\n",
       "47 Thailand  Asia      2002 68.564  62806748  5913.1875\n",
       "48 Thailand  Asia      2007 70.616  65068149  7458.3963\n",
       "49 Venezuela Americas  1952 55.088   5439568  7689.7998\n",
       "50 Venezuela Americas  1957 57.907   6702668  9802.4665\n",
       "51 Venezuela Americas  1962 60.770   8143375  8422.9742\n",
       "52 Venezuela Americas  1967 63.479   9709552  9541.4742\n",
       "53 Venezuela Americas  1972 65.712  11515649 10505.2597\n",
       "54 Venezuela Americas  1977 67.456  13503563 13143.9510\n",
       "55 Venezuela Americas  1982 68.557  15620766 11152.4101\n",
       "56 Venezuela Americas  1987 70.190  17910182  9883.5846\n",
       "57 Venezuela Americas  1992 71.150  20265563 10733.9263\n",
       "58 Venezuela Americas  1997 72.146  22374398 10165.4952\n",
       "59 Venezuela Americas  2002 72.766  24287670  8605.0478\n",
       "60 Venezuela Americas  2007 73.747  26084662 11415.8057"
      ]
     },
     "metadata": {},
     "output_type": "display_data"
    }
   ],
   "source": [
    "# your code here\n",
    "(gap_5 <- gapminder %>%\n",
    "   filter(country %in% c( \"Egypt\", \"Haiti\", \"Romania\", \"Thailand\", \"Venezuela\")))"
   ]
  },
  {
   "cell_type": "code",
   "execution_count": 60,
   "metadata": {
    "deletable": false,
    "editable": false,
    "lines_to_next_cell": 2,
    "nbgrader": {
     "cell_type": "code",
     "checksum": "6568b31735174816374e7a4c66f2519c",
     "grade": true,
     "grade_id": "cell-caed098411987014",
     "locked": true,
     "points": 1,
     "schema_version": 3,
     "solution": false,
     "task": false
    }
   },
   "outputs": [
    {
     "name": "stdout",
     "output_type": "stream",
     "text": [
      "[1] \"Success!\"\n"
     ]
    }
   ],
   "source": [
    "test_that(\"Question 2.3\", {\n",
    "  expect_known_hash(dim(gap_5), \"6c0f8c2a8d488051f33fc89b2c327dcd\")\n",
    "  expect_known_hash(table(gap_5$country), \"05b8ca3033e94f96b9ec5422a69c1207\")\n",
    "})\n",
    "print(\"Success!\")"
   ]
  },
  {
   "cell_type": "markdown",
   "metadata": {
    "deletable": false,
    "editable": false,
    "nbgrader": {
     "cell_type": "markdown",
     "checksum": "98fa924bccccc2a2b6e9c56a3dbbb08f",
     "grade": false,
     "grade_id": "cell-4ad94aa7ee66ed58",
     "locked": true,
     "schema_version": 3,
     "solution": false,
     "task": false
    }
   },
   "source": [
    "#### Question 2.4\n",
    "\n",
    "However, sub-setting the data set does not affect the levels of the factors.\n",
    "The column `country` in data frame `gap_5` still has the same number of levels as in the original data frame.\n",
    "Create a new data frame from `gap_5`, but drop all unused levels from column `country`.\n",
    "Store new new data frame in variable `gap_5_dropped`.\n",
    "\n",
    "```\n",
    "(gap_5_dropped <- gap_5 %>% FILL_THIS_IN())\n",
    "```"
   ]
  },
  {
   "cell_type": "code",
   "execution_count": 64,
   "metadata": {
    "deletable": false,
    "lines_to_next_cell": 0,
    "nbgrader": {
     "cell_type": "code",
     "checksum": "8aae99c9a314dbfb620d3ceb99777268",
     "grade": false,
     "grade_id": "cell-7e52beeb587753f4",
     "locked": false,
     "schema_version": 3,
     "solution": true,
     "task": false
    }
   },
   "outputs": [
    {
     "data": {
      "text/html": [
       "<table>\n",
       "<caption>A tibble: 60 × 6</caption>\n",
       "<thead>\n",
       "\t<tr><th scope=col>country</th><th scope=col>continent</th><th scope=col>year</th><th scope=col>lifeExp</th><th scope=col>pop</th><th scope=col>gdpPercap</th></tr>\n",
       "\t<tr><th scope=col>&lt;fct&gt;</th><th scope=col>&lt;fct&gt;</th><th scope=col>&lt;int&gt;</th><th scope=col>&lt;dbl&gt;</th><th scope=col>&lt;int&gt;</th><th scope=col>&lt;dbl&gt;</th></tr>\n",
       "</thead>\n",
       "<tbody>\n",
       "\t<tr><td>Egypt    </td><td>Africa  </td><td>1952</td><td>41.893</td><td>22223309</td><td> 1418.8224</td></tr>\n",
       "\t<tr><td>Egypt    </td><td>Africa  </td><td>1957</td><td>44.444</td><td>25009741</td><td> 1458.9153</td></tr>\n",
       "\t<tr><td>Egypt    </td><td>Africa  </td><td>1962</td><td>46.992</td><td>28173309</td><td> 1693.3359</td></tr>\n",
       "\t<tr><td>Egypt    </td><td>Africa  </td><td>1967</td><td>49.293</td><td>31681188</td><td> 1814.8807</td></tr>\n",
       "\t<tr><td>Egypt    </td><td>Africa  </td><td>1972</td><td>51.137</td><td>34807417</td><td> 2024.0081</td></tr>\n",
       "\t<tr><td>Egypt    </td><td>Africa  </td><td>1977</td><td>53.319</td><td>38783863</td><td> 2785.4936</td></tr>\n",
       "\t<tr><td>Egypt    </td><td>Africa  </td><td>1982</td><td>56.006</td><td>45681811</td><td> 3503.7296</td></tr>\n",
       "\t<tr><td>Egypt    </td><td>Africa  </td><td>1987</td><td>59.797</td><td>52799062</td><td> 3885.4607</td></tr>\n",
       "\t<tr><td>Egypt    </td><td>Africa  </td><td>1992</td><td>63.674</td><td>59402198</td><td> 3794.7552</td></tr>\n",
       "\t<tr><td>Egypt    </td><td>Africa  </td><td>1997</td><td>67.217</td><td>66134291</td><td> 4173.1818</td></tr>\n",
       "\t<tr><td>Egypt    </td><td>Africa  </td><td>2002</td><td>69.806</td><td>73312559</td><td> 4754.6044</td></tr>\n",
       "\t<tr><td>Egypt    </td><td>Africa  </td><td>2007</td><td>71.338</td><td>80264543</td><td> 5581.1810</td></tr>\n",
       "\t<tr><td>Haiti    </td><td>Americas</td><td>1952</td><td>37.579</td><td> 3201488</td><td> 1840.3669</td></tr>\n",
       "\t<tr><td>Haiti    </td><td>Americas</td><td>1957</td><td>40.696</td><td> 3507701</td><td> 1726.8879</td></tr>\n",
       "\t<tr><td>Haiti    </td><td>Americas</td><td>1962</td><td>43.590</td><td> 3880130</td><td> 1796.5890</td></tr>\n",
       "\t<tr><td>Haiti    </td><td>Americas</td><td>1967</td><td>46.243</td><td> 4318137</td><td> 1452.0577</td></tr>\n",
       "\t<tr><td>Haiti    </td><td>Americas</td><td>1972</td><td>48.042</td><td> 4698301</td><td> 1654.4569</td></tr>\n",
       "\t<tr><td>Haiti    </td><td>Americas</td><td>1977</td><td>49.923</td><td> 4908554</td><td> 1874.2989</td></tr>\n",
       "\t<tr><td>Haiti    </td><td>Americas</td><td>1982</td><td>51.461</td><td> 5198399</td><td> 2011.1595</td></tr>\n",
       "\t<tr><td>Haiti    </td><td>Americas</td><td>1987</td><td>53.636</td><td> 5756203</td><td> 1823.0160</td></tr>\n",
       "\t<tr><td>Haiti    </td><td>Americas</td><td>1992</td><td>55.089</td><td> 6326682</td><td> 1456.3095</td></tr>\n",
       "\t<tr><td>Haiti    </td><td>Americas</td><td>1997</td><td>56.671</td><td> 6913545</td><td> 1341.7269</td></tr>\n",
       "\t<tr><td>Haiti    </td><td>Americas</td><td>2002</td><td>58.137</td><td> 7607651</td><td> 1270.3649</td></tr>\n",
       "\t<tr><td>Haiti    </td><td>Americas</td><td>2007</td><td>60.916</td><td> 8502814</td><td> 1201.6372</td></tr>\n",
       "\t<tr><td>Romania  </td><td>Europe  </td><td>1952</td><td>61.050</td><td>16630000</td><td> 3144.6132</td></tr>\n",
       "\t<tr><td>Romania  </td><td>Europe  </td><td>1957</td><td>64.100</td><td>17829327</td><td> 3943.3702</td></tr>\n",
       "\t<tr><td>Romania  </td><td>Europe  </td><td>1962</td><td>66.800</td><td>18680721</td><td> 4734.9976</td></tr>\n",
       "\t<tr><td>Romania  </td><td>Europe  </td><td>1967</td><td>66.800</td><td>19284814</td><td> 6470.8665</td></tr>\n",
       "\t<tr><td>Romania  </td><td>Europe  </td><td>1972</td><td>69.210</td><td>20662648</td><td> 8011.4144</td></tr>\n",
       "\t<tr><td>Romania  </td><td>Europe  </td><td>1977</td><td>69.460</td><td>21658597</td><td> 9356.3972</td></tr>\n",
       "\t<tr><td>Romania  </td><td>Europe  </td><td>1982</td><td>69.660</td><td>22356726</td><td> 9605.3141</td></tr>\n",
       "\t<tr><td>Romania  </td><td>Europe  </td><td>1987</td><td>69.530</td><td>22686371</td><td> 9696.2733</td></tr>\n",
       "\t<tr><td>Romania  </td><td>Europe  </td><td>1992</td><td>69.360</td><td>22797027</td><td> 6598.4099</td></tr>\n",
       "\t<tr><td>Romania  </td><td>Europe  </td><td>1997</td><td>69.720</td><td>22562458</td><td> 7346.5476</td></tr>\n",
       "\t<tr><td>Romania  </td><td>Europe  </td><td>2002</td><td>71.322</td><td>22404337</td><td> 7885.3601</td></tr>\n",
       "\t<tr><td>Romania  </td><td>Europe  </td><td>2007</td><td>72.476</td><td>22276056</td><td>10808.4756</td></tr>\n",
       "\t<tr><td>Thailand </td><td>Asia    </td><td>1952</td><td>50.848</td><td>21289402</td><td>  757.7974</td></tr>\n",
       "\t<tr><td>Thailand </td><td>Asia    </td><td>1957</td><td>53.630</td><td>25041917</td><td>  793.5774</td></tr>\n",
       "\t<tr><td>Thailand </td><td>Asia    </td><td>1962</td><td>56.061</td><td>29263397</td><td> 1002.1992</td></tr>\n",
       "\t<tr><td>Thailand </td><td>Asia    </td><td>1967</td><td>58.285</td><td>34024249</td><td> 1295.4607</td></tr>\n",
       "\t<tr><td>Thailand </td><td>Asia    </td><td>1972</td><td>60.405</td><td>39276153</td><td> 1524.3589</td></tr>\n",
       "\t<tr><td>Thailand </td><td>Asia    </td><td>1977</td><td>62.494</td><td>44148285</td><td> 1961.2246</td></tr>\n",
       "\t<tr><td>Thailand </td><td>Asia    </td><td>1982</td><td>64.597</td><td>48827160</td><td> 2393.2198</td></tr>\n",
       "\t<tr><td>Thailand </td><td>Asia    </td><td>1987</td><td>66.084</td><td>52910342</td><td> 2982.6538</td></tr>\n",
       "\t<tr><td>Thailand </td><td>Asia    </td><td>1992</td><td>67.298</td><td>56667095</td><td> 4616.8965</td></tr>\n",
       "\t<tr><td>Thailand </td><td>Asia    </td><td>1997</td><td>67.521</td><td>60216677</td><td> 5852.6255</td></tr>\n",
       "\t<tr><td>Thailand </td><td>Asia    </td><td>2002</td><td>68.564</td><td>62806748</td><td> 5913.1875</td></tr>\n",
       "\t<tr><td>Thailand </td><td>Asia    </td><td>2007</td><td>70.616</td><td>65068149</td><td> 7458.3963</td></tr>\n",
       "\t<tr><td>Venezuela</td><td>Americas</td><td>1952</td><td>55.088</td><td> 5439568</td><td> 7689.7998</td></tr>\n",
       "\t<tr><td>Venezuela</td><td>Americas</td><td>1957</td><td>57.907</td><td> 6702668</td><td> 9802.4665</td></tr>\n",
       "\t<tr><td>Venezuela</td><td>Americas</td><td>1962</td><td>60.770</td><td> 8143375</td><td> 8422.9742</td></tr>\n",
       "\t<tr><td>Venezuela</td><td>Americas</td><td>1967</td><td>63.479</td><td> 9709552</td><td> 9541.4742</td></tr>\n",
       "\t<tr><td>Venezuela</td><td>Americas</td><td>1972</td><td>65.712</td><td>11515649</td><td>10505.2597</td></tr>\n",
       "\t<tr><td>Venezuela</td><td>Americas</td><td>1977</td><td>67.456</td><td>13503563</td><td>13143.9510</td></tr>\n",
       "\t<tr><td>Venezuela</td><td>Americas</td><td>1982</td><td>68.557</td><td>15620766</td><td>11152.4101</td></tr>\n",
       "\t<tr><td>Venezuela</td><td>Americas</td><td>1987</td><td>70.190</td><td>17910182</td><td> 9883.5846</td></tr>\n",
       "\t<tr><td>Venezuela</td><td>Americas</td><td>1992</td><td>71.150</td><td>20265563</td><td>10733.9263</td></tr>\n",
       "\t<tr><td>Venezuela</td><td>Americas</td><td>1997</td><td>72.146</td><td>22374398</td><td>10165.4952</td></tr>\n",
       "\t<tr><td>Venezuela</td><td>Americas</td><td>2002</td><td>72.766</td><td>24287670</td><td> 8605.0478</td></tr>\n",
       "\t<tr><td>Venezuela</td><td>Americas</td><td>2007</td><td>73.747</td><td>26084662</td><td>11415.8057</td></tr>\n",
       "</tbody>\n",
       "</table>\n"
      ],
      "text/latex": [
       "A tibble: 60 × 6\n",
       "\\begin{tabular}{llllll}\n",
       " country & continent & year & lifeExp & pop & gdpPercap\\\\\n",
       " <fct> & <fct> & <int> & <dbl> & <int> & <dbl>\\\\\n",
       "\\hline\n",
       "\t Egypt     & Africa   & 1952 & 41.893 & 22223309 &  1418.8224\\\\\n",
       "\t Egypt     & Africa   & 1957 & 44.444 & 25009741 &  1458.9153\\\\\n",
       "\t Egypt     & Africa   & 1962 & 46.992 & 28173309 &  1693.3359\\\\\n",
       "\t Egypt     & Africa   & 1967 & 49.293 & 31681188 &  1814.8807\\\\\n",
       "\t Egypt     & Africa   & 1972 & 51.137 & 34807417 &  2024.0081\\\\\n",
       "\t Egypt     & Africa   & 1977 & 53.319 & 38783863 &  2785.4936\\\\\n",
       "\t Egypt     & Africa   & 1982 & 56.006 & 45681811 &  3503.7296\\\\\n",
       "\t Egypt     & Africa   & 1987 & 59.797 & 52799062 &  3885.4607\\\\\n",
       "\t Egypt     & Africa   & 1992 & 63.674 & 59402198 &  3794.7552\\\\\n",
       "\t Egypt     & Africa   & 1997 & 67.217 & 66134291 &  4173.1818\\\\\n",
       "\t Egypt     & Africa   & 2002 & 69.806 & 73312559 &  4754.6044\\\\\n",
       "\t Egypt     & Africa   & 2007 & 71.338 & 80264543 &  5581.1810\\\\\n",
       "\t Haiti     & Americas & 1952 & 37.579 &  3201488 &  1840.3669\\\\\n",
       "\t Haiti     & Americas & 1957 & 40.696 &  3507701 &  1726.8879\\\\\n",
       "\t Haiti     & Americas & 1962 & 43.590 &  3880130 &  1796.5890\\\\\n",
       "\t Haiti     & Americas & 1967 & 46.243 &  4318137 &  1452.0577\\\\\n",
       "\t Haiti     & Americas & 1972 & 48.042 &  4698301 &  1654.4569\\\\\n",
       "\t Haiti     & Americas & 1977 & 49.923 &  4908554 &  1874.2989\\\\\n",
       "\t Haiti     & Americas & 1982 & 51.461 &  5198399 &  2011.1595\\\\\n",
       "\t Haiti     & Americas & 1987 & 53.636 &  5756203 &  1823.0160\\\\\n",
       "\t Haiti     & Americas & 1992 & 55.089 &  6326682 &  1456.3095\\\\\n",
       "\t Haiti     & Americas & 1997 & 56.671 &  6913545 &  1341.7269\\\\\n",
       "\t Haiti     & Americas & 2002 & 58.137 &  7607651 &  1270.3649\\\\\n",
       "\t Haiti     & Americas & 2007 & 60.916 &  8502814 &  1201.6372\\\\\n",
       "\t Romania   & Europe   & 1952 & 61.050 & 16630000 &  3144.6132\\\\\n",
       "\t Romania   & Europe   & 1957 & 64.100 & 17829327 &  3943.3702\\\\\n",
       "\t Romania   & Europe   & 1962 & 66.800 & 18680721 &  4734.9976\\\\\n",
       "\t Romania   & Europe   & 1967 & 66.800 & 19284814 &  6470.8665\\\\\n",
       "\t Romania   & Europe   & 1972 & 69.210 & 20662648 &  8011.4144\\\\\n",
       "\t Romania   & Europe   & 1977 & 69.460 & 21658597 &  9356.3972\\\\\n",
       "\t Romania   & Europe   & 1982 & 69.660 & 22356726 &  9605.3141\\\\\n",
       "\t Romania   & Europe   & 1987 & 69.530 & 22686371 &  9696.2733\\\\\n",
       "\t Romania   & Europe   & 1992 & 69.360 & 22797027 &  6598.4099\\\\\n",
       "\t Romania   & Europe   & 1997 & 69.720 & 22562458 &  7346.5476\\\\\n",
       "\t Romania   & Europe   & 2002 & 71.322 & 22404337 &  7885.3601\\\\\n",
       "\t Romania   & Europe   & 2007 & 72.476 & 22276056 & 10808.4756\\\\\n",
       "\t Thailand  & Asia     & 1952 & 50.848 & 21289402 &   757.7974\\\\\n",
       "\t Thailand  & Asia     & 1957 & 53.630 & 25041917 &   793.5774\\\\\n",
       "\t Thailand  & Asia     & 1962 & 56.061 & 29263397 &  1002.1992\\\\\n",
       "\t Thailand  & Asia     & 1967 & 58.285 & 34024249 &  1295.4607\\\\\n",
       "\t Thailand  & Asia     & 1972 & 60.405 & 39276153 &  1524.3589\\\\\n",
       "\t Thailand  & Asia     & 1977 & 62.494 & 44148285 &  1961.2246\\\\\n",
       "\t Thailand  & Asia     & 1982 & 64.597 & 48827160 &  2393.2198\\\\\n",
       "\t Thailand  & Asia     & 1987 & 66.084 & 52910342 &  2982.6538\\\\\n",
       "\t Thailand  & Asia     & 1992 & 67.298 & 56667095 &  4616.8965\\\\\n",
       "\t Thailand  & Asia     & 1997 & 67.521 & 60216677 &  5852.6255\\\\\n",
       "\t Thailand  & Asia     & 2002 & 68.564 & 62806748 &  5913.1875\\\\\n",
       "\t Thailand  & Asia     & 2007 & 70.616 & 65068149 &  7458.3963\\\\\n",
       "\t Venezuela & Americas & 1952 & 55.088 &  5439568 &  7689.7998\\\\\n",
       "\t Venezuela & Americas & 1957 & 57.907 &  6702668 &  9802.4665\\\\\n",
       "\t Venezuela & Americas & 1962 & 60.770 &  8143375 &  8422.9742\\\\\n",
       "\t Venezuela & Americas & 1967 & 63.479 &  9709552 &  9541.4742\\\\\n",
       "\t Venezuela & Americas & 1972 & 65.712 & 11515649 & 10505.2597\\\\\n",
       "\t Venezuela & Americas & 1977 & 67.456 & 13503563 & 13143.9510\\\\\n",
       "\t Venezuela & Americas & 1982 & 68.557 & 15620766 & 11152.4101\\\\\n",
       "\t Venezuela & Americas & 1987 & 70.190 & 17910182 &  9883.5846\\\\\n",
       "\t Venezuela & Americas & 1992 & 71.150 & 20265563 & 10733.9263\\\\\n",
       "\t Venezuela & Americas & 1997 & 72.146 & 22374398 & 10165.4952\\\\\n",
       "\t Venezuela & Americas & 2002 & 72.766 & 24287670 &  8605.0478\\\\\n",
       "\t Venezuela & Americas & 2007 & 73.747 & 26084662 & 11415.8057\\\\\n",
       "\\end{tabular}\n"
      ],
      "text/markdown": [
       "\n",
       "A tibble: 60 × 6\n",
       "\n",
       "| country &lt;fct&gt; | continent &lt;fct&gt; | year &lt;int&gt; | lifeExp &lt;dbl&gt; | pop &lt;int&gt; | gdpPercap &lt;dbl&gt; |\n",
       "|---|---|---|---|---|---|\n",
       "| Egypt     | Africa   | 1952 | 41.893 | 22223309 |  1418.8224 |\n",
       "| Egypt     | Africa   | 1957 | 44.444 | 25009741 |  1458.9153 |\n",
       "| Egypt     | Africa   | 1962 | 46.992 | 28173309 |  1693.3359 |\n",
       "| Egypt     | Africa   | 1967 | 49.293 | 31681188 |  1814.8807 |\n",
       "| Egypt     | Africa   | 1972 | 51.137 | 34807417 |  2024.0081 |\n",
       "| Egypt     | Africa   | 1977 | 53.319 | 38783863 |  2785.4936 |\n",
       "| Egypt     | Africa   | 1982 | 56.006 | 45681811 |  3503.7296 |\n",
       "| Egypt     | Africa   | 1987 | 59.797 | 52799062 |  3885.4607 |\n",
       "| Egypt     | Africa   | 1992 | 63.674 | 59402198 |  3794.7552 |\n",
       "| Egypt     | Africa   | 1997 | 67.217 | 66134291 |  4173.1818 |\n",
       "| Egypt     | Africa   | 2002 | 69.806 | 73312559 |  4754.6044 |\n",
       "| Egypt     | Africa   | 2007 | 71.338 | 80264543 |  5581.1810 |\n",
       "| Haiti     | Americas | 1952 | 37.579 |  3201488 |  1840.3669 |\n",
       "| Haiti     | Americas | 1957 | 40.696 |  3507701 |  1726.8879 |\n",
       "| Haiti     | Americas | 1962 | 43.590 |  3880130 |  1796.5890 |\n",
       "| Haiti     | Americas | 1967 | 46.243 |  4318137 |  1452.0577 |\n",
       "| Haiti     | Americas | 1972 | 48.042 |  4698301 |  1654.4569 |\n",
       "| Haiti     | Americas | 1977 | 49.923 |  4908554 |  1874.2989 |\n",
       "| Haiti     | Americas | 1982 | 51.461 |  5198399 |  2011.1595 |\n",
       "| Haiti     | Americas | 1987 | 53.636 |  5756203 |  1823.0160 |\n",
       "| Haiti     | Americas | 1992 | 55.089 |  6326682 |  1456.3095 |\n",
       "| Haiti     | Americas | 1997 | 56.671 |  6913545 |  1341.7269 |\n",
       "| Haiti     | Americas | 2002 | 58.137 |  7607651 |  1270.3649 |\n",
       "| Haiti     | Americas | 2007 | 60.916 |  8502814 |  1201.6372 |\n",
       "| Romania   | Europe   | 1952 | 61.050 | 16630000 |  3144.6132 |\n",
       "| Romania   | Europe   | 1957 | 64.100 | 17829327 |  3943.3702 |\n",
       "| Romania   | Europe   | 1962 | 66.800 | 18680721 |  4734.9976 |\n",
       "| Romania   | Europe   | 1967 | 66.800 | 19284814 |  6470.8665 |\n",
       "| Romania   | Europe   | 1972 | 69.210 | 20662648 |  8011.4144 |\n",
       "| Romania   | Europe   | 1977 | 69.460 | 21658597 |  9356.3972 |\n",
       "| Romania   | Europe   | 1982 | 69.660 | 22356726 |  9605.3141 |\n",
       "| Romania   | Europe   | 1987 | 69.530 | 22686371 |  9696.2733 |\n",
       "| Romania   | Europe   | 1992 | 69.360 | 22797027 |  6598.4099 |\n",
       "| Romania   | Europe   | 1997 | 69.720 | 22562458 |  7346.5476 |\n",
       "| Romania   | Europe   | 2002 | 71.322 | 22404337 |  7885.3601 |\n",
       "| Romania   | Europe   | 2007 | 72.476 | 22276056 | 10808.4756 |\n",
       "| Thailand  | Asia     | 1952 | 50.848 | 21289402 |   757.7974 |\n",
       "| Thailand  | Asia     | 1957 | 53.630 | 25041917 |   793.5774 |\n",
       "| Thailand  | Asia     | 1962 | 56.061 | 29263397 |  1002.1992 |\n",
       "| Thailand  | Asia     | 1967 | 58.285 | 34024249 |  1295.4607 |\n",
       "| Thailand  | Asia     | 1972 | 60.405 | 39276153 |  1524.3589 |\n",
       "| Thailand  | Asia     | 1977 | 62.494 | 44148285 |  1961.2246 |\n",
       "| Thailand  | Asia     | 1982 | 64.597 | 48827160 |  2393.2198 |\n",
       "| Thailand  | Asia     | 1987 | 66.084 | 52910342 |  2982.6538 |\n",
       "| Thailand  | Asia     | 1992 | 67.298 | 56667095 |  4616.8965 |\n",
       "| Thailand  | Asia     | 1997 | 67.521 | 60216677 |  5852.6255 |\n",
       "| Thailand  | Asia     | 2002 | 68.564 | 62806748 |  5913.1875 |\n",
       "| Thailand  | Asia     | 2007 | 70.616 | 65068149 |  7458.3963 |\n",
       "| Venezuela | Americas | 1952 | 55.088 |  5439568 |  7689.7998 |\n",
       "| Venezuela | Americas | 1957 | 57.907 |  6702668 |  9802.4665 |\n",
       "| Venezuela | Americas | 1962 | 60.770 |  8143375 |  8422.9742 |\n",
       "| Venezuela | Americas | 1967 | 63.479 |  9709552 |  9541.4742 |\n",
       "| Venezuela | Americas | 1972 | 65.712 | 11515649 | 10505.2597 |\n",
       "| Venezuela | Americas | 1977 | 67.456 | 13503563 | 13143.9510 |\n",
       "| Venezuela | Americas | 1982 | 68.557 | 15620766 | 11152.4101 |\n",
       "| Venezuela | Americas | 1987 | 70.190 | 17910182 |  9883.5846 |\n",
       "| Venezuela | Americas | 1992 | 71.150 | 20265563 | 10733.9263 |\n",
       "| Venezuela | Americas | 1997 | 72.146 | 22374398 | 10165.4952 |\n",
       "| Venezuela | Americas | 2002 | 72.766 | 24287670 |  8605.0478 |\n",
       "| Venezuela | Americas | 2007 | 73.747 | 26084662 | 11415.8057 |\n",
       "\n"
      ],
      "text/plain": [
       "   country   continent year lifeExp pop      gdpPercap \n",
       "1  Egypt     Africa    1952 41.893  22223309  1418.8224\n",
       "2  Egypt     Africa    1957 44.444  25009741  1458.9153\n",
       "3  Egypt     Africa    1962 46.992  28173309  1693.3359\n",
       "4  Egypt     Africa    1967 49.293  31681188  1814.8807\n",
       "5  Egypt     Africa    1972 51.137  34807417  2024.0081\n",
       "6  Egypt     Africa    1977 53.319  38783863  2785.4936\n",
       "7  Egypt     Africa    1982 56.006  45681811  3503.7296\n",
       "8  Egypt     Africa    1987 59.797  52799062  3885.4607\n",
       "9  Egypt     Africa    1992 63.674  59402198  3794.7552\n",
       "10 Egypt     Africa    1997 67.217  66134291  4173.1818\n",
       "11 Egypt     Africa    2002 69.806  73312559  4754.6044\n",
       "12 Egypt     Africa    2007 71.338  80264543  5581.1810\n",
       "13 Haiti     Americas  1952 37.579   3201488  1840.3669\n",
       "14 Haiti     Americas  1957 40.696   3507701  1726.8879\n",
       "15 Haiti     Americas  1962 43.590   3880130  1796.5890\n",
       "16 Haiti     Americas  1967 46.243   4318137  1452.0577\n",
       "17 Haiti     Americas  1972 48.042   4698301  1654.4569\n",
       "18 Haiti     Americas  1977 49.923   4908554  1874.2989\n",
       "19 Haiti     Americas  1982 51.461   5198399  2011.1595\n",
       "20 Haiti     Americas  1987 53.636   5756203  1823.0160\n",
       "21 Haiti     Americas  1992 55.089   6326682  1456.3095\n",
       "22 Haiti     Americas  1997 56.671   6913545  1341.7269\n",
       "23 Haiti     Americas  2002 58.137   7607651  1270.3649\n",
       "24 Haiti     Americas  2007 60.916   8502814  1201.6372\n",
       "25 Romania   Europe    1952 61.050  16630000  3144.6132\n",
       "26 Romania   Europe    1957 64.100  17829327  3943.3702\n",
       "27 Romania   Europe    1962 66.800  18680721  4734.9976\n",
       "28 Romania   Europe    1967 66.800  19284814  6470.8665\n",
       "29 Romania   Europe    1972 69.210  20662648  8011.4144\n",
       "30 Romania   Europe    1977 69.460  21658597  9356.3972\n",
       "31 Romania   Europe    1982 69.660  22356726  9605.3141\n",
       "32 Romania   Europe    1987 69.530  22686371  9696.2733\n",
       "33 Romania   Europe    1992 69.360  22797027  6598.4099\n",
       "34 Romania   Europe    1997 69.720  22562458  7346.5476\n",
       "35 Romania   Europe    2002 71.322  22404337  7885.3601\n",
       "36 Romania   Europe    2007 72.476  22276056 10808.4756\n",
       "37 Thailand  Asia      1952 50.848  21289402   757.7974\n",
       "38 Thailand  Asia      1957 53.630  25041917   793.5774\n",
       "39 Thailand  Asia      1962 56.061  29263397  1002.1992\n",
       "40 Thailand  Asia      1967 58.285  34024249  1295.4607\n",
       "41 Thailand  Asia      1972 60.405  39276153  1524.3589\n",
       "42 Thailand  Asia      1977 62.494  44148285  1961.2246\n",
       "43 Thailand  Asia      1982 64.597  48827160  2393.2198\n",
       "44 Thailand  Asia      1987 66.084  52910342  2982.6538\n",
       "45 Thailand  Asia      1992 67.298  56667095  4616.8965\n",
       "46 Thailand  Asia      1997 67.521  60216677  5852.6255\n",
       "47 Thailand  Asia      2002 68.564  62806748  5913.1875\n",
       "48 Thailand  Asia      2007 70.616  65068149  7458.3963\n",
       "49 Venezuela Americas  1952 55.088   5439568  7689.7998\n",
       "50 Venezuela Americas  1957 57.907   6702668  9802.4665\n",
       "51 Venezuela Americas  1962 60.770   8143375  8422.9742\n",
       "52 Venezuela Americas  1967 63.479   9709552  9541.4742\n",
       "53 Venezuela Americas  1972 65.712  11515649 10505.2597\n",
       "54 Venezuela Americas  1977 67.456  13503563 13143.9510\n",
       "55 Venezuela Americas  1982 68.557  15620766 11152.4101\n",
       "56 Venezuela Americas  1987 70.190  17910182  9883.5846\n",
       "57 Venezuela Americas  1992 71.150  20265563 10733.9263\n",
       "58 Venezuela Americas  1997 72.146  22374398 10165.4952\n",
       "59 Venezuela Americas  2002 72.766  24287670  8605.0478\n",
       "60 Venezuela Americas  2007 73.747  26084662 11415.8057"
      ]
     },
     "metadata": {},
     "output_type": "display_data"
    }
   ],
   "source": [
    "# your code here\n",
    "(gap_5_dropped <- gap_5 %>% droplevels())"
   ]
  },
  {
   "cell_type": "code",
   "execution_count": 65,
   "metadata": {
    "deletable": false,
    "editable": false,
    "nbgrader": {
     "cell_type": "code",
     "checksum": "fe33bc5f670f0796cf8bc8e47f7bf1a8",
     "grade": true,
     "grade_id": "cell-806b19b02e2333e2",
     "locked": true,
     "points": 1,
     "schema_version": 3,
     "solution": false,
     "task": false
    }
   },
   "outputs": [
    {
     "name": "stdout",
     "output_type": "stream",
     "text": [
      "[1] \"Success!\"\n"
     ]
    }
   ],
   "source": [
    "test_that(\"Question 2.4\", expect_known_hash(sort(levels(gap_5_dropped$country)), \"ac97b9af845a59395697b028c5121503\"))\n",
    "print(\"Success!\")"
   ]
  },
  {
   "cell_type": "markdown",
   "metadata": {
    "deletable": false,
    "editable": false,
    "nbgrader": {
     "cell_type": "markdown",
     "checksum": "4aa536fcf1c02a39e963658364d3abc9",
     "grade": false,
     "grade_id": "cell-1d6499c6b3e1bea1",
     "locked": true,
     "schema_version": 3,
     "solution": false,
     "task": false
    }
   },
   "source": [
    "#### Question 2.5\n",
    "\n",
    "The factor levels of column `continent` in data frame `gapminder` are ordered alphabetically.\n",
    "Create a new data frame, with the levels of column `continent` in *decreasing* order according to their frequency (i.e., the number of rows for each continent).\n",
    "Store the new data frame in variable `gap_continent_freq`.\n",
    "\n",
    "```\n",
    "(gap_continent_freq <- gapminder %>%\n",
    "   mutate(continent = FILL_THIS_IN(FILL_THIS_IN(continent))))\n",
    "```"
   ]
  },
  {
   "cell_type": "code",
   "execution_count": 83,
   "metadata": {
    "deletable": false,
    "lines_to_next_cell": 0,
    "nbgrader": {
     "cell_type": "code",
     "checksum": "4f18954cd2c4ecee7079e54b8cf29d5b",
     "grade": false,
     "grade_id": "cell-041e1b9fdf167cc9",
     "locked": false,
     "schema_version": 3,
     "solution": true,
     "task": false
    }
   },
   "outputs": [
    {
     "data": {
      "text/html": [
       "<table>\n",
       "<caption>A tibble: 1704 × 6</caption>\n",
       "<thead>\n",
       "\t<tr><th scope=col>country</th><th scope=col>continent</th><th scope=col>year</th><th scope=col>lifeExp</th><th scope=col>pop</th><th scope=col>gdpPercap</th></tr>\n",
       "\t<tr><th scope=col>&lt;fct&gt;</th><th scope=col>&lt;fct&gt;</th><th scope=col>&lt;int&gt;</th><th scope=col>&lt;dbl&gt;</th><th scope=col>&lt;int&gt;</th><th scope=col>&lt;dbl&gt;</th></tr>\n",
       "</thead>\n",
       "<tbody>\n",
       "\t<tr><td>Afghanistan</td><td>Asia  </td><td>1952</td><td>28.801</td><td> 8425333</td><td> 779.4453</td></tr>\n",
       "\t<tr><td>Afghanistan</td><td>Asia  </td><td>1957</td><td>30.332</td><td> 9240934</td><td> 820.8530</td></tr>\n",
       "\t<tr><td>Afghanistan</td><td>Asia  </td><td>1962</td><td>31.997</td><td>10267083</td><td> 853.1007</td></tr>\n",
       "\t<tr><td>Afghanistan</td><td>Asia  </td><td>1967</td><td>34.020</td><td>11537966</td><td> 836.1971</td></tr>\n",
       "\t<tr><td>Afghanistan</td><td>Asia  </td><td>1972</td><td>36.088</td><td>13079460</td><td> 739.9811</td></tr>\n",
       "\t<tr><td>Afghanistan</td><td>Asia  </td><td>1977</td><td>38.438</td><td>14880372</td><td> 786.1134</td></tr>\n",
       "\t<tr><td>Afghanistan</td><td>Asia  </td><td>1982</td><td>39.854</td><td>12881816</td><td> 978.0114</td></tr>\n",
       "\t<tr><td>Afghanistan</td><td>Asia  </td><td>1987</td><td>40.822</td><td>13867957</td><td> 852.3959</td></tr>\n",
       "\t<tr><td>Afghanistan</td><td>Asia  </td><td>1992</td><td>41.674</td><td>16317921</td><td> 649.3414</td></tr>\n",
       "\t<tr><td>Afghanistan</td><td>Asia  </td><td>1997</td><td>41.763</td><td>22227415</td><td> 635.3414</td></tr>\n",
       "\t<tr><td>Afghanistan</td><td>Asia  </td><td>2002</td><td>42.129</td><td>25268405</td><td> 726.7341</td></tr>\n",
       "\t<tr><td>Afghanistan</td><td>Asia  </td><td>2007</td><td>43.828</td><td>31889923</td><td> 974.5803</td></tr>\n",
       "\t<tr><td>Albania    </td><td>Europe</td><td>1952</td><td>55.230</td><td> 1282697</td><td>1601.0561</td></tr>\n",
       "\t<tr><td>Albania    </td><td>Europe</td><td>1957</td><td>59.280</td><td> 1476505</td><td>1942.2842</td></tr>\n",
       "\t<tr><td>Albania    </td><td>Europe</td><td>1962</td><td>64.820</td><td> 1728137</td><td>2312.8890</td></tr>\n",
       "\t<tr><td>Albania    </td><td>Europe</td><td>1967</td><td>66.220</td><td> 1984060</td><td>2760.1969</td></tr>\n",
       "\t<tr><td>Albania    </td><td>Europe</td><td>1972</td><td>67.690</td><td> 2263554</td><td>3313.4222</td></tr>\n",
       "\t<tr><td>Albania    </td><td>Europe</td><td>1977</td><td>68.930</td><td> 2509048</td><td>3533.0039</td></tr>\n",
       "\t<tr><td>Albania    </td><td>Europe</td><td>1982</td><td>70.420</td><td> 2780097</td><td>3630.8807</td></tr>\n",
       "\t<tr><td>Albania    </td><td>Europe</td><td>1987</td><td>72.000</td><td> 3075321</td><td>3738.9327</td></tr>\n",
       "\t<tr><td>Albania    </td><td>Europe</td><td>1992</td><td>71.581</td><td> 3326498</td><td>2497.4379</td></tr>\n",
       "\t<tr><td>Albania    </td><td>Europe</td><td>1997</td><td>72.950</td><td> 3428038</td><td>3193.0546</td></tr>\n",
       "\t<tr><td>Albania    </td><td>Europe</td><td>2002</td><td>75.651</td><td> 3508512</td><td>4604.2117</td></tr>\n",
       "\t<tr><td>Albania    </td><td>Europe</td><td>2007</td><td>76.423</td><td> 3600523</td><td>5937.0295</td></tr>\n",
       "\t<tr><td>Algeria    </td><td>Africa</td><td>1952</td><td>43.077</td><td> 9279525</td><td>2449.0082</td></tr>\n",
       "\t<tr><td>Algeria    </td><td>Africa</td><td>1957</td><td>45.685</td><td>10270856</td><td>3013.9760</td></tr>\n",
       "\t<tr><td>Algeria    </td><td>Africa</td><td>1962</td><td>48.303</td><td>11000948</td><td>2550.8169</td></tr>\n",
       "\t<tr><td>Algeria    </td><td>Africa</td><td>1967</td><td>51.407</td><td>12760499</td><td>3246.9918</td></tr>\n",
       "\t<tr><td>Algeria    </td><td>Africa</td><td>1972</td><td>54.518</td><td>14760787</td><td>4182.6638</td></tr>\n",
       "\t<tr><td>Algeria    </td><td>Africa</td><td>1977</td><td>58.014</td><td>17152804</td><td>4910.4168</td></tr>\n",
       "\t<tr><td>⋮</td><td>⋮</td><td>⋮</td><td>⋮</td><td>⋮</td><td>⋮</td></tr>\n",
       "\t<tr><td>Yemen, Rep.</td><td>Asia  </td><td>1982</td><td>49.113</td><td> 9657618</td><td>1977.5570</td></tr>\n",
       "\t<tr><td>Yemen, Rep.</td><td>Asia  </td><td>1987</td><td>52.922</td><td>11219340</td><td>1971.7415</td></tr>\n",
       "\t<tr><td>Yemen, Rep.</td><td>Asia  </td><td>1992</td><td>55.599</td><td>13367997</td><td>1879.4967</td></tr>\n",
       "\t<tr><td>Yemen, Rep.</td><td>Asia  </td><td>1997</td><td>58.020</td><td>15826497</td><td>2117.4845</td></tr>\n",
       "\t<tr><td>Yemen, Rep.</td><td>Asia  </td><td>2002</td><td>60.308</td><td>18701257</td><td>2234.8208</td></tr>\n",
       "\t<tr><td>Yemen, Rep.</td><td>Asia  </td><td>2007</td><td>62.698</td><td>22211743</td><td>2280.7699</td></tr>\n",
       "\t<tr><td>Zambia     </td><td>Africa</td><td>1952</td><td>42.038</td><td> 2672000</td><td>1147.3888</td></tr>\n",
       "\t<tr><td>Zambia     </td><td>Africa</td><td>1957</td><td>44.077</td><td> 3016000</td><td>1311.9568</td></tr>\n",
       "\t<tr><td>Zambia     </td><td>Africa</td><td>1962</td><td>46.023</td><td> 3421000</td><td>1452.7258</td></tr>\n",
       "\t<tr><td>Zambia     </td><td>Africa</td><td>1967</td><td>47.768</td><td> 3900000</td><td>1777.0773</td></tr>\n",
       "\t<tr><td>Zambia     </td><td>Africa</td><td>1972</td><td>50.107</td><td> 4506497</td><td>1773.4983</td></tr>\n",
       "\t<tr><td>Zambia     </td><td>Africa</td><td>1977</td><td>51.386</td><td> 5216550</td><td>1588.6883</td></tr>\n",
       "\t<tr><td>Zambia     </td><td>Africa</td><td>1982</td><td>51.821</td><td> 6100407</td><td>1408.6786</td></tr>\n",
       "\t<tr><td>Zambia     </td><td>Africa</td><td>1987</td><td>50.821</td><td> 7272406</td><td>1213.3151</td></tr>\n",
       "\t<tr><td>Zambia     </td><td>Africa</td><td>1992</td><td>46.100</td><td> 8381163</td><td>1210.8846</td></tr>\n",
       "\t<tr><td>Zambia     </td><td>Africa</td><td>1997</td><td>40.238</td><td> 9417789</td><td>1071.3538</td></tr>\n",
       "\t<tr><td>Zambia     </td><td>Africa</td><td>2002</td><td>39.193</td><td>10595811</td><td>1071.6139</td></tr>\n",
       "\t<tr><td>Zambia     </td><td>Africa</td><td>2007</td><td>42.384</td><td>11746035</td><td>1271.2116</td></tr>\n",
       "\t<tr><td>Zimbabwe   </td><td>Africa</td><td>1952</td><td>48.451</td><td> 3080907</td><td> 406.8841</td></tr>\n",
       "\t<tr><td>Zimbabwe   </td><td>Africa</td><td>1957</td><td>50.469</td><td> 3646340</td><td> 518.7643</td></tr>\n",
       "\t<tr><td>Zimbabwe   </td><td>Africa</td><td>1962</td><td>52.358</td><td> 4277736</td><td> 527.2722</td></tr>\n",
       "\t<tr><td>Zimbabwe   </td><td>Africa</td><td>1967</td><td>53.995</td><td> 4995432</td><td> 569.7951</td></tr>\n",
       "\t<tr><td>Zimbabwe   </td><td>Africa</td><td>1972</td><td>55.635</td><td> 5861135</td><td> 799.3622</td></tr>\n",
       "\t<tr><td>Zimbabwe   </td><td>Africa</td><td>1977</td><td>57.674</td><td> 6642107</td><td> 685.5877</td></tr>\n",
       "\t<tr><td>Zimbabwe   </td><td>Africa</td><td>1982</td><td>60.363</td><td> 7636524</td><td> 788.8550</td></tr>\n",
       "\t<tr><td>Zimbabwe   </td><td>Africa</td><td>1987</td><td>62.351</td><td> 9216418</td><td> 706.1573</td></tr>\n",
       "\t<tr><td>Zimbabwe   </td><td>Africa</td><td>1992</td><td>60.377</td><td>10704340</td><td> 693.4208</td></tr>\n",
       "\t<tr><td>Zimbabwe   </td><td>Africa</td><td>1997</td><td>46.809</td><td>11404948</td><td> 792.4500</td></tr>\n",
       "\t<tr><td>Zimbabwe   </td><td>Africa</td><td>2002</td><td>39.989</td><td>11926563</td><td> 672.0386</td></tr>\n",
       "\t<tr><td>Zimbabwe   </td><td>Africa</td><td>2007</td><td>43.487</td><td>12311143</td><td> 469.7093</td></tr>\n",
       "</tbody>\n",
       "</table>\n"
      ],
      "text/latex": [
       "A tibble: 1704 × 6\n",
       "\\begin{tabular}{llllll}\n",
       " country & continent & year & lifeExp & pop & gdpPercap\\\\\n",
       " <fct> & <fct> & <int> & <dbl> & <int> & <dbl>\\\\\n",
       "\\hline\n",
       "\t Afghanistan & Asia   & 1952 & 28.801 &  8425333 &  779.4453\\\\\n",
       "\t Afghanistan & Asia   & 1957 & 30.332 &  9240934 &  820.8530\\\\\n",
       "\t Afghanistan & Asia   & 1962 & 31.997 & 10267083 &  853.1007\\\\\n",
       "\t Afghanistan & Asia   & 1967 & 34.020 & 11537966 &  836.1971\\\\\n",
       "\t Afghanistan & Asia   & 1972 & 36.088 & 13079460 &  739.9811\\\\\n",
       "\t Afghanistan & Asia   & 1977 & 38.438 & 14880372 &  786.1134\\\\\n",
       "\t Afghanistan & Asia   & 1982 & 39.854 & 12881816 &  978.0114\\\\\n",
       "\t Afghanistan & Asia   & 1987 & 40.822 & 13867957 &  852.3959\\\\\n",
       "\t Afghanistan & Asia   & 1992 & 41.674 & 16317921 &  649.3414\\\\\n",
       "\t Afghanistan & Asia   & 1997 & 41.763 & 22227415 &  635.3414\\\\\n",
       "\t Afghanistan & Asia   & 2002 & 42.129 & 25268405 &  726.7341\\\\\n",
       "\t Afghanistan & Asia   & 2007 & 43.828 & 31889923 &  974.5803\\\\\n",
       "\t Albania     & Europe & 1952 & 55.230 &  1282697 & 1601.0561\\\\\n",
       "\t Albania     & Europe & 1957 & 59.280 &  1476505 & 1942.2842\\\\\n",
       "\t Albania     & Europe & 1962 & 64.820 &  1728137 & 2312.8890\\\\\n",
       "\t Albania     & Europe & 1967 & 66.220 &  1984060 & 2760.1969\\\\\n",
       "\t Albania     & Europe & 1972 & 67.690 &  2263554 & 3313.4222\\\\\n",
       "\t Albania     & Europe & 1977 & 68.930 &  2509048 & 3533.0039\\\\\n",
       "\t Albania     & Europe & 1982 & 70.420 &  2780097 & 3630.8807\\\\\n",
       "\t Albania     & Europe & 1987 & 72.000 &  3075321 & 3738.9327\\\\\n",
       "\t Albania     & Europe & 1992 & 71.581 &  3326498 & 2497.4379\\\\\n",
       "\t Albania     & Europe & 1997 & 72.950 &  3428038 & 3193.0546\\\\\n",
       "\t Albania     & Europe & 2002 & 75.651 &  3508512 & 4604.2117\\\\\n",
       "\t Albania     & Europe & 2007 & 76.423 &  3600523 & 5937.0295\\\\\n",
       "\t Algeria     & Africa & 1952 & 43.077 &  9279525 & 2449.0082\\\\\n",
       "\t Algeria     & Africa & 1957 & 45.685 & 10270856 & 3013.9760\\\\\n",
       "\t Algeria     & Africa & 1962 & 48.303 & 11000948 & 2550.8169\\\\\n",
       "\t Algeria     & Africa & 1967 & 51.407 & 12760499 & 3246.9918\\\\\n",
       "\t Algeria     & Africa & 1972 & 54.518 & 14760787 & 4182.6638\\\\\n",
       "\t Algeria     & Africa & 1977 & 58.014 & 17152804 & 4910.4168\\\\\n",
       "\t ⋮ & ⋮ & ⋮ & ⋮ & ⋮ & ⋮\\\\\n",
       "\t Yemen, Rep. & Asia   & 1982 & 49.113 &  9657618 & 1977.5570\\\\\n",
       "\t Yemen, Rep. & Asia   & 1987 & 52.922 & 11219340 & 1971.7415\\\\\n",
       "\t Yemen, Rep. & Asia   & 1992 & 55.599 & 13367997 & 1879.4967\\\\\n",
       "\t Yemen, Rep. & Asia   & 1997 & 58.020 & 15826497 & 2117.4845\\\\\n",
       "\t Yemen, Rep. & Asia   & 2002 & 60.308 & 18701257 & 2234.8208\\\\\n",
       "\t Yemen, Rep. & Asia   & 2007 & 62.698 & 22211743 & 2280.7699\\\\\n",
       "\t Zambia      & Africa & 1952 & 42.038 &  2672000 & 1147.3888\\\\\n",
       "\t Zambia      & Africa & 1957 & 44.077 &  3016000 & 1311.9568\\\\\n",
       "\t Zambia      & Africa & 1962 & 46.023 &  3421000 & 1452.7258\\\\\n",
       "\t Zambia      & Africa & 1967 & 47.768 &  3900000 & 1777.0773\\\\\n",
       "\t Zambia      & Africa & 1972 & 50.107 &  4506497 & 1773.4983\\\\\n",
       "\t Zambia      & Africa & 1977 & 51.386 &  5216550 & 1588.6883\\\\\n",
       "\t Zambia      & Africa & 1982 & 51.821 &  6100407 & 1408.6786\\\\\n",
       "\t Zambia      & Africa & 1987 & 50.821 &  7272406 & 1213.3151\\\\\n",
       "\t Zambia      & Africa & 1992 & 46.100 &  8381163 & 1210.8846\\\\\n",
       "\t Zambia      & Africa & 1997 & 40.238 &  9417789 & 1071.3538\\\\\n",
       "\t Zambia      & Africa & 2002 & 39.193 & 10595811 & 1071.6139\\\\\n",
       "\t Zambia      & Africa & 2007 & 42.384 & 11746035 & 1271.2116\\\\\n",
       "\t Zimbabwe    & Africa & 1952 & 48.451 &  3080907 &  406.8841\\\\\n",
       "\t Zimbabwe    & Africa & 1957 & 50.469 &  3646340 &  518.7643\\\\\n",
       "\t Zimbabwe    & Africa & 1962 & 52.358 &  4277736 &  527.2722\\\\\n",
       "\t Zimbabwe    & Africa & 1967 & 53.995 &  4995432 &  569.7951\\\\\n",
       "\t Zimbabwe    & Africa & 1972 & 55.635 &  5861135 &  799.3622\\\\\n",
       "\t Zimbabwe    & Africa & 1977 & 57.674 &  6642107 &  685.5877\\\\\n",
       "\t Zimbabwe    & Africa & 1982 & 60.363 &  7636524 &  788.8550\\\\\n",
       "\t Zimbabwe    & Africa & 1987 & 62.351 &  9216418 &  706.1573\\\\\n",
       "\t Zimbabwe    & Africa & 1992 & 60.377 & 10704340 &  693.4208\\\\\n",
       "\t Zimbabwe    & Africa & 1997 & 46.809 & 11404948 &  792.4500\\\\\n",
       "\t Zimbabwe    & Africa & 2002 & 39.989 & 11926563 &  672.0386\\\\\n",
       "\t Zimbabwe    & Africa & 2007 & 43.487 & 12311143 &  469.7093\\\\\n",
       "\\end{tabular}\n"
      ],
      "text/markdown": [
       "\n",
       "A tibble: 1704 × 6\n",
       "\n",
       "| country &lt;fct&gt; | continent &lt;fct&gt; | year &lt;int&gt; | lifeExp &lt;dbl&gt; | pop &lt;int&gt; | gdpPercap &lt;dbl&gt; |\n",
       "|---|---|---|---|---|---|\n",
       "| Afghanistan | Asia   | 1952 | 28.801 |  8425333 |  779.4453 |\n",
       "| Afghanistan | Asia   | 1957 | 30.332 |  9240934 |  820.8530 |\n",
       "| Afghanistan | Asia   | 1962 | 31.997 | 10267083 |  853.1007 |\n",
       "| Afghanistan | Asia   | 1967 | 34.020 | 11537966 |  836.1971 |\n",
       "| Afghanistan | Asia   | 1972 | 36.088 | 13079460 |  739.9811 |\n",
       "| Afghanistan | Asia   | 1977 | 38.438 | 14880372 |  786.1134 |\n",
       "| Afghanistan | Asia   | 1982 | 39.854 | 12881816 |  978.0114 |\n",
       "| Afghanistan | Asia   | 1987 | 40.822 | 13867957 |  852.3959 |\n",
       "| Afghanistan | Asia   | 1992 | 41.674 | 16317921 |  649.3414 |\n",
       "| Afghanistan | Asia   | 1997 | 41.763 | 22227415 |  635.3414 |\n",
       "| Afghanistan | Asia   | 2002 | 42.129 | 25268405 |  726.7341 |\n",
       "| Afghanistan | Asia   | 2007 | 43.828 | 31889923 |  974.5803 |\n",
       "| Albania     | Europe | 1952 | 55.230 |  1282697 | 1601.0561 |\n",
       "| Albania     | Europe | 1957 | 59.280 |  1476505 | 1942.2842 |\n",
       "| Albania     | Europe | 1962 | 64.820 |  1728137 | 2312.8890 |\n",
       "| Albania     | Europe | 1967 | 66.220 |  1984060 | 2760.1969 |\n",
       "| Albania     | Europe | 1972 | 67.690 |  2263554 | 3313.4222 |\n",
       "| Albania     | Europe | 1977 | 68.930 |  2509048 | 3533.0039 |\n",
       "| Albania     | Europe | 1982 | 70.420 |  2780097 | 3630.8807 |\n",
       "| Albania     | Europe | 1987 | 72.000 |  3075321 | 3738.9327 |\n",
       "| Albania     | Europe | 1992 | 71.581 |  3326498 | 2497.4379 |\n",
       "| Albania     | Europe | 1997 | 72.950 |  3428038 | 3193.0546 |\n",
       "| Albania     | Europe | 2002 | 75.651 |  3508512 | 4604.2117 |\n",
       "| Albania     | Europe | 2007 | 76.423 |  3600523 | 5937.0295 |\n",
       "| Algeria     | Africa | 1952 | 43.077 |  9279525 | 2449.0082 |\n",
       "| Algeria     | Africa | 1957 | 45.685 | 10270856 | 3013.9760 |\n",
       "| Algeria     | Africa | 1962 | 48.303 | 11000948 | 2550.8169 |\n",
       "| Algeria     | Africa | 1967 | 51.407 | 12760499 | 3246.9918 |\n",
       "| Algeria     | Africa | 1972 | 54.518 | 14760787 | 4182.6638 |\n",
       "| Algeria     | Africa | 1977 | 58.014 | 17152804 | 4910.4168 |\n",
       "| ⋮ | ⋮ | ⋮ | ⋮ | ⋮ | ⋮ |\n",
       "| Yemen, Rep. | Asia   | 1982 | 49.113 |  9657618 | 1977.5570 |\n",
       "| Yemen, Rep. | Asia   | 1987 | 52.922 | 11219340 | 1971.7415 |\n",
       "| Yemen, Rep. | Asia   | 1992 | 55.599 | 13367997 | 1879.4967 |\n",
       "| Yemen, Rep. | Asia   | 1997 | 58.020 | 15826497 | 2117.4845 |\n",
       "| Yemen, Rep. | Asia   | 2002 | 60.308 | 18701257 | 2234.8208 |\n",
       "| Yemen, Rep. | Asia   | 2007 | 62.698 | 22211743 | 2280.7699 |\n",
       "| Zambia      | Africa | 1952 | 42.038 |  2672000 | 1147.3888 |\n",
       "| Zambia      | Africa | 1957 | 44.077 |  3016000 | 1311.9568 |\n",
       "| Zambia      | Africa | 1962 | 46.023 |  3421000 | 1452.7258 |\n",
       "| Zambia      | Africa | 1967 | 47.768 |  3900000 | 1777.0773 |\n",
       "| Zambia      | Africa | 1972 | 50.107 |  4506497 | 1773.4983 |\n",
       "| Zambia      | Africa | 1977 | 51.386 |  5216550 | 1588.6883 |\n",
       "| Zambia      | Africa | 1982 | 51.821 |  6100407 | 1408.6786 |\n",
       "| Zambia      | Africa | 1987 | 50.821 |  7272406 | 1213.3151 |\n",
       "| Zambia      | Africa | 1992 | 46.100 |  8381163 | 1210.8846 |\n",
       "| Zambia      | Africa | 1997 | 40.238 |  9417789 | 1071.3538 |\n",
       "| Zambia      | Africa | 2002 | 39.193 | 10595811 | 1071.6139 |\n",
       "| Zambia      | Africa | 2007 | 42.384 | 11746035 | 1271.2116 |\n",
       "| Zimbabwe    | Africa | 1952 | 48.451 |  3080907 |  406.8841 |\n",
       "| Zimbabwe    | Africa | 1957 | 50.469 |  3646340 |  518.7643 |\n",
       "| Zimbabwe    | Africa | 1962 | 52.358 |  4277736 |  527.2722 |\n",
       "| Zimbabwe    | Africa | 1967 | 53.995 |  4995432 |  569.7951 |\n",
       "| Zimbabwe    | Africa | 1972 | 55.635 |  5861135 |  799.3622 |\n",
       "| Zimbabwe    | Africa | 1977 | 57.674 |  6642107 |  685.5877 |\n",
       "| Zimbabwe    | Africa | 1982 | 60.363 |  7636524 |  788.8550 |\n",
       "| Zimbabwe    | Africa | 1987 | 62.351 |  9216418 |  706.1573 |\n",
       "| Zimbabwe    | Africa | 1992 | 60.377 | 10704340 |  693.4208 |\n",
       "| Zimbabwe    | Africa | 1997 | 46.809 | 11404948 |  792.4500 |\n",
       "| Zimbabwe    | Africa | 2002 | 39.989 | 11926563 |  672.0386 |\n",
       "| Zimbabwe    | Africa | 2007 | 43.487 | 12311143 |  469.7093 |\n",
       "\n"
      ],
      "text/plain": [
       "     country     continent year lifeExp pop      gdpPercap\n",
       "1    Afghanistan Asia      1952 28.801   8425333  779.4453\n",
       "2    Afghanistan Asia      1957 30.332   9240934  820.8530\n",
       "3    Afghanistan Asia      1962 31.997  10267083  853.1007\n",
       "4    Afghanistan Asia      1967 34.020  11537966  836.1971\n",
       "5    Afghanistan Asia      1972 36.088  13079460  739.9811\n",
       "6    Afghanistan Asia      1977 38.438  14880372  786.1134\n",
       "7    Afghanistan Asia      1982 39.854  12881816  978.0114\n",
       "8    Afghanistan Asia      1987 40.822  13867957  852.3959\n",
       "9    Afghanistan Asia      1992 41.674  16317921  649.3414\n",
       "10   Afghanistan Asia      1997 41.763  22227415  635.3414\n",
       "11   Afghanistan Asia      2002 42.129  25268405  726.7341\n",
       "12   Afghanistan Asia      2007 43.828  31889923  974.5803\n",
       "13   Albania     Europe    1952 55.230   1282697 1601.0561\n",
       "14   Albania     Europe    1957 59.280   1476505 1942.2842\n",
       "15   Albania     Europe    1962 64.820   1728137 2312.8890\n",
       "16   Albania     Europe    1967 66.220   1984060 2760.1969\n",
       "17   Albania     Europe    1972 67.690   2263554 3313.4222\n",
       "18   Albania     Europe    1977 68.930   2509048 3533.0039\n",
       "19   Albania     Europe    1982 70.420   2780097 3630.8807\n",
       "20   Albania     Europe    1987 72.000   3075321 3738.9327\n",
       "21   Albania     Europe    1992 71.581   3326498 2497.4379\n",
       "22   Albania     Europe    1997 72.950   3428038 3193.0546\n",
       "23   Albania     Europe    2002 75.651   3508512 4604.2117\n",
       "24   Albania     Europe    2007 76.423   3600523 5937.0295\n",
       "25   Algeria     Africa    1952 43.077   9279525 2449.0082\n",
       "26   Algeria     Africa    1957 45.685  10270856 3013.9760\n",
       "27   Algeria     Africa    1962 48.303  11000948 2550.8169\n",
       "28   Algeria     Africa    1967 51.407  12760499 3246.9918\n",
       "29   Algeria     Africa    1972 54.518  14760787 4182.6638\n",
       "30   Algeria     Africa    1977 58.014  17152804 4910.4168\n",
       "⋮    ⋮           ⋮         ⋮    ⋮       ⋮        ⋮        \n",
       "1675 Yemen, Rep. Asia      1982 49.113   9657618 1977.5570\n",
       "1676 Yemen, Rep. Asia      1987 52.922  11219340 1971.7415\n",
       "1677 Yemen, Rep. Asia      1992 55.599  13367997 1879.4967\n",
       "1678 Yemen, Rep. Asia      1997 58.020  15826497 2117.4845\n",
       "1679 Yemen, Rep. Asia      2002 60.308  18701257 2234.8208\n",
       "1680 Yemen, Rep. Asia      2007 62.698  22211743 2280.7699\n",
       "1681 Zambia      Africa    1952 42.038   2672000 1147.3888\n",
       "1682 Zambia      Africa    1957 44.077   3016000 1311.9568\n",
       "1683 Zambia      Africa    1962 46.023   3421000 1452.7258\n",
       "1684 Zambia      Africa    1967 47.768   3900000 1777.0773\n",
       "1685 Zambia      Africa    1972 50.107   4506497 1773.4983\n",
       "1686 Zambia      Africa    1977 51.386   5216550 1588.6883\n",
       "1687 Zambia      Africa    1982 51.821   6100407 1408.6786\n",
       "1688 Zambia      Africa    1987 50.821   7272406 1213.3151\n",
       "1689 Zambia      Africa    1992 46.100   8381163 1210.8846\n",
       "1690 Zambia      Africa    1997 40.238   9417789 1071.3538\n",
       "1691 Zambia      Africa    2002 39.193  10595811 1071.6139\n",
       "1692 Zambia      Africa    2007 42.384  11746035 1271.2116\n",
       "1693 Zimbabwe    Africa    1952 48.451   3080907  406.8841\n",
       "1694 Zimbabwe    Africa    1957 50.469   3646340  518.7643\n",
       "1695 Zimbabwe    Africa    1962 52.358   4277736  527.2722\n",
       "1696 Zimbabwe    Africa    1967 53.995   4995432  569.7951\n",
       "1697 Zimbabwe    Africa    1972 55.635   5861135  799.3622\n",
       "1698 Zimbabwe    Africa    1977 57.674   6642107  685.5877\n",
       "1699 Zimbabwe    Africa    1982 60.363   7636524  788.8550\n",
       "1700 Zimbabwe    Africa    1987 62.351   9216418  706.1573\n",
       "1701 Zimbabwe    Africa    1992 60.377  10704340  693.4208\n",
       "1702 Zimbabwe    Africa    1997 46.809  11404948  792.4500\n",
       "1703 Zimbabwe    Africa    2002 39.989  11926563  672.0386\n",
       "1704 Zimbabwe    Africa    2007 43.487  12311143  469.7093"
      ]
     },
     "metadata": {},
     "output_type": "display_data"
    }
   ],
   "source": [
    "# your code here\n",
    "(gap_continent_freq <- gapminder %>%\n",
    "   mutate(continent = fct_rev(fct_infreq(continent))))"
   ]
  },
  {
   "cell_type": "code",
   "execution_count": 84,
   "metadata": {
    "deletable": false,
    "editable": false,
    "nbgrader": {
     "cell_type": "code",
     "checksum": "2b9f142201102eacc2dbb48be0f22bfb",
     "grade": true,
     "grade_id": "cell-b38804e6a06d9de3",
     "locked": true,
     "points": 1,
     "schema_version": 3,
     "solution": false,
     "task": false
    }
   },
   "outputs": [
    {
     "name": "stdout",
     "output_type": "stream",
     "text": [
      "[1] \"Success!\"\n"
     ]
    }
   ],
   "source": [
    "test_that(\"Question 2.5\", expect_known_hash(table(gap_continent_freq$continent), \"0bb23ea87ce71deb5452eaae8cdbf7cf\"))\n",
    "print(\"Success!\")"
   ]
  },
  {
   "cell_type": "markdown",
   "metadata": {
    "deletable": false,
    "editable": false,
    "nbgrader": {
     "cell_type": "markdown",
     "checksum": "2f557135fecfb03cdacf94f8f4d03ba1",
     "grade": false,
     "grade_id": "cell-b8379204e1f83944",
     "locked": true,
     "schema_version": 3,
     "solution": false,
     "task": false
    }
   },
   "source": [
    "#### Question 2.6\n",
    "\n",
    "Again based on the `gapminder` data set, create another data frame, with the levels of column `continent` in *increasing* order of their average life expectancy (from column `lifeExp`).\n",
    "Store the new data frame in variable `gap_continent_life`.\n",
    "\n",
    "```\n",
    "(gap_continent_life <- gapminder %>%\n",
    "   mutate(continent = FILL_THIS_IN(FILL_THIS_IN, FILL_THIS_IN, FILL_THIS_IN)))\n",
    "```"
   ]
  },
  {
   "cell_type": "code",
   "execution_count": 94,
   "metadata": {
    "deletable": false,
    "lines_to_next_cell": 0,
    "nbgrader": {
     "cell_type": "code",
     "checksum": "217c77529a2880b17ec169a6ce90042e",
     "grade": false,
     "grade_id": "cell-d9568dc0d8c17add",
     "locked": false,
     "schema_version": 3,
     "solution": true,
     "task": false
    }
   },
   "outputs": [
    {
     "ename": "ERROR",
     "evalue": "Error: Problem with `mutate()` input `continent`.\n\u001b[31m✖\u001b[39m 1 components of `...` were not used.\n\nWe detected these problematic arguments:\n* `fun`\n\nDid you misspecify an argument?\n\u001b[34mℹ\u001b[39m Input `continent` is `fct_reorder(continent, lifeExp, fun = mean)`.\n",
     "output_type": "error",
     "traceback": [
      "Error: Problem with `mutate()` input `continent`.\n\u001b[31m✖\u001b[39m 1 components of `...` were not used.\n\nWe detected these problematic arguments:\n* `fun`\n\nDid you misspecify an argument?\n\u001b[34mℹ\u001b[39m Input `continent` is `fct_reorder(continent, lifeExp, fun = mean)`.\nTraceback:\n",
      "1. gapminder %>% mutate(continent = fct_reorder(continent, lifeExp, \n .     fun = mean))",
      "2. withVisible(eval(quote(`_fseq`(`_lhs`)), env, env))",
      "3. eval(quote(`_fseq`(`_lhs`)), env, env)",
      "4. eval(quote(`_fseq`(`_lhs`)), env, env)",
      "5. `_fseq`(`_lhs`)",
      "6. freduce(value, `_function_list`)",
      "7. withVisible(function_list[[k]](value))",
      "8. function_list[[k]](value)",
      "9. mutate(., continent = fct_reorder(continent, lifeExp, fun = mean))",
      "10. mutate.data.frame(., continent = fct_reorder(continent, lifeExp, \n  .     fun = mean))",
      "11. mutate_cols(.data, ...)",
      "12. withCallingHandlers({\n  .     for (i in seq_along(dots)) {\n  .         not_named <- (is.null(dots_names) || dots_names[i] == \n  .             \"\")\n  .         chunks <- NULL\n  .         result <- NULL\n  .         if (quo_is_symbol(dots[[i]])) {\n  .             name <- as_string(quo_get_expr(dots[[i]]))\n  .             if (name %in% names(new_columns)) {\n  .                 result <- new_columns[[name]]\n  .                 chunks <- mask$get_resolved(name)\n  .             }\n  .             else if (name %in% names(.data)) {\n  .                 result <- .data[[name]]\n  .                 chunks <- mask$resolve(name)\n  .             }\n  .             if (inherits(.data, \"rowwise_df\") && vec_is_list(result)) {\n  .                 sizes <- list_sizes(result)\n  .                 wrong <- which(sizes != 1)\n  .                 if (length(wrong)) {\n  .                   group <- wrong[1L]\n  .                   mask$set_current_group(group)\n  .                   stop_mutate_recycle_incompatible_size(sizes[group])\n  .                 }\n  .             }\n  .         }\n  .         if (is.null(chunks)) {\n  .             chunks <- mask$eval_all_mutate(dots[[i]])\n  .         }\n  .         mask$across_cache_reset()\n  .         if (is.null(chunks)) {\n  .             if (!is.null(dots_names) && dots_names[i] != \"\") {\n  .                 new_columns[[dots_names[i]]] <- zap()\n  .                 suppressWarnings(mask$remove(dots_names[i]))\n  .             }\n  .             next\n  .         }\n  .         if (is.null(result)) {\n  .             if (length(rows) == 1) {\n  .                 result <- chunks[[1]]\n  .             }\n  .             else {\n  .                 result <- withCallingHandlers(vec_unchop(chunks, \n  .                   rows), vctrs_error_incompatible_type = function(cnd) {\n  .                   abort(class = \"dplyr:::error_mutate_incompatible_combine\", \n  .                     parent = cnd)\n  .                 })\n  .             }\n  .         }\n  .         if (not_named && is.data.frame(result)) {\n  .             new_columns[names(result)] <- result\n  .             map2(seq_along(result), names(result), function(i, \n  .                 nm) {\n  .                 mask$add(nm, pluck(chunks, i))\n  .             })\n  .         }\n  .         else {\n  .             name <- if (not_named) \n  .                 auto_named_dots[i]\n  .             else dots_names[i]\n  .             new_columns[[name]] <- result\n  .             mask$add(name, chunks)\n  .         }\n  .     }\n  . }, error = function(e) {\n  .     if (inherits(e, \"rlang_error_data_pronoun_not_found\")) {\n  .         stop_error_data_pronoun_not_found(conditionMessage(e), \n  .             index = i, dots = dots, fn = \"mutate\")\n  .     }\n  .     else if (inherits(e, \"dplyr:::mutate_incompatible_size\")) {\n  .         e$size <- vec_size(rows[[i]])\n  .         stop_mutate_recycle_incompatible_size(e, index = i, dots = dots)\n  .     }\n  .     else if (inherits(e, \"dplyr:::mutate_mixed_null\")) {\n  .         stop_mutate_mixed_null(index = i, dots = dots)\n  .     }\n  .     else if (inherits(e, \"dplyr:::mutate_not_vector\")) {\n  .         stop_mutate_not_vector(index = i, dots = dots, result = e$result)\n  .     }\n  .     else if (inherits(e, \"dplyr:::error_mutate_incompatible_combine\")) {\n  .         stop_combine(e$parent, index = i, dots = dots, fn = \"mutate\")\n  .     }\n  .     else {\n  .         stop_dplyr(i, dots, fn = \"mutate\", problem = conditionMessage(e), \n  .             parent = e)\n  .     }\n  . }, warning = function(w) {\n  .     warn_dplyr(i, dots, fn = \"mutate\", problem = conditionMessage(w), \n  .         parent = w)\n  . })",
      "13. mask$eval_all_mutate(dots[[i]])",
      "14. fct_reorder(continent, lifeExp, fun = mean)",
      "15. (function (env = parent.frame(), action) \n  . {\n  .     if (.Call(ellipsis_dots_used, env)) {\n  .         return(invisible())\n  .     }\n  .     proms <- dots(env)\n  .     used <- vapply(proms, promise_forced, logical(1))\n  .     unused <- names(proms)[!used]\n  .     action_dots(action = action, message = paste0(length(unused), \n  .         \" components of `...` were not used.\"), dot_names = unused, \n  .         .subclass = \"rlib_error_dots_unused\", )\n  . })(environment(), function (message = NULL, class = NULL, ..., \n  .     trace = NULL, parent = NULL, .subclass) \n  . {\n  .     validate_signal_args(.subclass)\n  .     if (is_null(trace) && is_null(peek_option(\"rlang:::disable_trace_capture\"))) {\n  .         with_options(`rlang:::disable_trace_capture` = TRUE, \n  .             {\n  .                 trace <- trace_back()\n  .                 if (is_null(parent)) {\n  .                   context <- trace_length(trace)\n  .                 }\n  .                 else {\n  .                   context <- find_capture_context(3L)\n  .                 }\n  .                 trace <- trace_trim_context(trace, context)\n  .             })\n  .     }\n  .     message <- validate_signal_message(message, class)\n  .     message <- collapse_cnd_message(message)\n  .     cnd <- error_cnd(class, ..., message = message, parent = parent, \n  .         trace = trace)\n  .     signal_abort(cnd)\n  . })",
      "16. action_dots(action = action, message = paste0(length(unused), \n  .     \" components of `...` were not used.\"), dot_names = unused, \n  .     .subclass = \"rlib_error_dots_unused\", )",
      "17. action(message, .subclass = c(.subclass, \"rlib_error_dots\"), \n  .     ...)",
      "18. signal_abort(cnd)",
      "19. signalCondition(cnd)",
      "20. (function (e) \n  . {\n  .     if (inherits(e, \"rlang_error_data_pronoun_not_found\")) {\n  .         stop_error_data_pronoun_not_found(conditionMessage(e), \n  .             index = i, dots = dots, fn = \"mutate\")\n  .     }\n  .     else if (inherits(e, \"dplyr:::mutate_incompatible_size\")) {\n  .         e$size <- vec_size(rows[[i]])\n  .         stop_mutate_recycle_incompatible_size(e, index = i, dots = dots)\n  .     }\n  .     else if (inherits(e, \"dplyr:::mutate_mixed_null\")) {\n  .         stop_mutate_mixed_null(index = i, dots = dots)\n  .     }\n  .     else if (inherits(e, \"dplyr:::mutate_not_vector\")) {\n  .         stop_mutate_not_vector(index = i, dots = dots, result = e$result)\n  .     }\n  .     else if (inherits(e, \"dplyr:::error_mutate_incompatible_combine\")) {\n  .         stop_combine(e$parent, index = i, dots = dots, fn = \"mutate\")\n  .     }\n  .     else {\n  .         stop_dplyr(i, dots, fn = \"mutate\", problem = conditionMessage(e), \n  .             parent = e)\n  .     }\n  . })(structure(list(message = \"1 components of `...` were not used.\\n\\nWe detected these problematic arguments:\\n* `fun`\\n\\nDid you misspecify an argument?\", \n  .     trace = structure(list(calls = list(IRkernel::main(), kernel$run(), \n  .         IRkernel:::handle_shell(), executor$execute(msg), base::tryCatch(evaluate(request$content$code, \n  .             envir = .GlobalEnv, output_handler = oh, stop_on_error = 1L), \n  .             interrupt = function(cond) {\n  .                 log_debug(\"Interrupt during execution\")\n  .                 interrupted <<- TRUE\n  .             }, error = .self$handle_error), base:::tryCatchList(expr, \n  .             classes, parentenv, handlers), base:::tryCatchOne(tryCatchList(expr, \n  .             names[-nh], parentenv, handlers[-nh]), names[nh], \n  .             parentenv, handlers[[nh]]), base:::doTryCatch(return(expr), \n  .             name, parentenv, handler), base:::tryCatchList(expr, \n  .             names[-nh], parentenv, handlers[-nh]), base:::tryCatchOne(expr, \n  .             names, parentenv, handlers[[1L]]), base:::doTryCatch(return(expr), \n  .             name, parentenv, handler), evaluate::evaluate(request$content$code, \n  .             envir = .GlobalEnv, output_handler = oh, stop_on_error = 1L), \n  .         evaluate:::evaluate_call(expr, parsed$src[[i]], envir = envir, \n  .             enclos = enclos, debug = debug, last = i == length(out), \n  .             use_try = stop_on_error != 2L, keep_warning = keep_warning, \n  .             keep_message = keep_message, output_handler = output_handler, \n  .             include_timing = include_timing), evaluate:::timing_fn(handle(ev <- withCallingHandlers(withVisible(eval(expr, \n  .             envir, enclos)), warning = wHandler, error = eHandler, \n  .             message = mHandler))), evaluate:::handle(ev <- withCallingHandlers(withVisible(eval(expr, \n  .             envir, enclos)), warning = wHandler, error = eHandler, \n  .             message = mHandler)), base::try(f, silent = TRUE), \n  .         base::tryCatch(expr, error = function(e) {\n  .             call <- conditionCall(e)\n  .             if (!is.null(call)) {\n  .                 if (identical(call[[1L]], quote(doTryCatch))) \n  .                   call <- sys.call(-4L)\n  .                 dcall <- deparse(call)[1L]\n  .                 prefix <- paste(\"Error in\", dcall, \": \")\n  .                 LONG <- 75L\n  .                 sm <- strsplit(conditionMessage(e), \"\\n\")[[1L]]\n  .                 w <- 14L + nchar(dcall, type = \"w\") + nchar(sm[1L], \n  .                   type = \"w\")\n  .                 if (is.na(w)) \n  .                   w <- 14L + nchar(dcall, type = \"b\") + nchar(sm[1L], \n  .                     type = \"b\")\n  .                 if (w > LONG) \n  .                   prefix <- paste0(prefix, \"\\n  \")\n  .             }\n  .             else prefix <- \"Error : \"\n  .             msg <- paste0(prefix, conditionMessage(e), \"\\n\")\n  .             .Internal(seterrmessage(msg[1L]))\n  .             if (!silent && isTRUE(getOption(\"show.error.messages\"))) {\n  .                 cat(msg, file = outFile)\n  .                 .Internal(printDeferredWarnings())\n  .             }\n  .             invisible(structure(msg, class = \"try-error\", condition = e))\n  .         }), base:::tryCatchList(expr, classes, parentenv, handlers), \n  .         base:::tryCatchOne(expr, names, parentenv, handlers[[1L]]), \n  .         base:::doTryCatch(return(expr), name, parentenv, handler), \n  .         base::withCallingHandlers(withVisible(eval(expr, envir, \n  .             enclos)), warning = wHandler, error = eHandler, message = mHandler), \n  .         base::withVisible(eval(expr, envir, enclos)), base::eval(expr, \n  .             envir, enclos), base::eval(expr, envir, enclos), \n  .         gapminder %>% mutate(continent = fct_reorder(continent, \n  .             lifeExp, fun = mean)), base::withVisible(eval(quote(`_fseq`(`_lhs`)), \n  .             env, env)), base::eval(quote(`_fseq`(`_lhs`)), env, \n  .             env), base::eval(quote(`_fseq`(`_lhs`)), env, env), \n  .         `_fseq`(`_lhs`), magrittr::freduce(value, `_function_list`), \n  .         base::withVisible(function_list[[k]](value)), function_list[[k]](value), \n  .         dplyr::mutate(., continent = fct_reorder(continent, lifeExp, \n  .             fun = mean)), dplyr:::mutate.data.frame(., continent = fct_reorder(continent, \n  .             lifeExp, fun = mean)), dplyr:::mutate_cols(.data, \n  .             ...), base::withCallingHandlers({\n  .             for (i in seq_along(dots)) {\n  .                 not_named <- (is.null(dots_names) || dots_names[i] == \n  .                   \"\")\n  .                 chunks <- NULL\n  .                 result <- NULL\n  .                 if (quo_is_symbol(dots[[i]])) {\n  .                   name <- as_string(quo_get_expr(dots[[i]]))\n  .                   if (name %in% names(new_columns)) {\n  .                     result <- new_columns[[name]]\n  .                     chunks <- mask$get_resolved(name)\n  .                   }\n  .                   else if (name %in% names(.data)) {\n  .                     result <- .data[[name]]\n  .                     chunks <- mask$resolve(name)\n  .                   }\n  .                   if (inherits(.data, \"rowwise_df\") && vec_is_list(result)) {\n  .                     sizes <- list_sizes(result)\n  .                     wrong <- which(sizes != 1)\n  .                     if (length(wrong)) {\n  .                       group <- wrong[1L]\n  .                       mask$set_current_group(group)\n  .                       stop_mutate_recycle_incompatible_size(sizes[group])\n  .                     }\n  .                   }\n  .                 }\n  .                 if (is.null(chunks)) {\n  .                   chunks <- mask$eval_all_mutate(dots[[i]])\n  .                 }\n  .                 mask$across_cache_reset()\n  .                 if (is.null(chunks)) {\n  .                   if (!is.null(dots_names) && dots_names[i] != \n  .                     \"\") {\n  .                     new_columns[[dots_names[i]]] <- zap()\n  .                     suppressWarnings(mask$remove(dots_names[i]))\n  .                   }\n  .                   next\n  .                 }\n  .                 if (is.null(result)) {\n  .                   if (length(rows) == 1) {\n  .                     result <- chunks[[1]]\n  .                   }\n  .                   else {\n  .                     result <- withCallingHandlers(vec_unchop(chunks, \n  .                       rows), vctrs_error_incompatible_type = function(cnd) {\n  .                       abort(class = \"dplyr:::error_mutate_incompatible_combine\", \n  .                         parent = cnd)\n  .                     })\n  .                   }\n  .                 }\n  .                 if (not_named && is.data.frame(result)) {\n  .                   new_columns[names(result)] <- result\n  .                   map2(seq_along(result), names(result), function(i, \n  .                     nm) {\n  .                     mask$add(nm, pluck(chunks, i))\n  .                   })\n  .                 }\n  .                 else {\n  .                   name <- if (not_named) \n  .                     auto_named_dots[i]\n  .                   else dots_names[i]\n  .                   new_columns[[name]] <- result\n  .                   mask$add(name, chunks)\n  .                 }\n  .             }\n  .         }, error = function(e) {\n  .             if (inherits(e, \"rlang_error_data_pronoun_not_found\")) {\n  .                 stop_error_data_pronoun_not_found(conditionMessage(e), \n  .                   index = i, dots = dots, fn = \"mutate\")\n  .             }\n  .             else if (inherits(e, \"dplyr:::mutate_incompatible_size\")) {\n  .                 e$size <- vec_size(rows[[i]])\n  .                 stop_mutate_recycle_incompatible_size(e, index = i, \n  .                   dots = dots)\n  .             }\n  .             else if (inherits(e, \"dplyr:::mutate_mixed_null\")) {\n  .                 stop_mutate_mixed_null(index = i, dots = dots)\n  .             }\n  .             else if (inherits(e, \"dplyr:::mutate_not_vector\")) {\n  .                 stop_mutate_not_vector(index = i, dots = dots, \n  .                   result = e$result)\n  .             }\n  .             else if (inherits(e, \"dplyr:::error_mutate_incompatible_combine\")) {\n  .                 stop_combine(e$parent, index = i, dots = dots, \n  .                   fn = \"mutate\")\n  .             }\n  .             else {\n  .                 stop_dplyr(i, dots, fn = \"mutate\", problem = conditionMessage(e), \n  .                   parent = e)\n  .             }\n  .         }, warning = function(w) {\n  .             warn_dplyr(i, dots, fn = \"mutate\", problem = conditionMessage(w), \n  .                 parent = w)\n  .         }), mask$eval_all_mutate(dots[[i]]), forcats::fct_reorder(continent, \n  .             lifeExp, fun = mean), (function (env = parent.frame(), \n  .             action) \n  .         {\n  .             if (.Call(ellipsis_dots_used, env)) {\n  .                 return(invisible())\n  .             }\n  .             proms <- dots(env)\n  .             used <- vapply(proms, promise_forced, logical(1))\n  .             unused <- names(proms)[!used]\n  .             action_dots(action = action, message = paste0(length(unused), \n  .                 \" components of `...` were not used.\"), dot_names = unused, \n  .                 .subclass = \"rlib_error_dots_unused\", )\n  .         })(environment(), function (message = NULL, class = NULL, \n  .             ..., trace = NULL, parent = NULL, .subclass) \n  .         {\n  .             validate_signal_args(.subclass)\n  .             if (is_null(trace) && is_null(peek_option(\"rlang:::disable_trace_capture\"))) {\n  .                 with_options(`rlang:::disable_trace_capture` = TRUE, \n  .                   {\n  .                     trace <- trace_back()\n  .                     if (is_null(parent)) {\n  .                       context <- trace_length(trace)\n  .                     }\n  .                     else {\n  .                       context <- find_capture_context(3L)\n  .                     }\n  .                     trace <- trace_trim_context(trace, context)\n  .                   })\n  .             }\n  .             message <- validate_signal_message(message, class)\n  .             message <- collapse_cnd_message(message)\n  .             cnd <- error_cnd(class, ..., message = message, parent = parent, \n  .                 trace = trace)\n  .             signal_abort(cnd)\n  .         }), ellipsis:::action_dots(action = action, message = paste0(length(unused), \n  .             \" components of `...` were not used.\"), dot_names = unused, \n  .             .subclass = \"rlib_error_dots_unused\", )), parents = c(0L, \n  .     1L, 2L, 3L, 4L, 5L, 6L, 7L, 6L, 9L, 10L, 4L, 12L, 13L, 13L, \n  .     15L, 16L, 17L, 18L, 19L, 13L, 13L, 13L, 23L, 0L, 25L, 25L, \n  .     27L, 28L, 29L, 30L, 30L, 32L, 32L, 34L, 35L, 35L, 0L, 38L, \n  .     39L), ids = c(\"0x5653f9b3d240\", \"0x5653fae60008\", \"0x565401d323c8\", \n  .     \"0x56540010f900\", \"0x5654011cb5b8\", \"0x5654011cdb30\", \"0x5654011cd7e8\", \n  .     \"0x5654011cd4a0\", \"0x565400e343d0\", \"0x565400e34018\", \"0x565400e33cd0\", \n  .     \"0x565400e33598\", \"0x565401d25690\", \"0x56540185f800\", \"0x56540185f720\", \n  .     \"0x56540185f598\", \"0x56540185f368\", \"0x56540185eca0\", \"0x56540185e958\", \n  .     \"0x56540185e610\", \"0x56540185e098\", \"0x565401861918\", \"0x5654018616e8\", \n  .     \"global\", \"0x565401861480\", \"0x56540248dbe0\", \"0x56540248d9b0\", \n  .     \"0x5654018610c8\", \"0x56540248d7f0\", \"0x56540248d630\", \"0x56540248d4e0\", \n  .     \"0x56540248d400\", \"0x56540248d208\", \"0x56540248cde0\", \"0x56540121f990\", \n  .     \"0x5654006c7260\", \"0x5654006c6310\", \"0x5654006874a8\", \"0x5653fffbca80\", \n  .     \"0x5653fffbf7a0\"), indices = 1:40), class = \"rlang_trace\"), \n  .     parent = NULL), class = c(\"rlib_error_dots_unused\", \"rlib_error_dots\", \n  . \"rlang_error\", \"error\", \"condition\")))",
      "21. stop_dplyr(i, dots, fn = \"mutate\", problem = conditionMessage(e), \n  .     parent = e)",
      "22. .signal(bullets, class = \"dplyr_error\", error_name = error_name, \n  .     error_expression = error_expression, index = .index, dots = dots, \n  .     fn = fn, parent = parent)",
      "23. signal_abort(cnd)"
     ]
    }
   ],
   "source": [
    "# your code here\n",
    "(gap_continent_life <- gapminder %>%\n",
    "   mutate(continent = fct_reorder(continent, lifeExp, fun = mean)))"
   ]
  },
  {
   "cell_type": "code",
   "execution_count": 91,
   "metadata": {
    "deletable": false,
    "editable": false,
    "nbgrader": {
     "cell_type": "code",
     "checksum": "030a6e15b39bb6655cac4e54de1744f2",
     "grade": true,
     "grade_id": "cell-7afaeb0beeff31e0",
     "locked": true,
     "points": 1,
     "schema_version": 3,
     "solution": false,
     "task": false
    }
   },
   "outputs": [
    {
     "ename": "ERROR",
     "evalue": "Error: Test failed: 'Question 2.6'\n* object 'gap_continent_life' not found\n\u001b[1mBacktrace:\u001b[22m\n\u001b[90m 1. \u001b[39mtestthat::expect_known_hash(...)\n\u001b[90m 4. \u001b[39mbase::table(gap_continent_life$continent)\n",
     "output_type": "error",
     "traceback": [
      "Error: Test failed: 'Question 2.6'\n* object 'gap_continent_life' not found\n\u001b[1mBacktrace:\u001b[22m\n\u001b[90m 1. \u001b[39mtestthat::expect_known_hash(...)\n\u001b[90m 4. \u001b[39mbase::table(gap_continent_life$continent)\nTraceback:\n",
      "1. test_that(\"Question 2.6\", expect_known_hash(table(gap_continent_life$continent), \n .     \"7688676a0807063f1bfa5b4cc721c2d9\"))",
      "2. test_code(desc, code, env = parent.frame())",
      "3. get_reporter()$end_test(context = get_reporter()$.context, test = test)",
      "4. stop(message, call. = FALSE)"
     ]
    }
   ],
   "source": [
    "test_that(\"Question 2.6\", expect_known_hash(table(gap_continent_life$continent), \"7688676a0807063f1bfa5b4cc721c2d9\"))\n",
    "print(\"Success!\")"
   ]
  },
  {
   "cell_type": "markdown",
   "metadata": {
    "deletable": false,
    "editable": false,
    "nbgrader": {
     "cell_type": "markdown",
     "checksum": "5ce3aabc8623423d59fcd94fe8173bb2",
     "grade": false,
     "grade_id": "cell-99aa45fbba8d8199",
     "locked": true,
     "schema_version": 3,
     "solution": false,
     "task": false
    }
   },
   "source": [
    "#### Question 2.7\n",
    "\n",
    "Consider now you want to make comparisons between countries, relative to Canada.\n",
    "Create a new data frame, with the levels of column `country` rearranged to have Canada as the first one.\n",
    "Store the new data frame in variable `gap_canada_base`.\n",
    "\n",
    "```\n",
    "(gap_canada_base <- gapminder %>%\n",
    "   mutate(country = FILL_THIS_IN(FILL_THIS_IN, \"FILL_THIS_IN\")))\n",
    "```"
   ]
  },
  {
   "cell_type": "code",
   "execution_count": null,
   "metadata": {
    "deletable": false,
    "lines_to_next_cell": 0,
    "nbgrader": {
     "cell_type": "code",
     "checksum": "9e52634a6431a0fc2b263f51fd1cc345",
     "grade": false,
     "grade_id": "cell-636b191a444f10bf",
     "locked": false,
     "schema_version": 3,
     "solution": true,
     "task": false
    }
   },
   "outputs": [],
   "source": [
    "# your code here\n",
    "fail() # No Answer - remove if you provide an answer"
   ]
  },
  {
   "cell_type": "code",
   "execution_count": null,
   "metadata": {
    "deletable": false,
    "editable": false,
    "nbgrader": {
     "cell_type": "code",
     "checksum": "0a2b758aa768c595179a607c20045f16",
     "grade": true,
     "grade_id": "cell-de2504ab380c7da4",
     "locked": true,
     "points": 1,
     "schema_version": 3,
     "solution": false,
     "task": false
    }
   },
   "outputs": [],
   "source": [
    "test_that(\"Question 2.7\", expect_known_hash(table(gap_canada_base$country), \"72d75ce05a16d8965f7bd0ae3fb986d3\"))\n",
    "print(\"Success!\")"
   ]
  },
  {
   "cell_type": "markdown",
   "metadata": {
    "deletable": false,
    "editable": false,
    "nbgrader": {
     "cell_type": "markdown",
     "checksum": "b9cb7f29e732d26cbec6583950f5adbf",
     "grade": false,
     "grade_id": "cell-4474329a11f182dd",
     "locked": true,
     "schema_version": 3,
     "solution": false,
     "task": false
    }
   },
   "source": [
    "#### Question 2.8\n",
    "\n",
    "Sometimes you want to manually change a few factor levels, e.g., if the level is too wide for plotting.\n",
    "Based on the `gapminder` data set, create a new data frame with the Central African Republic renamed to *Central African Rep.* and Bosnia and Herzegovina renamed to *Bosnia & Herzegovina*.\n",
    "Store the new data frame in variable `gap_car`.\n",
    "\n",
    "```\n",
    "(gap_car <- gapminder %>%\n",
    "   mutate(country = FILL_THIS_IN(FILL_THIS_IN, \"Central African Rep.\" = \"FILL_THIS_IN\",\n",
    "                               \"Bosnia & Herzegovina\" = \"FILL_THIS_IN\")))\n",
    "```"
   ]
  },
  {
   "cell_type": "code",
   "execution_count": null,
   "metadata": {
    "deletable": false,
    "lines_to_next_cell": 0,
    "nbgrader": {
     "cell_type": "code",
     "checksum": "02cb26c36ade3e857e19b3a370376e2f",
     "grade": false,
     "grade_id": "cell-57746edd3f5caa7d",
     "locked": false,
     "schema_version": 3,
     "solution": true,
     "task": false
    }
   },
   "outputs": [],
   "source": [
    "# your code here\n",
    "fail() # No Answer - remove if you provide an answer"
   ]
  },
  {
   "cell_type": "code",
   "execution_count": null,
   "metadata": {
    "deletable": false,
    "editable": false,
    "lines_to_next_cell": 2,
    "nbgrader": {
     "cell_type": "code",
     "checksum": "fb21779588bee69800f24fa581ce54e3",
     "grade": true,
     "grade_id": "cell-339f3fc46993a445",
     "locked": true,
     "points": 1,
     "schema_version": 3,
     "solution": false,
     "task": false
    }
   },
   "outputs": [],
   "source": [
    "test_that(\"Question 2.8\", expect_known_hash(table(gap_car$country), \"9cc15f09cb70b5596bbf3feaa73ee471\"))\n",
    "print(\"Success!\")"
   ]
  },
  {
   "cell_type": "markdown",
   "metadata": {
    "deletable": false,
    "editable": false,
    "lines_to_next_cell": 0,
    "nbgrader": {
     "cell_type": "markdown",
     "checksum": "5943f75adfb1637afd96cd8dd559c5e3",
     "grade": false,
     "grade_id": "cell-ebce2cf9fcfbd426",
     "locked": true,
     "schema_version": 3,
     "solution": false,
     "task": false
    }
   },
   "source": [
    "## TOPIC 2: Tibble Joins\n",
    "\n",
    "### Question 3\n",
    "\n",
    "Run the following R code to load the data (extracted from the R package [singer](https://github.com/JoeyBernhardt/singer))."
   ]
  },
  {
   "cell_type": "code",
   "execution_count": 95,
   "metadata": {
    "deletable": false,
    "editable": false,
    "nbgrader": {
     "cell_type": "code",
     "checksum": "48b7090994d1cd383bd3afd546091a75",
     "grade": false,
     "grade_id": "cell-0bb222125a2b34c3",
     "locked": true,
     "schema_version": 3,
     "solution": false,
     "task": false
    }
   },
   "outputs": [],
   "source": [
    "suppressMessages({\n",
    "  time <- read_csv(\"https://raw.githubusercontent.com/STAT545-UBC/Classroom/master/data/singer/songs.csv\") %>% rename(song = title)\n",
    "  album <- read_csv(\"https://raw.githubusercontent.com/STAT545-UBC/Classroom/master/data/singer/loc.csv\") %>% select(title, everything()) %>% rename(song = title, album = release)\n",
    "})"
   ]
  },
  {
   "cell_type": "markdown",
   "metadata": {
    "deletable": false,
    "editable": false,
    "lines_to_next_cell": 0,
    "nbgrader": {
     "cell_type": "markdown",
     "checksum": "7690fe9095f2a55a1337dbf4ae16c1f7",
     "grade": false,
     "grade_id": "cell-41d432c846c829d3",
     "locked": true,
     "schema_version": 3,
     "solution": false,
     "task": false
    }
   },
   "source": [
    "These two data sets contain information about a few popular songs and albums.\n",
    "Run the following R codes to look at the two data sets:"
   ]
  },
  {
   "cell_type": "code",
   "execution_count": 96,
   "metadata": {
    "deletable": false,
    "editable": false,
    "lines_to_next_cell": 0,
    "nbgrader": {
     "cell_type": "code",
     "checksum": "2e0ff40b714a42f596691b460348089f",
     "grade": false,
     "grade_id": "cell-e42385546e19be2e",
     "locked": true,
     "schema_version": 3,
     "solution": false,
     "task": false
    }
   },
   "outputs": [
    {
     "data": {
      "text/html": [
       "<table>\n",
       "<caption>A spec_tbl_df: 22 × 3</caption>\n",
       "<thead>\n",
       "\t<tr><th scope=col>song</th><th scope=col>artist_name</th><th scope=col>year</th></tr>\n",
       "\t<tr><th scope=col>&lt;chr&gt;</th><th scope=col>&lt;chr&gt;</th><th scope=col>&lt;dbl&gt;</th></tr>\n",
       "</thead>\n",
       "<tbody>\n",
       "\t<tr><td>Corduroy                                      </td><td>Pearl Jam      </td><td>1994</td></tr>\n",
       "\t<tr><td>Grievance                                     </td><td>Pearl Jam      </td><td>2000</td></tr>\n",
       "\t<tr><td>Stupidmop                                     </td><td>Pearl Jam      </td><td>1994</td></tr>\n",
       "\t<tr><td>Present Tense                                 </td><td>Pearl Jam      </td><td>1996</td></tr>\n",
       "\t<tr><td>MFC                                           </td><td>Pearl Jam      </td><td>1998</td></tr>\n",
       "\t<tr><td>Lukin                                         </td><td>Pearl Jam      </td><td>1996</td></tr>\n",
       "\t<tr><td>It's Lulu                                     </td><td>The Boo Radleys</td><td>1995</td></tr>\n",
       "\t<tr><td>Sparrow                                       </td><td>The Boo Radleys</td><td>1992</td></tr>\n",
       "\t<tr><td>Martin_ Doom! It's Seven O'Clock              </td><td>The Boo Radleys</td><td>1995</td></tr>\n",
       "\t<tr><td>Leaves And Sand                               </td><td>The Boo Radleys</td><td>1993</td></tr>\n",
       "\t<tr><td>High as Monkeys                               </td><td>The Boo Radleys</td><td>1998</td></tr>\n",
       "\t<tr><td>Comb Your Hair                                </td><td>The Boo Radleys</td><td>1998</td></tr>\n",
       "\t<tr><td>Butterfly McQueen                             </td><td>The Boo Radleys</td><td>1993</td></tr>\n",
       "\t<tr><td>Mine Again                                    </td><td>Mariah Carey   </td><td>2005</td></tr>\n",
       "\t<tr><td>Don't Forget About Us                         </td><td>Mariah Carey   </td><td>2005</td></tr>\n",
       "\t<tr><td>Babydoll                                      </td><td>Mariah Carey   </td><td>1997</td></tr>\n",
       "\t<tr><td>Don't Forget About Us                         </td><td>Mariah Carey   </td><td>2005</td></tr>\n",
       "\t<tr><td>Vision Of Love                                </td><td>Mariah Carey   </td><td>1990</td></tr>\n",
       "\t<tr><td>My One and Only Love                          </td><td>Carly Simon    </td><td>2005</td></tr>\n",
       "\t<tr><td>It Was So Easy  (LP Version)                  </td><td>Carly Simon    </td><td>1972</td></tr>\n",
       "\t<tr><td>I've Got A Crush On You                       </td><td>Carly Simon    </td><td>1994</td></tr>\n",
       "\t<tr><td>Manha De Carnaval (Theme from \"Black Orpheus\")</td><td>Carly Simon    </td><td>2007</td></tr>\n",
       "</tbody>\n",
       "</table>\n"
      ],
      "text/latex": [
       "A spec\\_tbl\\_df: 22 × 3\n",
       "\\begin{tabular}{lll}\n",
       " song & artist\\_name & year\\\\\n",
       " <chr> & <chr> & <dbl>\\\\\n",
       "\\hline\n",
       "\t Corduroy                                       & Pearl Jam       & 1994\\\\\n",
       "\t Grievance                                      & Pearl Jam       & 2000\\\\\n",
       "\t Stupidmop                                      & Pearl Jam       & 1994\\\\\n",
       "\t Present Tense                                  & Pearl Jam       & 1996\\\\\n",
       "\t MFC                                            & Pearl Jam       & 1998\\\\\n",
       "\t Lukin                                          & Pearl Jam       & 1996\\\\\n",
       "\t It's Lulu                                      & The Boo Radleys & 1995\\\\\n",
       "\t Sparrow                                        & The Boo Radleys & 1992\\\\\n",
       "\t Martin\\_ Doom! It's Seven O'Clock               & The Boo Radleys & 1995\\\\\n",
       "\t Leaves And Sand                                & The Boo Radleys & 1993\\\\\n",
       "\t High as Monkeys                                & The Boo Radleys & 1998\\\\\n",
       "\t Comb Your Hair                                 & The Boo Radleys & 1998\\\\\n",
       "\t Butterfly McQueen                              & The Boo Radleys & 1993\\\\\n",
       "\t Mine Again                                     & Mariah Carey    & 2005\\\\\n",
       "\t Don't Forget About Us                          & Mariah Carey    & 2005\\\\\n",
       "\t Babydoll                                       & Mariah Carey    & 1997\\\\\n",
       "\t Don't Forget About Us                          & Mariah Carey    & 2005\\\\\n",
       "\t Vision Of Love                                 & Mariah Carey    & 1990\\\\\n",
       "\t My One and Only Love                           & Carly Simon     & 2005\\\\\n",
       "\t It Was So Easy  (LP Version)                   & Carly Simon     & 1972\\\\\n",
       "\t I've Got A Crush On You                        & Carly Simon     & 1994\\\\\n",
       "\t Manha De Carnaval (Theme from \"Black Orpheus\") & Carly Simon     & 2007\\\\\n",
       "\\end{tabular}\n"
      ],
      "text/markdown": [
       "\n",
       "A spec_tbl_df: 22 × 3\n",
       "\n",
       "| song &lt;chr&gt; | artist_name &lt;chr&gt; | year &lt;dbl&gt; |\n",
       "|---|---|---|\n",
       "| Corduroy                                       | Pearl Jam       | 1994 |\n",
       "| Grievance                                      | Pearl Jam       | 2000 |\n",
       "| Stupidmop                                      | Pearl Jam       | 1994 |\n",
       "| Present Tense                                  | Pearl Jam       | 1996 |\n",
       "| MFC                                            | Pearl Jam       | 1998 |\n",
       "| Lukin                                          | Pearl Jam       | 1996 |\n",
       "| It's Lulu                                      | The Boo Radleys | 1995 |\n",
       "| Sparrow                                        | The Boo Radleys | 1992 |\n",
       "| Martin_ Doom! It's Seven O'Clock               | The Boo Radleys | 1995 |\n",
       "| Leaves And Sand                                | The Boo Radleys | 1993 |\n",
       "| High as Monkeys                                | The Boo Radleys | 1998 |\n",
       "| Comb Your Hair                                 | The Boo Radleys | 1998 |\n",
       "| Butterfly McQueen                              | The Boo Radleys | 1993 |\n",
       "| Mine Again                                     | Mariah Carey    | 2005 |\n",
       "| Don't Forget About Us                          | Mariah Carey    | 2005 |\n",
       "| Babydoll                                       | Mariah Carey    | 1997 |\n",
       "| Don't Forget About Us                          | Mariah Carey    | 2005 |\n",
       "| Vision Of Love                                 | Mariah Carey    | 1990 |\n",
       "| My One and Only Love                           | Carly Simon     | 2005 |\n",
       "| It Was So Easy  (LP Version)                   | Carly Simon     | 1972 |\n",
       "| I've Got A Crush On You                        | Carly Simon     | 1994 |\n",
       "| Manha De Carnaval (Theme from \"Black Orpheus\") | Carly Simon     | 2007 |\n",
       "\n"
      ],
      "text/plain": [
       "   song                                           artist_name     year\n",
       "1  Corduroy                                       Pearl Jam       1994\n",
       "2  Grievance                                      Pearl Jam       2000\n",
       "3  Stupidmop                                      Pearl Jam       1994\n",
       "4  Present Tense                                  Pearl Jam       1996\n",
       "5  MFC                                            Pearl Jam       1998\n",
       "6  Lukin                                          Pearl Jam       1996\n",
       "7  It's Lulu                                      The Boo Radleys 1995\n",
       "8  Sparrow                                        The Boo Radleys 1992\n",
       "9  Martin_ Doom! It's Seven O'Clock               The Boo Radleys 1995\n",
       "10 Leaves And Sand                                The Boo Radleys 1993\n",
       "11 High as Monkeys                                The Boo Radleys 1998\n",
       "12 Comb Your Hair                                 The Boo Radleys 1998\n",
       "13 Butterfly McQueen                              The Boo Radleys 1993\n",
       "14 Mine Again                                     Mariah Carey    2005\n",
       "15 Don't Forget About Us                          Mariah Carey    2005\n",
       "16 Babydoll                                       Mariah Carey    1997\n",
       "17 Don't Forget About Us                          Mariah Carey    2005\n",
       "18 Vision Of Love                                 Mariah Carey    1990\n",
       "19 My One and Only Love                           Carly Simon     2005\n",
       "20 It Was So Easy  (LP Version)                   Carly Simon     1972\n",
       "21 I've Got A Crush On You                        Carly Simon     1994\n",
       "22 Manha De Carnaval (Theme from \"Black Orpheus\") Carly Simon     2007"
      ]
     },
     "metadata": {},
     "output_type": "display_data"
    }
   ],
   "source": [
    "time"
   ]
  },
  {
   "cell_type": "code",
   "execution_count": 97,
   "metadata": {
    "deletable": false,
    "editable": false,
    "nbgrader": {
     "cell_type": "code",
     "checksum": "91f9670c1714c4d8d1cebc7dc91e4cde",
     "grade": false,
     "grade_id": "cell-43a2ee99557fd52e",
     "locked": true,
     "schema_version": 3,
     "solution": false,
     "task": false
    }
   },
   "outputs": [
    {
     "data": {
      "text/html": [
       "<table>\n",
       "<caption>A tibble: 14 × 4</caption>\n",
       "<thead>\n",
       "\t<tr><th scope=col>song</th><th scope=col>artist_name</th><th scope=col>city</th><th scope=col>album</th></tr>\n",
       "\t<tr><th scope=col>&lt;chr&gt;</th><th scope=col>&lt;chr&gt;</th><th scope=col>&lt;chr&gt;</th><th scope=col>&lt;chr&gt;</th></tr>\n",
       "</thead>\n",
       "<tbody>\n",
       "\t<tr><td>Grievance                                     </td><td>Pearl Jam      </td><td>Seattle, WA       </td><td>Binaural                          </td></tr>\n",
       "\t<tr><td>Stupidmop                                     </td><td>Pearl Jam      </td><td>Seattle, WA       </td><td>Vitalogy                          </td></tr>\n",
       "\t<tr><td>Present Tense                                 </td><td>Pearl Jam      </td><td>Seattle, WA       </td><td>No Code                           </td></tr>\n",
       "\t<tr><td>MFC                                           </td><td>Pearl Jam      </td><td>Seattle, WA       </td><td>Live On Two Legs                  </td></tr>\n",
       "\t<tr><td>Lukin                                         </td><td>Pearl Jam      </td><td>Seattle, WA       </td><td>Seattle Washington November 5 2000</td></tr>\n",
       "\t<tr><td>Stuck On Amber                                </td><td>The Boo Radleys</td><td>Liverpool, England</td><td>Wake Up!                          </td></tr>\n",
       "\t<tr><td>It's Lulu                                     </td><td>The Boo Radleys</td><td>Liverpool, England</td><td>Best Of                           </td></tr>\n",
       "\t<tr><td>Sparrow                                       </td><td>The Boo Radleys</td><td>Liverpool, England</td><td>Everything's Alright Forever      </td></tr>\n",
       "\t<tr><td>High as Monkeys                               </td><td>The Boo Radleys</td><td>Liverpool, England</td><td>Kingsize                          </td></tr>\n",
       "\t<tr><td>Butterfly McQueen                             </td><td>The Boo Radleys</td><td>Liverpool, England</td><td>Giant Steps                       </td></tr>\n",
       "\t<tr><td>My One and Only Love                          </td><td>Carly Simon    </td><td>New York, NY      </td><td>Moonlight Serenade                </td></tr>\n",
       "\t<tr><td>It Was So Easy  (LP Version)                  </td><td>Carly Simon    </td><td>New York, NY      </td><td>No Secrets                        </td></tr>\n",
       "\t<tr><td>I've Got A Crush On You                       </td><td>Carly Simon    </td><td>New York, NY      </td><td>Clouds In My Coffee 1965-1995     </td></tr>\n",
       "\t<tr><td>Manha De Carnaval (Theme from \"Black Orpheus\")</td><td>Carly Simon    </td><td>New York, NY      </td><td>Into White                        </td></tr>\n",
       "</tbody>\n",
       "</table>\n"
      ],
      "text/latex": [
       "A tibble: 14 × 4\n",
       "\\begin{tabular}{llll}\n",
       " song & artist\\_name & city & album\\\\\n",
       " <chr> & <chr> & <chr> & <chr>\\\\\n",
       "\\hline\n",
       "\t Grievance                                      & Pearl Jam       & Seattle, WA        & Binaural                          \\\\\n",
       "\t Stupidmop                                      & Pearl Jam       & Seattle, WA        & Vitalogy                          \\\\\n",
       "\t Present Tense                                  & Pearl Jam       & Seattle, WA        & No Code                           \\\\\n",
       "\t MFC                                            & Pearl Jam       & Seattle, WA        & Live On Two Legs                  \\\\\n",
       "\t Lukin                                          & Pearl Jam       & Seattle, WA        & Seattle Washington November 5 2000\\\\\n",
       "\t Stuck On Amber                                 & The Boo Radleys & Liverpool, England & Wake Up!                          \\\\\n",
       "\t It's Lulu                                      & The Boo Radleys & Liverpool, England & Best Of                           \\\\\n",
       "\t Sparrow                                        & The Boo Radleys & Liverpool, England & Everything's Alright Forever      \\\\\n",
       "\t High as Monkeys                                & The Boo Radleys & Liverpool, England & Kingsize                          \\\\\n",
       "\t Butterfly McQueen                              & The Boo Radleys & Liverpool, England & Giant Steps                       \\\\\n",
       "\t My One and Only Love                           & Carly Simon     & New York, NY       & Moonlight Serenade                \\\\\n",
       "\t It Was So Easy  (LP Version)                   & Carly Simon     & New York, NY       & No Secrets                        \\\\\n",
       "\t I've Got A Crush On You                        & Carly Simon     & New York, NY       & Clouds In My Coffee 1965-1995     \\\\\n",
       "\t Manha De Carnaval (Theme from \"Black Orpheus\") & Carly Simon     & New York, NY       & Into White                        \\\\\n",
       "\\end{tabular}\n"
      ],
      "text/markdown": [
       "\n",
       "A tibble: 14 × 4\n",
       "\n",
       "| song &lt;chr&gt; | artist_name &lt;chr&gt; | city &lt;chr&gt; | album &lt;chr&gt; |\n",
       "|---|---|---|---|\n",
       "| Grievance                                      | Pearl Jam       | Seattle, WA        | Binaural                           |\n",
       "| Stupidmop                                      | Pearl Jam       | Seattle, WA        | Vitalogy                           |\n",
       "| Present Tense                                  | Pearl Jam       | Seattle, WA        | No Code                            |\n",
       "| MFC                                            | Pearl Jam       | Seattle, WA        | Live On Two Legs                   |\n",
       "| Lukin                                          | Pearl Jam       | Seattle, WA        | Seattle Washington November 5 2000 |\n",
       "| Stuck On Amber                                 | The Boo Radleys | Liverpool, England | Wake Up!                           |\n",
       "| It's Lulu                                      | The Boo Radleys | Liverpool, England | Best Of                            |\n",
       "| Sparrow                                        | The Boo Radleys | Liverpool, England | Everything's Alright Forever       |\n",
       "| High as Monkeys                                | The Boo Radleys | Liverpool, England | Kingsize                           |\n",
       "| Butterfly McQueen                              | The Boo Radleys | Liverpool, England | Giant Steps                        |\n",
       "| My One and Only Love                           | Carly Simon     | New York, NY       | Moonlight Serenade                 |\n",
       "| It Was So Easy  (LP Version)                   | Carly Simon     | New York, NY       | No Secrets                         |\n",
       "| I've Got A Crush On You                        | Carly Simon     | New York, NY       | Clouds In My Coffee 1965-1995      |\n",
       "| Manha De Carnaval (Theme from \"Black Orpheus\") | Carly Simon     | New York, NY       | Into White                         |\n",
       "\n"
      ],
      "text/plain": [
       "   song                                           artist_name    \n",
       "1  Grievance                                      Pearl Jam      \n",
       "2  Stupidmop                                      Pearl Jam      \n",
       "3  Present Tense                                  Pearl Jam      \n",
       "4  MFC                                            Pearl Jam      \n",
       "5  Lukin                                          Pearl Jam      \n",
       "6  Stuck On Amber                                 The Boo Radleys\n",
       "7  It's Lulu                                      The Boo Radleys\n",
       "8  Sparrow                                        The Boo Radleys\n",
       "9  High as Monkeys                                The Boo Radleys\n",
       "10 Butterfly McQueen                              The Boo Radleys\n",
       "11 My One and Only Love                           Carly Simon    \n",
       "12 It Was So Easy  (LP Version)                   Carly Simon    \n",
       "13 I've Got A Crush On You                        Carly Simon    \n",
       "14 Manha De Carnaval (Theme from \"Black Orpheus\") Carly Simon    \n",
       "   city               album                             \n",
       "1  Seattle, WA        Binaural                          \n",
       "2  Seattle, WA        Vitalogy                          \n",
       "3  Seattle, WA        No Code                           \n",
       "4  Seattle, WA        Live On Two Legs                  \n",
       "5  Seattle, WA        Seattle Washington November 5 2000\n",
       "6  Liverpool, England Wake Up!                          \n",
       "7  Liverpool, England Best Of                           \n",
       "8  Liverpool, England Everything's Alright Forever      \n",
       "9  Liverpool, England Kingsize                          \n",
       "10 Liverpool, England Giant Steps                       \n",
       "11 New York, NY       Moonlight Serenade                \n",
       "12 New York, NY       No Secrets                        \n",
       "13 New York, NY       Clouds In My Coffee 1965-1995     \n",
       "14 New York, NY       Into White                        "
      ]
     },
     "metadata": {},
     "output_type": "display_data"
    }
   ],
   "source": [
    "album"
   ]
  },
  {
   "cell_type": "markdown",
   "metadata": {
    "deletable": false,
    "editable": false,
    "nbgrader": {
     "cell_type": "markdown",
     "checksum": "e7390dd5b29ff2c6df237514282c9af5",
     "grade": false,
     "grade_id": "cell-81082dfacbaa989f",
     "locked": true,
     "schema_version": 3,
     "solution": false,
     "task": false
    }
   },
   "source": [
    "#### Question 3.1\n",
    "We really care about the songs in `time`.\n",
    "Bot for which of the songs do we know the corresponding album?\n",
    "Create a new data frame with all songs from `time` and the information on the corresponding album.\n",
    "This new data frame should contain only the songs with a corresponding album.\n",
    "Store the joined data set in variable `songs_with_album`.\n",
    "\n",
    "```\n",
    "(songs_with_album <- time %>% \n",
    "  FILL_THIS_IN(FILL_THIS_IN, by = c(\"FILL_THIS_IN\", \"FILL_THIS_IN\")))\n",
    "```"
   ]
  },
  {
   "cell_type": "code",
   "execution_count": 98,
   "metadata": {
    "deletable": false,
    "lines_to_next_cell": 0,
    "nbgrader": {
     "cell_type": "code",
     "checksum": "56396ca12c58561cd80c87d615f8d9db",
     "grade": false,
     "grade_id": "cell-7d3c34b0dd2dff5c",
     "locked": false,
     "schema_version": 3,
     "solution": true,
     "task": false
    }
   },
   "outputs": [
    {
     "data": {
      "text/html": [
       "<table>\n",
       "<caption>A spec_tbl_df: 13 × 3</caption>\n",
       "<thead>\n",
       "\t<tr><th scope=col>song</th><th scope=col>artist_name</th><th scope=col>year</th></tr>\n",
       "\t<tr><th scope=col>&lt;chr&gt;</th><th scope=col>&lt;chr&gt;</th><th scope=col>&lt;dbl&gt;</th></tr>\n",
       "</thead>\n",
       "<tbody>\n",
       "\t<tr><td>Grievance                                     </td><td>Pearl Jam      </td><td>2000</td></tr>\n",
       "\t<tr><td>Stupidmop                                     </td><td>Pearl Jam      </td><td>1994</td></tr>\n",
       "\t<tr><td>Present Tense                                 </td><td>Pearl Jam      </td><td>1996</td></tr>\n",
       "\t<tr><td>MFC                                           </td><td>Pearl Jam      </td><td>1998</td></tr>\n",
       "\t<tr><td>Lukin                                         </td><td>Pearl Jam      </td><td>1996</td></tr>\n",
       "\t<tr><td>It's Lulu                                     </td><td>The Boo Radleys</td><td>1995</td></tr>\n",
       "\t<tr><td>Sparrow                                       </td><td>The Boo Radleys</td><td>1992</td></tr>\n",
       "\t<tr><td>High as Monkeys                               </td><td>The Boo Radleys</td><td>1998</td></tr>\n",
       "\t<tr><td>Butterfly McQueen                             </td><td>The Boo Radleys</td><td>1993</td></tr>\n",
       "\t<tr><td>My One and Only Love                          </td><td>Carly Simon    </td><td>2005</td></tr>\n",
       "\t<tr><td>It Was So Easy  (LP Version)                  </td><td>Carly Simon    </td><td>1972</td></tr>\n",
       "\t<tr><td>I've Got A Crush On You                       </td><td>Carly Simon    </td><td>1994</td></tr>\n",
       "\t<tr><td>Manha De Carnaval (Theme from \"Black Orpheus\")</td><td>Carly Simon    </td><td>2007</td></tr>\n",
       "</tbody>\n",
       "</table>\n"
      ],
      "text/latex": [
       "A spec\\_tbl\\_df: 13 × 3\n",
       "\\begin{tabular}{lll}\n",
       " song & artist\\_name & year\\\\\n",
       " <chr> & <chr> & <dbl>\\\\\n",
       "\\hline\n",
       "\t Grievance                                      & Pearl Jam       & 2000\\\\\n",
       "\t Stupidmop                                      & Pearl Jam       & 1994\\\\\n",
       "\t Present Tense                                  & Pearl Jam       & 1996\\\\\n",
       "\t MFC                                            & Pearl Jam       & 1998\\\\\n",
       "\t Lukin                                          & Pearl Jam       & 1996\\\\\n",
       "\t It's Lulu                                      & The Boo Radleys & 1995\\\\\n",
       "\t Sparrow                                        & The Boo Radleys & 1992\\\\\n",
       "\t High as Monkeys                                & The Boo Radleys & 1998\\\\\n",
       "\t Butterfly McQueen                              & The Boo Radleys & 1993\\\\\n",
       "\t My One and Only Love                           & Carly Simon     & 2005\\\\\n",
       "\t It Was So Easy  (LP Version)                   & Carly Simon     & 1972\\\\\n",
       "\t I've Got A Crush On You                        & Carly Simon     & 1994\\\\\n",
       "\t Manha De Carnaval (Theme from \"Black Orpheus\") & Carly Simon     & 2007\\\\\n",
       "\\end{tabular}\n"
      ],
      "text/markdown": [
       "\n",
       "A spec_tbl_df: 13 × 3\n",
       "\n",
       "| song &lt;chr&gt; | artist_name &lt;chr&gt; | year &lt;dbl&gt; |\n",
       "|---|---|---|\n",
       "| Grievance                                      | Pearl Jam       | 2000 |\n",
       "| Stupidmop                                      | Pearl Jam       | 1994 |\n",
       "| Present Tense                                  | Pearl Jam       | 1996 |\n",
       "| MFC                                            | Pearl Jam       | 1998 |\n",
       "| Lukin                                          | Pearl Jam       | 1996 |\n",
       "| It's Lulu                                      | The Boo Radleys | 1995 |\n",
       "| Sparrow                                        | The Boo Radleys | 1992 |\n",
       "| High as Monkeys                                | The Boo Radleys | 1998 |\n",
       "| Butterfly McQueen                              | The Boo Radleys | 1993 |\n",
       "| My One and Only Love                           | Carly Simon     | 2005 |\n",
       "| It Was So Easy  (LP Version)                   | Carly Simon     | 1972 |\n",
       "| I've Got A Crush On You                        | Carly Simon     | 1994 |\n",
       "| Manha De Carnaval (Theme from \"Black Orpheus\") | Carly Simon     | 2007 |\n",
       "\n"
      ],
      "text/plain": [
       "   song                                           artist_name     year\n",
       "1  Grievance                                      Pearl Jam       2000\n",
       "2  Stupidmop                                      Pearl Jam       1994\n",
       "3  Present Tense                                  Pearl Jam       1996\n",
       "4  MFC                                            Pearl Jam       1998\n",
       "5  Lukin                                          Pearl Jam       1996\n",
       "6  It's Lulu                                      The Boo Radleys 1995\n",
       "7  Sparrow                                        The Boo Radleys 1992\n",
       "8  High as Monkeys                                The Boo Radleys 1998\n",
       "9  Butterfly McQueen                              The Boo Radleys 1993\n",
       "10 My One and Only Love                           Carly Simon     2005\n",
       "11 It Was So Easy  (LP Version)                   Carly Simon     1972\n",
       "12 I've Got A Crush On You                        Carly Simon     1994\n",
       "13 Manha De Carnaval (Theme from \"Black Orpheus\") Carly Simon     2007"
      ]
     },
     "metadata": {},
     "output_type": "display_data"
    }
   ],
   "source": [
    "# your code here\n",
    "(songs_with_album <- time %>% \n",
    "  semi_join(album, by = c(\"song\", \"artist_name\")))"
   ]
  },
  {
   "cell_type": "code",
   "execution_count": 99,
   "metadata": {
    "deletable": false,
    "editable": false,
    "nbgrader": {
     "cell_type": "code",
     "checksum": "783c3cd3cc29322c77b54537f6d9577a",
     "grade": true,
     "grade_id": "cell-e851d23c3d11b3bd",
     "locked": true,
     "points": 1,
     "schema_version": 3,
     "solution": false,
     "task": false
    }
   },
   "outputs": [
    {
     "name": "stdout",
     "output_type": "stream",
     "text": [
      "[1] \"Success!\"\n"
     ]
    }
   ],
   "source": [
    "test_that(\"Question 3.1\", {\n",
    "  expect_known_hash(sort(songs_with_album$song), \"146ff293a74ccc1ad24505a6bc0b6682\")\n",
    "  expect_known_hash(table(songs_with_album$artist_name), \"51f7daeec65e839e5ae6c84ac5a1cb70\")\n",
    "})\n",
    "print(\"Success!\")"
   ]
  },
  {
   "cell_type": "markdown",
   "metadata": {
    "deletable": false,
    "editable": false,
    "nbgrader": {
     "cell_type": "markdown",
     "checksum": "62632823c95d5883a0a048e3d2e4d6af",
     "grade": false,
     "grade_id": "cell-bfbeb7e5c7c5da68",
     "locked": true,
     "schema_version": 3,
     "solution": false,
     "task": false
    }
   },
   "source": [
    "#### Question 3.2\n",
    "Go ahead and add the corresponding albums to the `time` tibble, being sure to preserve rows even if album info is not readily available.\n",
    "Store the joined data set in variable `all_songs`.\n",
    "\n",
    "```\n",
    "(all_songs <- time %>% \n",
    "  FILL_THIS_IN(FILL_THIS_IN, by = c(\"FILL_THIS_IN\", \"FILL_THIS_IN\")))\n",
    "```"
   ]
  },
  {
   "cell_type": "code",
   "execution_count": null,
   "metadata": {
    "deletable": false,
    "lines_to_next_cell": 0,
    "nbgrader": {
     "cell_type": "code",
     "checksum": "549fc58fd4a8a29ca581947d58367ee8",
     "grade": false,
     "grade_id": "cell-05f5f08439831d83",
     "locked": false,
     "schema_version": 3,
     "solution": true,
     "task": false
    }
   },
   "outputs": [],
   "source": [
    "# your code here\n",
    "fail() # No Answer - remove if you provide an answer"
   ]
  },
  {
   "cell_type": "code",
   "execution_count": null,
   "metadata": {
    "deletable": false,
    "editable": false,
    "nbgrader": {
     "cell_type": "code",
     "checksum": "19f230d1b5d3c7f8a602d273efab023f",
     "grade": true,
     "grade_id": "cell-3add15a64f96339a",
     "locked": true,
     "points": 1,
     "schema_version": 3,
     "solution": false,
     "task": false
    }
   },
   "outputs": [],
   "source": [
    "test_that(\"Question 3.2\", {\n",
    "  expect_known_hash(sort(all_songs$song), \"dd1c0b2e14a879cb1a6f07077ed38e97\")\n",
    "  expect_known_hash(all_songs$album[order(all_songs$song)], \"2baea3c1a23797fdac5a9e0dc119073e\")\n",
    "})\n",
    "print(\"Success!\")"
   ]
  },
  {
   "cell_type": "markdown",
   "metadata": {
    "deletable": false,
    "editable": false,
    "nbgrader": {
     "cell_type": "markdown",
     "checksum": "826c5926a0b254b3c56035c05eb331e7",
     "grade": false,
     "grade_id": "cell-eff281d8aeda3161",
     "locked": true,
     "schema_version": 3,
     "solution": false,
     "task": false
    }
   },
   "source": [
    "#### Question 3.3: Joining Rows by Columns\n",
    "Create a new data frame with songs from `time` for which there is no album info.\n",
    "Store the new data set in variable `songs_without_album`.\n",
    "\n",
    "```\n",
    "(songs_without_album <- time %>% \n",
    "  FILL_THIS_IN(FILL_THIS_IN, by = c(\"FILL_THIS_IN\", \"FILL_THIS_IN\")))\n",
    "```"
   ]
  },
  {
   "cell_type": "code",
   "execution_count": 100,
   "metadata": {
    "deletable": false,
    "lines_to_next_cell": 0,
    "nbgrader": {
     "cell_type": "code",
     "checksum": "5f2f6a53d184d87a4a0ed985657776f2",
     "grade": false,
     "grade_id": "cell-bd6ca35fe501ec50",
     "locked": false,
     "schema_version": 3,
     "solution": true,
     "task": false
    }
   },
   "outputs": [
    {
     "data": {
      "text/html": [
       "<table>\n",
       "<caption>A spec_tbl_df: 13 × 3</caption>\n",
       "<thead>\n",
       "\t<tr><th scope=col>song</th><th scope=col>artist_name</th><th scope=col>year</th></tr>\n",
       "\t<tr><th scope=col>&lt;chr&gt;</th><th scope=col>&lt;chr&gt;</th><th scope=col>&lt;dbl&gt;</th></tr>\n",
       "</thead>\n",
       "<tbody>\n",
       "\t<tr><td>Grievance                                     </td><td>Pearl Jam      </td><td>2000</td></tr>\n",
       "\t<tr><td>Stupidmop                                     </td><td>Pearl Jam      </td><td>1994</td></tr>\n",
       "\t<tr><td>Present Tense                                 </td><td>Pearl Jam      </td><td>1996</td></tr>\n",
       "\t<tr><td>MFC                                           </td><td>Pearl Jam      </td><td>1998</td></tr>\n",
       "\t<tr><td>Lukin                                         </td><td>Pearl Jam      </td><td>1996</td></tr>\n",
       "\t<tr><td>It's Lulu                                     </td><td>The Boo Radleys</td><td>1995</td></tr>\n",
       "\t<tr><td>Sparrow                                       </td><td>The Boo Radleys</td><td>1992</td></tr>\n",
       "\t<tr><td>High as Monkeys                               </td><td>The Boo Radleys</td><td>1998</td></tr>\n",
       "\t<tr><td>Butterfly McQueen                             </td><td>The Boo Radleys</td><td>1993</td></tr>\n",
       "\t<tr><td>My One and Only Love                          </td><td>Carly Simon    </td><td>2005</td></tr>\n",
       "\t<tr><td>It Was So Easy  (LP Version)                  </td><td>Carly Simon    </td><td>1972</td></tr>\n",
       "\t<tr><td>I've Got A Crush On You                       </td><td>Carly Simon    </td><td>1994</td></tr>\n",
       "\t<tr><td>Manha De Carnaval (Theme from \"Black Orpheus\")</td><td>Carly Simon    </td><td>2007</td></tr>\n",
       "</tbody>\n",
       "</table>\n"
      ],
      "text/latex": [
       "A spec\\_tbl\\_df: 13 × 3\n",
       "\\begin{tabular}{lll}\n",
       " song & artist\\_name & year\\\\\n",
       " <chr> & <chr> & <dbl>\\\\\n",
       "\\hline\n",
       "\t Grievance                                      & Pearl Jam       & 2000\\\\\n",
       "\t Stupidmop                                      & Pearl Jam       & 1994\\\\\n",
       "\t Present Tense                                  & Pearl Jam       & 1996\\\\\n",
       "\t MFC                                            & Pearl Jam       & 1998\\\\\n",
       "\t Lukin                                          & Pearl Jam       & 1996\\\\\n",
       "\t It's Lulu                                      & The Boo Radleys & 1995\\\\\n",
       "\t Sparrow                                        & The Boo Radleys & 1992\\\\\n",
       "\t High as Monkeys                                & The Boo Radleys & 1998\\\\\n",
       "\t Butterfly McQueen                              & The Boo Radleys & 1993\\\\\n",
       "\t My One and Only Love                           & Carly Simon     & 2005\\\\\n",
       "\t It Was So Easy  (LP Version)                   & Carly Simon     & 1972\\\\\n",
       "\t I've Got A Crush On You                        & Carly Simon     & 1994\\\\\n",
       "\t Manha De Carnaval (Theme from \"Black Orpheus\") & Carly Simon     & 2007\\\\\n",
       "\\end{tabular}\n"
      ],
      "text/markdown": [
       "\n",
       "A spec_tbl_df: 13 × 3\n",
       "\n",
       "| song &lt;chr&gt; | artist_name &lt;chr&gt; | year &lt;dbl&gt; |\n",
       "|---|---|---|\n",
       "| Grievance                                      | Pearl Jam       | 2000 |\n",
       "| Stupidmop                                      | Pearl Jam       | 1994 |\n",
       "| Present Tense                                  | Pearl Jam       | 1996 |\n",
       "| MFC                                            | Pearl Jam       | 1998 |\n",
       "| Lukin                                          | Pearl Jam       | 1996 |\n",
       "| It's Lulu                                      | The Boo Radleys | 1995 |\n",
       "| Sparrow                                        | The Boo Radleys | 1992 |\n",
       "| High as Monkeys                                | The Boo Radleys | 1998 |\n",
       "| Butterfly McQueen                              | The Boo Radleys | 1993 |\n",
       "| My One and Only Love                           | Carly Simon     | 2005 |\n",
       "| It Was So Easy  (LP Version)                   | Carly Simon     | 1972 |\n",
       "| I've Got A Crush On You                        | Carly Simon     | 1994 |\n",
       "| Manha De Carnaval (Theme from \"Black Orpheus\") | Carly Simon     | 2007 |\n",
       "\n"
      ],
      "text/plain": [
       "   song                                           artist_name     year\n",
       "1  Grievance                                      Pearl Jam       2000\n",
       "2  Stupidmop                                      Pearl Jam       1994\n",
       "3  Present Tense                                  Pearl Jam       1996\n",
       "4  MFC                                            Pearl Jam       1998\n",
       "5  Lukin                                          Pearl Jam       1996\n",
       "6  It's Lulu                                      The Boo Radleys 1995\n",
       "7  Sparrow                                        The Boo Radleys 1992\n",
       "8  High as Monkeys                                The Boo Radleys 1998\n",
       "9  Butterfly McQueen                              The Boo Radleys 1993\n",
       "10 My One and Only Love                           Carly Simon     2005\n",
       "11 It Was So Easy  (LP Version)                   Carly Simon     1972\n",
       "12 I've Got A Crush On You                        Carly Simon     1994\n",
       "13 Manha De Carnaval (Theme from \"Black Orpheus\") Carly Simon     2007"
      ]
     },
     "metadata": {},
     "output_type": "display_data"
    }
   ],
   "source": [
    "# your code here\n",
    "(songs_without_album <- time %>% \n",
    "  semi_join(album, by = c(\"song\", \"artist_name\")))"
   ]
  },
  {
   "cell_type": "code",
   "execution_count": 101,
   "metadata": {},
   "outputs": [
    {
     "name": "stdout",
     "output_type": "stream",
     "text": [
      "[1] \"Success!\"\n"
     ]
    }
   ],
   "source": [
    "test_that(\"Question 3.3\", expect_known_hash(sort(songs_without_album$song), \"146ff293a74ccc1ad24505a6bc0b6682\"))\n",
    "print(\"Success!\")"
   ]
  },
  {
   "cell_type": "markdown",
   "metadata": {},
   "source": [
    "#### Question 3.4\n",
    "Create a new data frame with *all* songs from artists for which there is no album information.\n",
    "Store the new data set in variable `songs_artists_no_album`.\n",
    "\n",
    "```\n",
    "(songs_artists_no_album <- time %>% \n",
    "  FILL_THIS_IN(FILL_THIS_IN, by = \"FILL_THIS_IN\"))\n",
    "```"
   ]
  },
  {
   "cell_type": "code",
   "execution_count": 102,
   "metadata": {
    "deletable": false,
    "lines_to_next_cell": 0,
    "nbgrader": {
     "cell_type": "code",
     "checksum": "e69d69c2b9c7785265cfa54e172f40e3",
     "grade": false,
     "grade_id": "cell-129b24ab36ddde03",
     "locked": false,
     "schema_version": 3,
     "solution": true,
     "task": false
    }
   },
   "outputs": [
    {
     "data": {
      "text/html": [
       "<table>\n",
       "<caption>A spec_tbl_df: 5 × 3</caption>\n",
       "<thead>\n",
       "\t<tr><th scope=col>song</th><th scope=col>artist_name</th><th scope=col>year</th></tr>\n",
       "\t<tr><th scope=col>&lt;chr&gt;</th><th scope=col>&lt;chr&gt;</th><th scope=col>&lt;dbl&gt;</th></tr>\n",
       "</thead>\n",
       "<tbody>\n",
       "\t<tr><td>Mine Again           </td><td>Mariah Carey</td><td>2005</td></tr>\n",
       "\t<tr><td>Don't Forget About Us</td><td>Mariah Carey</td><td>2005</td></tr>\n",
       "\t<tr><td>Babydoll             </td><td>Mariah Carey</td><td>1997</td></tr>\n",
       "\t<tr><td>Don't Forget About Us</td><td>Mariah Carey</td><td>2005</td></tr>\n",
       "\t<tr><td>Vision Of Love       </td><td>Mariah Carey</td><td>1990</td></tr>\n",
       "</tbody>\n",
       "</table>\n"
      ],
      "text/latex": [
       "A spec\\_tbl\\_df: 5 × 3\n",
       "\\begin{tabular}{lll}\n",
       " song & artist\\_name & year\\\\\n",
       " <chr> & <chr> & <dbl>\\\\\n",
       "\\hline\n",
       "\t Mine Again            & Mariah Carey & 2005\\\\\n",
       "\t Don't Forget About Us & Mariah Carey & 2005\\\\\n",
       "\t Babydoll              & Mariah Carey & 1997\\\\\n",
       "\t Don't Forget About Us & Mariah Carey & 2005\\\\\n",
       "\t Vision Of Love        & Mariah Carey & 1990\\\\\n",
       "\\end{tabular}\n"
      ],
      "text/markdown": [
       "\n",
       "A spec_tbl_df: 5 × 3\n",
       "\n",
       "| song &lt;chr&gt; | artist_name &lt;chr&gt; | year &lt;dbl&gt; |\n",
       "|---|---|---|\n",
       "| Mine Again            | Mariah Carey | 2005 |\n",
       "| Don't Forget About Us | Mariah Carey | 2005 |\n",
       "| Babydoll              | Mariah Carey | 1997 |\n",
       "| Don't Forget About Us | Mariah Carey | 2005 |\n",
       "| Vision Of Love        | Mariah Carey | 1990 |\n",
       "\n"
      ],
      "text/plain": [
       "  song                  artist_name  year\n",
       "1 Mine Again            Mariah Carey 2005\n",
       "2 Don't Forget About Us Mariah Carey 2005\n",
       "3 Babydoll              Mariah Carey 1997\n",
       "4 Don't Forget About Us Mariah Carey 2005\n",
       "5 Vision Of Love        Mariah Carey 1990"
      ]
     },
     "metadata": {},
     "output_type": "display_data"
    }
   ],
   "source": [
    "# your code here\n",
    "(songs_artists_no_album <- time %>% \n",
    "  anti_join(album, by = \"artist_name\"))"
   ]
  },
  {
   "cell_type": "code",
   "execution_count": 103,
   "metadata": {
    "deletable": false,
    "editable": false,
    "nbgrader": {
     "cell_type": "code",
     "checksum": "719e1ae4dbe980d28365d6cf15a231d5",
     "grade": true,
     "grade_id": "cell-3452c71d7eb8391d",
     "locked": true,
     "points": 1,
     "schema_version": 3,
     "solution": false,
     "task": false
    }
   },
   "outputs": [
    {
     "name": "stdout",
     "output_type": "stream",
     "text": [
      "[1] \"Success!\"\n"
     ]
    }
   ],
   "source": [
    "test_that(\"Question 3.4\", expect_known_hash(table(songs_artists_no_album$artist_name), \"244510c51477c31e6e795cbc0ca0b0d7\"))\n",
    "print(\"Success!\")"
   ]
  },
  {
   "cell_type": "markdown",
   "metadata": {
    "deletable": false,
    "editable": false,
    "nbgrader": {
     "cell_type": "markdown",
     "checksum": "993517c0c1bcb9b8775c608613f02a84",
     "grade": false,
     "grade_id": "cell-7fec11ba9e292ff8",
     "locked": true,
     "schema_version": 3,
     "solution": false,
     "task": false
    }
   },
   "source": [
    "#### Question 3.5\n",
    "Create a new data frame with all the information from both tibbles, regardless of no corresponding information being present in the other tibble.\n",
    "Store the new data set in variable `all_songs_and_albums`.\n",
    "\n",
    "```\n",
    "(all_songs_and_albums <- time %>% \n",
    "  FILL_THIS_IN(FILL_THIS_IN, by = c(\"FILL_THIS_IN\", \"FILL_THIS_IN\")))\n",
    "```"
   ]
  },
  {
   "cell_type": "code",
   "execution_count": 104,
   "metadata": {
    "deletable": false,
    "lines_to_next_cell": 0,
    "nbgrader": {
     "cell_type": "code",
     "checksum": "cb9ebc097060f70f102ad30c89225e42",
     "grade": false,
     "grade_id": "cell-17f8124265baf8e0",
     "locked": false,
     "schema_version": 3,
     "solution": true,
     "task": false
    }
   },
   "outputs": [
    {
     "data": {
      "text/html": [
       "<table>\n",
       "<caption>A spec_tbl_df: 23 × 5</caption>\n",
       "<thead>\n",
       "\t<tr><th scope=col>song</th><th scope=col>artist_name</th><th scope=col>year</th><th scope=col>city</th><th scope=col>album</th></tr>\n",
       "\t<tr><th scope=col>&lt;chr&gt;</th><th scope=col>&lt;chr&gt;</th><th scope=col>&lt;dbl&gt;</th><th scope=col>&lt;chr&gt;</th><th scope=col>&lt;chr&gt;</th></tr>\n",
       "</thead>\n",
       "<tbody>\n",
       "\t<tr><td>Corduroy                                      </td><td>Pearl Jam      </td><td>1994</td><td>NA                </td><td>NA                                </td></tr>\n",
       "\t<tr><td>Grievance                                     </td><td>Pearl Jam      </td><td>2000</td><td>Seattle, WA       </td><td>Binaural                          </td></tr>\n",
       "\t<tr><td>Stupidmop                                     </td><td>Pearl Jam      </td><td>1994</td><td>Seattle, WA       </td><td>Vitalogy                          </td></tr>\n",
       "\t<tr><td>Present Tense                                 </td><td>Pearl Jam      </td><td>1996</td><td>Seattle, WA       </td><td>No Code                           </td></tr>\n",
       "\t<tr><td>MFC                                           </td><td>Pearl Jam      </td><td>1998</td><td>Seattle, WA       </td><td>Live On Two Legs                  </td></tr>\n",
       "\t<tr><td>Lukin                                         </td><td>Pearl Jam      </td><td>1996</td><td>Seattle, WA       </td><td>Seattle Washington November 5 2000</td></tr>\n",
       "\t<tr><td>It's Lulu                                     </td><td>The Boo Radleys</td><td>1995</td><td>Liverpool, England</td><td>Best Of                           </td></tr>\n",
       "\t<tr><td>Sparrow                                       </td><td>The Boo Radleys</td><td>1992</td><td>Liverpool, England</td><td>Everything's Alright Forever      </td></tr>\n",
       "\t<tr><td>Martin_ Doom! It's Seven O'Clock              </td><td>The Boo Radleys</td><td>1995</td><td>NA                </td><td>NA                                </td></tr>\n",
       "\t<tr><td>Leaves And Sand                               </td><td>The Boo Radleys</td><td>1993</td><td>NA                </td><td>NA                                </td></tr>\n",
       "\t<tr><td>High as Monkeys                               </td><td>The Boo Radleys</td><td>1998</td><td>Liverpool, England</td><td>Kingsize                          </td></tr>\n",
       "\t<tr><td>Comb Your Hair                                </td><td>The Boo Radleys</td><td>1998</td><td>NA                </td><td>NA                                </td></tr>\n",
       "\t<tr><td>Butterfly McQueen                             </td><td>The Boo Radleys</td><td>1993</td><td>Liverpool, England</td><td>Giant Steps                       </td></tr>\n",
       "\t<tr><td>Mine Again                                    </td><td>Mariah Carey   </td><td>2005</td><td>NA                </td><td>NA                                </td></tr>\n",
       "\t<tr><td>Don't Forget About Us                         </td><td>Mariah Carey   </td><td>2005</td><td>NA                </td><td>NA                                </td></tr>\n",
       "\t<tr><td>Babydoll                                      </td><td>Mariah Carey   </td><td>1997</td><td>NA                </td><td>NA                                </td></tr>\n",
       "\t<tr><td>Don't Forget About Us                         </td><td>Mariah Carey   </td><td>2005</td><td>NA                </td><td>NA                                </td></tr>\n",
       "\t<tr><td>Vision Of Love                                </td><td>Mariah Carey   </td><td>1990</td><td>NA                </td><td>NA                                </td></tr>\n",
       "\t<tr><td>My One and Only Love                          </td><td>Carly Simon    </td><td>2005</td><td>New York, NY      </td><td>Moonlight Serenade                </td></tr>\n",
       "\t<tr><td>It Was So Easy  (LP Version)                  </td><td>Carly Simon    </td><td>1972</td><td>New York, NY      </td><td>No Secrets                        </td></tr>\n",
       "\t<tr><td>I've Got A Crush On You                       </td><td>Carly Simon    </td><td>1994</td><td>New York, NY      </td><td>Clouds In My Coffee 1965-1995     </td></tr>\n",
       "\t<tr><td>Manha De Carnaval (Theme from \"Black Orpheus\")</td><td>Carly Simon    </td><td>2007</td><td>New York, NY      </td><td>Into White                        </td></tr>\n",
       "\t<tr><td>Stuck On Amber                                </td><td>The Boo Radleys</td><td>  NA</td><td>Liverpool, England</td><td>Wake Up!                          </td></tr>\n",
       "</tbody>\n",
       "</table>\n"
      ],
      "text/latex": [
       "A spec\\_tbl\\_df: 23 × 5\n",
       "\\begin{tabular}{lllll}\n",
       " song & artist\\_name & year & city & album\\\\\n",
       " <chr> & <chr> & <dbl> & <chr> & <chr>\\\\\n",
       "\\hline\n",
       "\t Corduroy                                       & Pearl Jam       & 1994 & NA                 & NA                                \\\\\n",
       "\t Grievance                                      & Pearl Jam       & 2000 & Seattle, WA        & Binaural                          \\\\\n",
       "\t Stupidmop                                      & Pearl Jam       & 1994 & Seattle, WA        & Vitalogy                          \\\\\n",
       "\t Present Tense                                  & Pearl Jam       & 1996 & Seattle, WA        & No Code                           \\\\\n",
       "\t MFC                                            & Pearl Jam       & 1998 & Seattle, WA        & Live On Two Legs                  \\\\\n",
       "\t Lukin                                          & Pearl Jam       & 1996 & Seattle, WA        & Seattle Washington November 5 2000\\\\\n",
       "\t It's Lulu                                      & The Boo Radleys & 1995 & Liverpool, England & Best Of                           \\\\\n",
       "\t Sparrow                                        & The Boo Radleys & 1992 & Liverpool, England & Everything's Alright Forever      \\\\\n",
       "\t Martin\\_ Doom! It's Seven O'Clock               & The Boo Radleys & 1995 & NA                 & NA                                \\\\\n",
       "\t Leaves And Sand                                & The Boo Radleys & 1993 & NA                 & NA                                \\\\\n",
       "\t High as Monkeys                                & The Boo Radleys & 1998 & Liverpool, England & Kingsize                          \\\\\n",
       "\t Comb Your Hair                                 & The Boo Radleys & 1998 & NA                 & NA                                \\\\\n",
       "\t Butterfly McQueen                              & The Boo Radleys & 1993 & Liverpool, England & Giant Steps                       \\\\\n",
       "\t Mine Again                                     & Mariah Carey    & 2005 & NA                 & NA                                \\\\\n",
       "\t Don't Forget About Us                          & Mariah Carey    & 2005 & NA                 & NA                                \\\\\n",
       "\t Babydoll                                       & Mariah Carey    & 1997 & NA                 & NA                                \\\\\n",
       "\t Don't Forget About Us                          & Mariah Carey    & 2005 & NA                 & NA                                \\\\\n",
       "\t Vision Of Love                                 & Mariah Carey    & 1990 & NA                 & NA                                \\\\\n",
       "\t My One and Only Love                           & Carly Simon     & 2005 & New York, NY       & Moonlight Serenade                \\\\\n",
       "\t It Was So Easy  (LP Version)                   & Carly Simon     & 1972 & New York, NY       & No Secrets                        \\\\\n",
       "\t I've Got A Crush On You                        & Carly Simon     & 1994 & New York, NY       & Clouds In My Coffee 1965-1995     \\\\\n",
       "\t Manha De Carnaval (Theme from \"Black Orpheus\") & Carly Simon     & 2007 & New York, NY       & Into White                        \\\\\n",
       "\t Stuck On Amber                                 & The Boo Radleys &   NA & Liverpool, England & Wake Up!                          \\\\\n",
       "\\end{tabular}\n"
      ],
      "text/markdown": [
       "\n",
       "A spec_tbl_df: 23 × 5\n",
       "\n",
       "| song &lt;chr&gt; | artist_name &lt;chr&gt; | year &lt;dbl&gt; | city &lt;chr&gt; | album &lt;chr&gt; |\n",
       "|---|---|---|---|---|\n",
       "| Corduroy                                       | Pearl Jam       | 1994 | NA                 | NA                                 |\n",
       "| Grievance                                      | Pearl Jam       | 2000 | Seattle, WA        | Binaural                           |\n",
       "| Stupidmop                                      | Pearl Jam       | 1994 | Seattle, WA        | Vitalogy                           |\n",
       "| Present Tense                                  | Pearl Jam       | 1996 | Seattle, WA        | No Code                            |\n",
       "| MFC                                            | Pearl Jam       | 1998 | Seattle, WA        | Live On Two Legs                   |\n",
       "| Lukin                                          | Pearl Jam       | 1996 | Seattle, WA        | Seattle Washington November 5 2000 |\n",
       "| It's Lulu                                      | The Boo Radleys | 1995 | Liverpool, England | Best Of                            |\n",
       "| Sparrow                                        | The Boo Radleys | 1992 | Liverpool, England | Everything's Alright Forever       |\n",
       "| Martin_ Doom! It's Seven O'Clock               | The Boo Radleys | 1995 | NA                 | NA                                 |\n",
       "| Leaves And Sand                                | The Boo Radleys | 1993 | NA                 | NA                                 |\n",
       "| High as Monkeys                                | The Boo Radleys | 1998 | Liverpool, England | Kingsize                           |\n",
       "| Comb Your Hair                                 | The Boo Radleys | 1998 | NA                 | NA                                 |\n",
       "| Butterfly McQueen                              | The Boo Radleys | 1993 | Liverpool, England | Giant Steps                        |\n",
       "| Mine Again                                     | Mariah Carey    | 2005 | NA                 | NA                                 |\n",
       "| Don't Forget About Us                          | Mariah Carey    | 2005 | NA                 | NA                                 |\n",
       "| Babydoll                                       | Mariah Carey    | 1997 | NA                 | NA                                 |\n",
       "| Don't Forget About Us                          | Mariah Carey    | 2005 | NA                 | NA                                 |\n",
       "| Vision Of Love                                 | Mariah Carey    | 1990 | NA                 | NA                                 |\n",
       "| My One and Only Love                           | Carly Simon     | 2005 | New York, NY       | Moonlight Serenade                 |\n",
       "| It Was So Easy  (LP Version)                   | Carly Simon     | 1972 | New York, NY       | No Secrets                         |\n",
       "| I've Got A Crush On You                        | Carly Simon     | 1994 | New York, NY       | Clouds In My Coffee 1965-1995      |\n",
       "| Manha De Carnaval (Theme from \"Black Orpheus\") | Carly Simon     | 2007 | New York, NY       | Into White                         |\n",
       "| Stuck On Amber                                 | The Boo Radleys |   NA | Liverpool, England | Wake Up!                           |\n",
       "\n"
      ],
      "text/plain": [
       "   song                                           artist_name     year\n",
       "1  Corduroy                                       Pearl Jam       1994\n",
       "2  Grievance                                      Pearl Jam       2000\n",
       "3  Stupidmop                                      Pearl Jam       1994\n",
       "4  Present Tense                                  Pearl Jam       1996\n",
       "5  MFC                                            Pearl Jam       1998\n",
       "6  Lukin                                          Pearl Jam       1996\n",
       "7  It's Lulu                                      The Boo Radleys 1995\n",
       "8  Sparrow                                        The Boo Radleys 1992\n",
       "9  Martin_ Doom! It's Seven O'Clock               The Boo Radleys 1995\n",
       "10 Leaves And Sand                                The Boo Radleys 1993\n",
       "11 High as Monkeys                                The Boo Radleys 1998\n",
       "12 Comb Your Hair                                 The Boo Radleys 1998\n",
       "13 Butterfly McQueen                              The Boo Radleys 1993\n",
       "14 Mine Again                                     Mariah Carey    2005\n",
       "15 Don't Forget About Us                          Mariah Carey    2005\n",
       "16 Babydoll                                       Mariah Carey    1997\n",
       "17 Don't Forget About Us                          Mariah Carey    2005\n",
       "18 Vision Of Love                                 Mariah Carey    1990\n",
       "19 My One and Only Love                           Carly Simon     2005\n",
       "20 It Was So Easy  (LP Version)                   Carly Simon     1972\n",
       "21 I've Got A Crush On You                        Carly Simon     1994\n",
       "22 Manha De Carnaval (Theme from \"Black Orpheus\") Carly Simon     2007\n",
       "23 Stuck On Amber                                 The Boo Radleys   NA\n",
       "   city               album                             \n",
       "1  NA                 NA                                \n",
       "2  Seattle, WA        Binaural                          \n",
       "3  Seattle, WA        Vitalogy                          \n",
       "4  Seattle, WA        No Code                           \n",
       "5  Seattle, WA        Live On Two Legs                  \n",
       "6  Seattle, WA        Seattle Washington November 5 2000\n",
       "7  Liverpool, England Best Of                           \n",
       "8  Liverpool, England Everything's Alright Forever      \n",
       "9  NA                 NA                                \n",
       "10 NA                 NA                                \n",
       "11 Liverpool, England Kingsize                          \n",
       "12 NA                 NA                                \n",
       "13 Liverpool, England Giant Steps                       \n",
       "14 NA                 NA                                \n",
       "15 NA                 NA                                \n",
       "16 NA                 NA                                \n",
       "17 NA                 NA                                \n",
       "18 NA                 NA                                \n",
       "19 New York, NY       Moonlight Serenade                \n",
       "20 New York, NY       No Secrets                        \n",
       "21 New York, NY       Clouds In My Coffee 1965-1995     \n",
       "22 New York, NY       Into White                        \n",
       "23 Liverpool, England Wake Up!                          "
      ]
     },
     "metadata": {},
     "output_type": "display_data"
    }
   ],
   "source": [
    "# your code here\n",
    "(all_songs_and_albums <- time %>% \n",
    "  full_join(album, by = c(\"song\", \"artist_name\")))"
   ]
  },
  {
   "cell_type": "code",
   "execution_count": 105,
   "metadata": {
    "deletable": false,
    "editable": false,
    "nbgrader": {
     "cell_type": "code",
     "checksum": "9191cb862b671320716d8420f6c2b218",
     "grade": true,
     "grade_id": "cell-0bae4a61eb231bdc",
     "locked": true,
     "points": 1,
     "schema_version": 3,
     "solution": false,
     "task": false
    }
   },
   "outputs": [
    {
     "name": "stdout",
     "output_type": "stream",
     "text": [
      "[1] \"Success!\"\n"
     ]
    }
   ],
   "source": [
    "test_that(\"Question 3.5\", {\n",
    "  expect_known_hash(sort(all_songs_and_albums$song), \"ba2ba3507e50c56d21028893404259a5\")\n",
    "  expect_known_hash(with(all_songs_and_albums, album[order(song)]), \"dbc70af8d3078ea830be9cfb0dee6b9d\")\n",
    "  expect_known_hash(with(all_songs_and_albums, year[order(song)]), \"10669b0750ab4d53b54f0e509430e2d1\")\n",
    "})\n",
    "print(\"Success!\")"
   ]
  },
  {
   "cell_type": "markdown",
   "metadata": {
    "deletable": false,
    "editable": false,
    "nbgrader": {
     "cell_type": "markdown",
     "checksum": "e52b9697f0fcd5c0f6100fe2aad29a8f",
     "grade": false,
     "grade_id": "cell-3bca1c6621e1410f",
     "locked": true,
     "schema_version": 3,
     "solution": false,
     "task": false
    }
   },
   "source": [
    "### Question 4: Concatenating Rows\n",
    "\n",
    "Run the following R code to load the three Lord of the Rings tibbles that we saw a few times already."
   ]
  },
  {
   "cell_type": "code",
   "execution_count": 106,
   "metadata": {
    "deletable": false,
    "editable": false,
    "nbgrader": {
     "cell_type": "code",
     "checksum": "8df817056be53e91c4e7819a9eed4529",
     "grade": false,
     "grade_id": "cell-41e97011df27fd1f",
     "locked": true,
     "schema_version": 3,
     "solution": false,
     "task": false
    }
   },
   "outputs": [],
   "source": [
    "suppressMessages({\n",
    "  fell <- read_csv(\"https://raw.githubusercontent.com/jennybc/lotr-tidy/master/data/The_Fellowship_Of_The_Ring.csv\")\n",
    "  ttow <- read_csv(\"https://raw.githubusercontent.com/jennybc/lotr-tidy/master/data/The_Two_Towers.csv\")\n",
    "  retk <- read_csv(\"https://raw.githubusercontent.com/jennybc/lotr-tidy/master/data/The_Return_Of_The_King.csv\")\n",
    "})"
   ]
  },
  {
   "cell_type": "markdown",
   "metadata": {
    "deletable": false,
    "editable": false,
    "lines_to_next_cell": 0,
    "nbgrader": {
     "cell_type": "markdown",
     "checksum": "e3cef488b9867f1881fb1befe951a762",
     "grade": false,
     "grade_id": "cell-00f8853f688a1cac",
     "locked": true,
     "schema_version": 3,
     "solution": false,
     "task": false
    }
   },
   "source": [
    "Run the following R codes to take a look at the 3 tibbles:"
   ]
  },
  {
   "cell_type": "code",
   "execution_count": 107,
   "metadata": {
    "deletable": false,
    "editable": false,
    "lines_to_next_cell": 0,
    "nbgrader": {
     "cell_type": "code",
     "checksum": "cf3c8b40799f4e0901e1ba86eed4b994",
     "grade": false,
     "grade_id": "cell-83ad6b3db4ab34cd",
     "locked": true,
     "schema_version": 3,
     "solution": false,
     "task": false
    }
   },
   "outputs": [
    {
     "data": {
      "text/html": [
       "<table>\n",
       "<caption>A spec_tbl_df: 3 × 4</caption>\n",
       "<thead>\n",
       "\t<tr><th scope=col>Film</th><th scope=col>Race</th><th scope=col>Female</th><th scope=col>Male</th></tr>\n",
       "\t<tr><th scope=col>&lt;chr&gt;</th><th scope=col>&lt;chr&gt;</th><th scope=col>&lt;dbl&gt;</th><th scope=col>&lt;dbl&gt;</th></tr>\n",
       "</thead>\n",
       "<tbody>\n",
       "\t<tr><td>The Fellowship Of The Ring</td><td>Elf   </td><td>1229</td><td> 971</td></tr>\n",
       "\t<tr><td>The Fellowship Of The Ring</td><td>Hobbit</td><td>  14</td><td>3644</td></tr>\n",
       "\t<tr><td>The Fellowship Of The Ring</td><td>Man   </td><td>   0</td><td>1995</td></tr>\n",
       "</tbody>\n",
       "</table>\n"
      ],
      "text/latex": [
       "A spec\\_tbl\\_df: 3 × 4\n",
       "\\begin{tabular}{llll}\n",
       " Film & Race & Female & Male\\\\\n",
       " <chr> & <chr> & <dbl> & <dbl>\\\\\n",
       "\\hline\n",
       "\t The Fellowship Of The Ring & Elf    & 1229 &  971\\\\\n",
       "\t The Fellowship Of The Ring & Hobbit &   14 & 3644\\\\\n",
       "\t The Fellowship Of The Ring & Man    &    0 & 1995\\\\\n",
       "\\end{tabular}\n"
      ],
      "text/markdown": [
       "\n",
       "A spec_tbl_df: 3 × 4\n",
       "\n",
       "| Film &lt;chr&gt; | Race &lt;chr&gt; | Female &lt;dbl&gt; | Male &lt;dbl&gt; |\n",
       "|---|---|---|---|\n",
       "| The Fellowship Of The Ring | Elf    | 1229 |  971 |\n",
       "| The Fellowship Of The Ring | Hobbit |   14 | 3644 |\n",
       "| The Fellowship Of The Ring | Man    |    0 | 1995 |\n",
       "\n"
      ],
      "text/plain": [
       "  Film                       Race   Female Male\n",
       "1 The Fellowship Of The Ring Elf    1229    971\n",
       "2 The Fellowship Of The Ring Hobbit   14   3644\n",
       "3 The Fellowship Of The Ring Man       0   1995"
      ]
     },
     "metadata": {},
     "output_type": "display_data"
    }
   ],
   "source": [
    "fell"
   ]
  },
  {
   "cell_type": "code",
   "execution_count": 108,
   "metadata": {
    "deletable": false,
    "editable": false,
    "lines_to_next_cell": 0,
    "nbgrader": {
     "cell_type": "code",
     "checksum": "735e681bd18461f3016d948b43c8787a",
     "grade": false,
     "grade_id": "cell-d6e0b8ca24c1e571",
     "locked": true,
     "schema_version": 3,
     "solution": false,
     "task": false
    }
   },
   "outputs": [
    {
     "data": {
      "text/html": [
       "<table>\n",
       "<caption>A spec_tbl_df: 3 × 4</caption>\n",
       "<thead>\n",
       "\t<tr><th scope=col>Film</th><th scope=col>Race</th><th scope=col>Female</th><th scope=col>Male</th></tr>\n",
       "\t<tr><th scope=col>&lt;chr&gt;</th><th scope=col>&lt;chr&gt;</th><th scope=col>&lt;dbl&gt;</th><th scope=col>&lt;dbl&gt;</th></tr>\n",
       "</thead>\n",
       "<tbody>\n",
       "\t<tr><td>The Two Towers</td><td>Elf   </td><td>331</td><td> 513</td></tr>\n",
       "\t<tr><td>The Two Towers</td><td>Hobbit</td><td>  0</td><td>2463</td></tr>\n",
       "\t<tr><td>The Two Towers</td><td>Man   </td><td>401</td><td>3589</td></tr>\n",
       "</tbody>\n",
       "</table>\n"
      ],
      "text/latex": [
       "A spec\\_tbl\\_df: 3 × 4\n",
       "\\begin{tabular}{llll}\n",
       " Film & Race & Female & Male\\\\\n",
       " <chr> & <chr> & <dbl> & <dbl>\\\\\n",
       "\\hline\n",
       "\t The Two Towers & Elf    & 331 &  513\\\\\n",
       "\t The Two Towers & Hobbit &   0 & 2463\\\\\n",
       "\t The Two Towers & Man    & 401 & 3589\\\\\n",
       "\\end{tabular}\n"
      ],
      "text/markdown": [
       "\n",
       "A spec_tbl_df: 3 × 4\n",
       "\n",
       "| Film &lt;chr&gt; | Race &lt;chr&gt; | Female &lt;dbl&gt; | Male &lt;dbl&gt; |\n",
       "|---|---|---|---|\n",
       "| The Two Towers | Elf    | 331 |  513 |\n",
       "| The Two Towers | Hobbit |   0 | 2463 |\n",
       "| The Two Towers | Man    | 401 | 3589 |\n",
       "\n"
      ],
      "text/plain": [
       "  Film           Race   Female Male\n",
       "1 The Two Towers Elf    331     513\n",
       "2 The Two Towers Hobbit   0    2463\n",
       "3 The Two Towers Man    401    3589"
      ]
     },
     "metadata": {},
     "output_type": "display_data"
    }
   ],
   "source": [
    "ttow"
   ]
  },
  {
   "cell_type": "code",
   "execution_count": 109,
   "metadata": {
    "deletable": false,
    "editable": false,
    "nbgrader": {
     "cell_type": "code",
     "checksum": "5829d1044a023667ebcb840e4e1b02c2",
     "grade": false,
     "grade_id": "cell-35c54be74e77d971",
     "locked": true,
     "schema_version": 3,
     "solution": false,
     "task": false
    }
   },
   "outputs": [
    {
     "data": {
      "text/html": [
       "<table>\n",
       "<caption>A spec_tbl_df: 3 × 4</caption>\n",
       "<thead>\n",
       "\t<tr><th scope=col>Film</th><th scope=col>Race</th><th scope=col>Female</th><th scope=col>Male</th></tr>\n",
       "\t<tr><th scope=col>&lt;chr&gt;</th><th scope=col>&lt;chr&gt;</th><th scope=col>&lt;dbl&gt;</th><th scope=col>&lt;dbl&gt;</th></tr>\n",
       "</thead>\n",
       "<tbody>\n",
       "\t<tr><td>The Return Of The King</td><td>Elf   </td><td>183</td><td> 510</td></tr>\n",
       "\t<tr><td>The Return Of The King</td><td>Hobbit</td><td>  2</td><td>2673</td></tr>\n",
       "\t<tr><td>The Return Of The King</td><td>Man   </td><td>268</td><td>2459</td></tr>\n",
       "</tbody>\n",
       "</table>\n"
      ],
      "text/latex": [
       "A spec\\_tbl\\_df: 3 × 4\n",
       "\\begin{tabular}{llll}\n",
       " Film & Race & Female & Male\\\\\n",
       " <chr> & <chr> & <dbl> & <dbl>\\\\\n",
       "\\hline\n",
       "\t The Return Of The King & Elf    & 183 &  510\\\\\n",
       "\t The Return Of The King & Hobbit &   2 & 2673\\\\\n",
       "\t The Return Of The King & Man    & 268 & 2459\\\\\n",
       "\\end{tabular}\n"
      ],
      "text/markdown": [
       "\n",
       "A spec_tbl_df: 3 × 4\n",
       "\n",
       "| Film &lt;chr&gt; | Race &lt;chr&gt; | Female &lt;dbl&gt; | Male &lt;dbl&gt; |\n",
       "|---|---|---|---|\n",
       "| The Return Of The King | Elf    | 183 |  510 |\n",
       "| The Return Of The King | Hobbit |   2 | 2673 |\n",
       "| The Return Of The King | Man    | 268 | 2459 |\n",
       "\n"
      ],
      "text/plain": [
       "  Film                   Race   Female Male\n",
       "1 The Return Of The King Elf    183     510\n",
       "2 The Return Of The King Hobbit   2    2673\n",
       "3 The Return Of The King Man    268    2459"
      ]
     },
     "metadata": {},
     "output_type": "display_data"
    }
   ],
   "source": [
    "retk"
   ]
  },
  {
   "cell_type": "markdown",
   "metadata": {
    "deletable": false,
    "editable": false,
    "nbgrader": {
     "cell_type": "markdown",
     "checksum": "6367b0ed4962c26f1a0156a701af3aaa",
     "grade": false,
     "grade_id": "cell-dccbf8195a0dae5c",
     "locked": true,
     "schema_version": 3,
     "solution": false,
     "task": false
    }
   },
   "source": [
    "#### Question 4.1\n",
    "\n",
    "Combine the three data sets into a single tibble, storing the new tibble in variable `lotr`.\n",
    "\n",
    "```\n",
    "(lotr <- FILL_THIS_IN(fell, ttow, retk))\n",
    "```"
   ]
  },
  {
   "cell_type": "code",
   "execution_count": 110,
   "metadata": {
    "deletable": false,
    "lines_to_next_cell": 0,
    "nbgrader": {
     "cell_type": "code",
     "checksum": "635af25a39374bedefea621e28427156",
     "grade": false,
     "grade_id": "cell-ef7784a633e9d4cb",
     "locked": false,
     "schema_version": 3,
     "solution": true,
     "task": false
    }
   },
   "outputs": [
    {
     "data": {
      "text/html": [
       "<table>\n",
       "<caption>A spec_tbl_df: 9 × 4</caption>\n",
       "<thead>\n",
       "\t<tr><th scope=col>Film</th><th scope=col>Race</th><th scope=col>Female</th><th scope=col>Male</th></tr>\n",
       "\t<tr><th scope=col>&lt;chr&gt;</th><th scope=col>&lt;chr&gt;</th><th scope=col>&lt;dbl&gt;</th><th scope=col>&lt;dbl&gt;</th></tr>\n",
       "</thead>\n",
       "<tbody>\n",
       "\t<tr><td>The Fellowship Of The Ring</td><td>Elf   </td><td>1229</td><td> 971</td></tr>\n",
       "\t<tr><td>The Fellowship Of The Ring</td><td>Hobbit</td><td>  14</td><td>3644</td></tr>\n",
       "\t<tr><td>The Fellowship Of The Ring</td><td>Man   </td><td>   0</td><td>1995</td></tr>\n",
       "\t<tr><td>The Two Towers            </td><td>Elf   </td><td> 331</td><td> 513</td></tr>\n",
       "\t<tr><td>The Two Towers            </td><td>Hobbit</td><td>   0</td><td>2463</td></tr>\n",
       "\t<tr><td>The Two Towers            </td><td>Man   </td><td> 401</td><td>3589</td></tr>\n",
       "\t<tr><td>The Return Of The King    </td><td>Elf   </td><td> 183</td><td> 510</td></tr>\n",
       "\t<tr><td>The Return Of The King    </td><td>Hobbit</td><td>   2</td><td>2673</td></tr>\n",
       "\t<tr><td>The Return Of The King    </td><td>Man   </td><td> 268</td><td>2459</td></tr>\n",
       "</tbody>\n",
       "</table>\n"
      ],
      "text/latex": [
       "A spec\\_tbl\\_df: 9 × 4\n",
       "\\begin{tabular}{llll}\n",
       " Film & Race & Female & Male\\\\\n",
       " <chr> & <chr> & <dbl> & <dbl>\\\\\n",
       "\\hline\n",
       "\t The Fellowship Of The Ring & Elf    & 1229 &  971\\\\\n",
       "\t The Fellowship Of The Ring & Hobbit &   14 & 3644\\\\\n",
       "\t The Fellowship Of The Ring & Man    &    0 & 1995\\\\\n",
       "\t The Two Towers             & Elf    &  331 &  513\\\\\n",
       "\t The Two Towers             & Hobbit &    0 & 2463\\\\\n",
       "\t The Two Towers             & Man    &  401 & 3589\\\\\n",
       "\t The Return Of The King     & Elf    &  183 &  510\\\\\n",
       "\t The Return Of The King     & Hobbit &    2 & 2673\\\\\n",
       "\t The Return Of The King     & Man    &  268 & 2459\\\\\n",
       "\\end{tabular}\n"
      ],
      "text/markdown": [
       "\n",
       "A spec_tbl_df: 9 × 4\n",
       "\n",
       "| Film &lt;chr&gt; | Race &lt;chr&gt; | Female &lt;dbl&gt; | Male &lt;dbl&gt; |\n",
       "|---|---|---|---|\n",
       "| The Fellowship Of The Ring | Elf    | 1229 |  971 |\n",
       "| The Fellowship Of The Ring | Hobbit |   14 | 3644 |\n",
       "| The Fellowship Of The Ring | Man    |    0 | 1995 |\n",
       "| The Two Towers             | Elf    |  331 |  513 |\n",
       "| The Two Towers             | Hobbit |    0 | 2463 |\n",
       "| The Two Towers             | Man    |  401 | 3589 |\n",
       "| The Return Of The King     | Elf    |  183 |  510 |\n",
       "| The Return Of The King     | Hobbit |    2 | 2673 |\n",
       "| The Return Of The King     | Man    |  268 | 2459 |\n",
       "\n"
      ],
      "text/plain": [
       "  Film                       Race   Female Male\n",
       "1 The Fellowship Of The Ring Elf    1229    971\n",
       "2 The Fellowship Of The Ring Hobbit   14   3644\n",
       "3 The Fellowship Of The Ring Man       0   1995\n",
       "4 The Two Towers             Elf     331    513\n",
       "5 The Two Towers             Hobbit    0   2463\n",
       "6 The Two Towers             Man     401   3589\n",
       "7 The Return Of The King     Elf     183    510\n",
       "8 The Return Of The King     Hobbit    2   2673\n",
       "9 The Return Of The King     Man     268   2459"
      ]
     },
     "metadata": {},
     "output_type": "display_data"
    }
   ],
   "source": [
    "# your code here\n",
    "(lotr <- bind_rows(fell, ttow, retk))"
   ]
  },
  {
   "cell_type": "code",
   "execution_count": 111,
   "metadata": {
    "deletable": false,
    "editable": false,
    "nbgrader": {
     "cell_type": "code",
     "checksum": "78b572db762021d4d653f7732c78b82e",
     "grade": true,
     "grade_id": "cell-f900e47761160711",
     "locked": true,
     "points": 1,
     "schema_version": 3,
     "solution": false,
     "task": false
    }
   },
   "outputs": [
    {
     "name": "stdout",
     "output_type": "stream",
     "text": [
      "[1] \"Success!\"\n"
     ]
    }
   ],
   "source": [
    "test_that(\"Question 4.1\", expect_known_hash(table(lotr$Film), \"41c29122f6c217d447e85a9069f5a92f\"))\n",
    "print(\"Success!\")"
   ]
  },
  {
   "cell_type": "markdown",
   "metadata": {
    "deletable": false,
    "editable": false,
    "nbgrader": {
     "cell_type": "markdown",
     "checksum": "e577573ba045fd3aaaefc2a4fa378a70",
     "grade": false,
     "grade_id": "cell-79cd7306e084b4cc",
     "locked": true,
     "schema_version": 3,
     "solution": false,
     "task": false
    }
   },
   "source": [
    "#### Question 4.2\n",
    "\n",
    "Create a new data set with all races that are present in \"The Fellowship of the Ring\" (`fell`), but not in any of the other ones.\n",
    "Store the new data frame in variable `only_fell`.\n",
    "\n",
    "```\n",
    "(only_fell <- fell %>% \n",
    "  FILL_THIS_IN(ttow, by = \"Race\") %>% \n",
    "  FILL_THIS_IN(retk, by = \"Race\"))\n",
    "```"
   ]
  },
  {
   "cell_type": "code",
   "execution_count": 112,
   "metadata": {
    "deletable": false,
    "lines_to_next_cell": 0,
    "nbgrader": {
     "cell_type": "code",
     "checksum": "32673d96e307abadbbe91fcba6f9335b",
     "grade": false,
     "grade_id": "cell-b5fccbeb7ec1ddf5",
     "locked": false,
     "schema_version": 3,
     "solution": true,
     "task": false
    }
   },
   "outputs": [
    {
     "data": {
      "text/html": [
       "<table>\n",
       "<caption>A spec_tbl_df: 0 × 4</caption>\n",
       "<thead>\n",
       "\t<tr><th scope=col>Film</th><th scope=col>Race</th><th scope=col>Female</th><th scope=col>Male</th></tr>\n",
       "\t<tr><th scope=col>&lt;chr&gt;</th><th scope=col>&lt;chr&gt;</th><th scope=col>&lt;dbl&gt;</th><th scope=col>&lt;dbl&gt;</th></tr>\n",
       "</thead>\n",
       "<tbody>\n",
       "</tbody>\n",
       "</table>\n"
      ],
      "text/latex": [
       "A spec\\_tbl\\_df: 0 × 4\n",
       "\\begin{tabular}{llll}\n",
       " Film & Race & Female & Male\\\\\n",
       " <chr> & <chr> & <dbl> & <dbl>\\\\\n",
       "\\hline\n",
       "\\end{tabular}\n"
      ],
      "text/markdown": [
       "\n",
       "A spec_tbl_df: 0 × 4\n",
       "\n",
       "| Film &lt;chr&gt; | Race &lt;chr&gt; | Female &lt;dbl&gt; | Male &lt;dbl&gt; |\n",
       "|---|---|---|---|\n",
       "\n"
      ],
      "text/plain": [
       "     Film Race Female Male"
      ]
     },
     "metadata": {},
     "output_type": "display_data"
    }
   ],
   "source": [
    "# your code here\n",
    "(only_fell <- fell %>% \n",
    "  anti_join(ttow, by = \"Race\") %>% \n",
    "  anti_join(retk, by = \"Race\"))"
   ]
  },
  {
   "cell_type": "code",
   "execution_count": 113,
   "metadata": {
    "deletable": false,
    "editable": false,
    "nbgrader": {
     "cell_type": "code",
     "checksum": "5186658eb86e3fc944de9d6ecb0c10d7",
     "grade": true,
     "grade_id": "cell-79aa3741b99e2667",
     "locked": true,
     "points": 1,
     "schema_version": 3,
     "solution": false,
     "task": false
    }
   },
   "outputs": [
    {
     "name": "stdout",
     "output_type": "stream",
     "text": [
      "[1] \"Success!\"\n"
     ]
    }
   ],
   "source": [
    "test_that(\"Question 4.2\", expect_known_hash(dim(only_fell), \"d1e54b618e5808b540dbdfbb7f75026f\"))\n",
    "print(\"Success!\")"
   ]
  },
  {
   "cell_type": "markdown",
   "metadata": {
    "deletable": false,
    "editable": false,
    "lines_to_next_cell": 0,
    "nbgrader": {
     "cell_type": "markdown",
     "checksum": "f8ab9afd6b877e50aad2f2a98fd0c73d",
     "grade": false,
     "grade_id": "cell-d1bd923a8a3c9a16",
     "locked": true,
     "schema_version": 3,
     "solution": false,
     "task": false
    }
   },
   "source": [
    "### Question 5: Set Operations\n",
    "\n",
    "Let's use three set functions: `intersect()`, `union()` and `setdiff()`.\n",
    "They work for data frames with the same column names.\n",
    "\n",
    "We'll work with two toy tibbles named `y` and `z`, similar to the Data Wrangling Cheatsheet.\n",
    "\n",
    "Run the following R codes to create the data."
   ]
  },
  {
   "cell_type": "code",
   "execution_count": 114,
   "metadata": {
    "deletable": false,
    "editable": false,
    "nbgrader": {
     "cell_type": "code",
     "checksum": "70773086505cfcc2bf778def8428e9e8",
     "grade": false,
     "grade_id": "cell-baae74bab6546360",
     "locked": true,
     "schema_version": 3,
     "solution": false,
     "task": false
    }
   },
   "outputs": [
    {
     "data": {
      "text/html": [
       "<table>\n",
       "<caption>A tibble: 3 × 2</caption>\n",
       "<thead>\n",
       "\t<tr><th scope=col>x1</th><th scope=col>x2</th></tr>\n",
       "\t<tr><th scope=col>&lt;chr&gt;</th><th scope=col>&lt;int&gt;</th></tr>\n",
       "</thead>\n",
       "<tbody>\n",
       "\t<tr><td>A</td><td>1</td></tr>\n",
       "\t<tr><td>B</td><td>2</td></tr>\n",
       "\t<tr><td>C</td><td>3</td></tr>\n",
       "</tbody>\n",
       "</table>\n"
      ],
      "text/latex": [
       "A tibble: 3 × 2\n",
       "\\begin{tabular}{ll}\n",
       " x1 & x2\\\\\n",
       " <chr> & <int>\\\\\n",
       "\\hline\n",
       "\t A & 1\\\\\n",
       "\t B & 2\\\\\n",
       "\t C & 3\\\\\n",
       "\\end{tabular}\n"
      ],
      "text/markdown": [
       "\n",
       "A tibble: 3 × 2\n",
       "\n",
       "| x1 &lt;chr&gt; | x2 &lt;int&gt; |\n",
       "|---|---|\n",
       "| A | 1 |\n",
       "| B | 2 |\n",
       "| C | 3 |\n",
       "\n"
      ],
      "text/plain": [
       "  x1 x2\n",
       "1 A  1 \n",
       "2 B  2 \n",
       "3 C  3 "
      ]
     },
     "metadata": {},
     "output_type": "display_data"
    }
   ],
   "source": [
    "(y <-  tibble(x1 = LETTERS[1:3], x2 = 1:3))"
   ]
  },
  {
   "cell_type": "code",
   "execution_count": 115,
   "metadata": {
    "deletable": false,
    "editable": false,
    "nbgrader": {
     "cell_type": "code",
     "checksum": "ef560d32a3416dbb9632c4d77c2af662",
     "grade": false,
     "grade_id": "cell-2b7351a73648122a",
     "locked": true,
     "schema_version": 3,
     "solution": false,
     "task": false
    }
   },
   "outputs": [
    {
     "data": {
      "text/html": [
       "<table>\n",
       "<caption>A tibble: 3 × 2</caption>\n",
       "<thead>\n",
       "\t<tr><th scope=col>x1</th><th scope=col>x2</th></tr>\n",
       "\t<tr><th scope=col>&lt;chr&gt;</th><th scope=col>&lt;int&gt;</th></tr>\n",
       "</thead>\n",
       "<tbody>\n",
       "\t<tr><td>B</td><td>2</td></tr>\n",
       "\t<tr><td>C</td><td>3</td></tr>\n",
       "\t<tr><td>D</td><td>4</td></tr>\n",
       "</tbody>\n",
       "</table>\n"
      ],
      "text/latex": [
       "A tibble: 3 × 2\n",
       "\\begin{tabular}{ll}\n",
       " x1 & x2\\\\\n",
       " <chr> & <int>\\\\\n",
       "\\hline\n",
       "\t B & 2\\\\\n",
       "\t C & 3\\\\\n",
       "\t D & 4\\\\\n",
       "\\end{tabular}\n"
      ],
      "text/markdown": [
       "\n",
       "A tibble: 3 × 2\n",
       "\n",
       "| x1 &lt;chr&gt; | x2 &lt;int&gt; |\n",
       "|---|---|\n",
       "| B | 2 |\n",
       "| C | 3 |\n",
       "| D | 4 |\n",
       "\n"
      ],
      "text/plain": [
       "  x1 x2\n",
       "1 B  2 \n",
       "2 C  3 \n",
       "3 D  4 "
      ]
     },
     "metadata": {},
     "output_type": "display_data"
    }
   ],
   "source": [
    "(z <- tibble(x1 = c(\"B\", \"C\", \"D\"), x2 = 2:4))"
   ]
  },
  {
   "cell_type": "markdown",
   "metadata": {
    "deletable": false,
    "editable": false,
    "nbgrader": {
     "cell_type": "markdown",
     "checksum": "0c74b8de34bb296b716f1297e14b69bc",
     "grade": false,
     "grade_id": "cell-5e730724ecd74680",
     "locked": true,
     "schema_version": 3,
     "solution": false,
     "task": false
    }
   },
   "source": [
    "#### Question 5.1\n",
    "\n",
    "Use one of the three methods mentioned above to create a new data set which contains all rows that appear in both `y` and `z`.\n",
    "Store the new data frame in variable `in_both`\n",
    "\n",
    "```\n",
    "(in_both <- FILL_THIS_IN(y, z))\n",
    "```"
   ]
  },
  {
   "cell_type": "code",
   "execution_count": 116,
   "metadata": {
    "deletable": false,
    "lines_to_next_cell": 0,
    "nbgrader": {
     "cell_type": "code",
     "checksum": "b9e1cbe089f80f06772eff5425c29f84",
     "grade": false,
     "grade_id": "cell-e267783b3599e511",
     "locked": false,
     "schema_version": 3,
     "solution": true,
     "task": false
    }
   },
   "outputs": [
    {
     "data": {
      "text/html": [
       "<table>\n",
       "<caption>A tibble: 2 × 2</caption>\n",
       "<thead>\n",
       "\t<tr><th scope=col>x1</th><th scope=col>x2</th></tr>\n",
       "\t<tr><th scope=col>&lt;chr&gt;</th><th scope=col>&lt;int&gt;</th></tr>\n",
       "</thead>\n",
       "<tbody>\n",
       "\t<tr><td>B</td><td>2</td></tr>\n",
       "\t<tr><td>C</td><td>3</td></tr>\n",
       "</tbody>\n",
       "</table>\n"
      ],
      "text/latex": [
       "A tibble: 2 × 2\n",
       "\\begin{tabular}{ll}\n",
       " x1 & x2\\\\\n",
       " <chr> & <int>\\\\\n",
       "\\hline\n",
       "\t B & 2\\\\\n",
       "\t C & 3\\\\\n",
       "\\end{tabular}\n"
      ],
      "text/markdown": [
       "\n",
       "A tibble: 2 × 2\n",
       "\n",
       "| x1 &lt;chr&gt; | x2 &lt;int&gt; |\n",
       "|---|---|\n",
       "| B | 2 |\n",
       "| C | 3 |\n",
       "\n"
      ],
      "text/plain": [
       "  x1 x2\n",
       "1 B  2 \n",
       "2 C  3 "
      ]
     },
     "metadata": {},
     "output_type": "display_data"
    }
   ],
   "source": [
    "# your code here\n",
    "(in_both <- intersect(y, z))"
   ]
  },
  {
   "cell_type": "code",
   "execution_count": 117,
   "metadata": {
    "deletable": false,
    "editable": false,
    "nbgrader": {
     "cell_type": "code",
     "checksum": "3124e090f84ef04d4f26701bb5a98932",
     "grade": true,
     "grade_id": "cell-52d241c8bca32dad",
     "locked": true,
     "points": 1,
     "schema_version": 3,
     "solution": false,
     "task": false
    }
   },
   "outputs": [
    {
     "name": "stdout",
     "output_type": "stream",
     "text": [
      "[1] \"Success!\"\n"
     ]
    }
   ],
   "source": [
    "test_that(\"Question 5.1\", expect_known_hash(in_both$x1, \"745ec49ab3231655a04484be44a15f98\"))\n",
    "print(\"Success!\")"
   ]
  },
  {
   "cell_type": "markdown",
   "metadata": {
    "deletable": false,
    "editable": false,
    "nbgrader": {
     "cell_type": "markdown",
     "checksum": "1534d0545b25a6ee037e6f9aaffb976e",
     "grade": false,
     "grade_id": "cell-26dd7f2f3531aef8",
     "locked": true,
     "schema_version": 3,
     "solution": false,
     "task": false
    }
   },
   "source": [
    "#### Question 5.2\n",
    "Assume that rows in `y` are from *Day 1* and rows in `z` are from *Day 2*.\n",
    "Create a new data set with all rows from `y` and `z`, as well as an additional column `day` which is *Day 1* for rows from `y` and *Day 2* for rows from `z`.\n",
    "Store the new data set in variable `both_days`.\n",
    "\n",
    "```\n",
    "(both_days <- FILL_THIS_IN(\n",
    "  mutate(y, day = \"Day 1\"),\n",
    "  mutate(z, day = \"Day 2\")\n",
    "))\n",
    "```"
   ]
  },
  {
   "cell_type": "code",
   "execution_count": 118,
   "metadata": {
    "deletable": false,
    "lines_to_next_cell": 0,
    "nbgrader": {
     "cell_type": "code",
     "checksum": "4bca9822c6afdd16c2b92277fecf083a",
     "grade": false,
     "grade_id": "cell-cb58ae9785411629",
     "locked": false,
     "schema_version": 3,
     "solution": true,
     "task": false
    }
   },
   "outputs": [
    {
     "data": {
      "text/html": [
       "<table>\n",
       "<caption>A tibble: 6 × 3</caption>\n",
       "<thead>\n",
       "\t<tr><th scope=col>x1</th><th scope=col>x2</th><th scope=col>day</th></tr>\n",
       "\t<tr><th scope=col>&lt;chr&gt;</th><th scope=col>&lt;int&gt;</th><th scope=col>&lt;chr&gt;</th></tr>\n",
       "</thead>\n",
       "<tbody>\n",
       "\t<tr><td>A</td><td>1</td><td>Day 1</td></tr>\n",
       "\t<tr><td>B</td><td>2</td><td>Day 1</td></tr>\n",
       "\t<tr><td>C</td><td>3</td><td>Day 1</td></tr>\n",
       "\t<tr><td>B</td><td>2</td><td>Day 2</td></tr>\n",
       "\t<tr><td>C</td><td>3</td><td>Day 2</td></tr>\n",
       "\t<tr><td>D</td><td>4</td><td>Day 2</td></tr>\n",
       "</tbody>\n",
       "</table>\n"
      ],
      "text/latex": [
       "A tibble: 6 × 3\n",
       "\\begin{tabular}{lll}\n",
       " x1 & x2 & day\\\\\n",
       " <chr> & <int> & <chr>\\\\\n",
       "\\hline\n",
       "\t A & 1 & Day 1\\\\\n",
       "\t B & 2 & Day 1\\\\\n",
       "\t C & 3 & Day 1\\\\\n",
       "\t B & 2 & Day 2\\\\\n",
       "\t C & 3 & Day 2\\\\\n",
       "\t D & 4 & Day 2\\\\\n",
       "\\end{tabular}\n"
      ],
      "text/markdown": [
       "\n",
       "A tibble: 6 × 3\n",
       "\n",
       "| x1 &lt;chr&gt; | x2 &lt;int&gt; | day &lt;chr&gt; |\n",
       "|---|---|---|\n",
       "| A | 1 | Day 1 |\n",
       "| B | 2 | Day 1 |\n",
       "| C | 3 | Day 1 |\n",
       "| B | 2 | Day 2 |\n",
       "| C | 3 | Day 2 |\n",
       "| D | 4 | Day 2 |\n",
       "\n"
      ],
      "text/plain": [
       "  x1 x2 day  \n",
       "1 A  1  Day 1\n",
       "2 B  2  Day 1\n",
       "3 C  3  Day 1\n",
       "4 B  2  Day 2\n",
       "5 C  3  Day 2\n",
       "6 D  4  Day 2"
      ]
     },
     "metadata": {},
     "output_type": "display_data"
    }
   ],
   "source": [
    "# your code here\n",
    "(both_days <- bind_rows(\n",
    "  mutate(y, day = \"Day 1\"),\n",
    "  mutate(z, day = \"Day 2\")\n",
    "))"
   ]
  },
  {
   "cell_type": "code",
   "execution_count": 119,
   "metadata": {
    "deletable": false,
    "editable": false,
    "nbgrader": {
     "cell_type": "code",
     "checksum": "0d6f6a3b65c56f79f84bd9621eb45997",
     "grade": true,
     "grade_id": "cell-50e235b2f53237e1",
     "locked": true,
     "points": 1,
     "schema_version": 3,
     "solution": false,
     "task": false
    }
   },
   "outputs": [
    {
     "name": "stdout",
     "output_type": "stream",
     "text": [
      "[1] \"Success!\"\n"
     ]
    }
   ],
   "source": [
    "test_that(\"Question 5.2\", expect_known_hash(with(both_days, x1[order(x2, day)]), \"66b9eefd39c2f0b5d130453c139a2051\"))\n",
    "print(\"Success!\")"
   ]
  },
  {
   "cell_type": "markdown",
   "metadata": {
    "deletable": false,
    "editable": false,
    "nbgrader": {
     "cell_type": "markdown",
     "checksum": "85dddba5556822346bd6ad49d5ebbd68",
     "grade": false,
     "grade_id": "cell-199323d324c8580e",
     "locked": true,
     "schema_version": 3,
     "solution": false,
     "task": false
    }
   },
   "source": [
    "#### Question 5.3\n",
    "\n",
    "The rows contained in `z` are bad.\n",
    "Use one of the three methods mentioned above to create a new data set which contains only the rows from `y` which are not in `z`.\n",
    "Store the new data frame in variable `only_y`\n",
    "\n",
    "```\n",
    "(only_y <- FILL_THIS_IN(y, z))\n",
    "```"
   ]
  },
  {
   "cell_type": "code",
   "execution_count": 120,
   "metadata": {
    "deletable": false,
    "lines_to_next_cell": 0,
    "nbgrader": {
     "cell_type": "code",
     "checksum": "2d1e0583f6b73b66685a809bc713d83f",
     "grade": false,
     "grade_id": "cell-f23a4f7c749f9a42",
     "locked": false,
     "schema_version": 3,
     "solution": true,
     "task": false
    }
   },
   "outputs": [
    {
     "data": {
      "text/html": [
       "<table>\n",
       "<caption>A tibble: 1 × 2</caption>\n",
       "<thead>\n",
       "\t<tr><th scope=col>x1</th><th scope=col>x2</th></tr>\n",
       "\t<tr><th scope=col>&lt;chr&gt;</th><th scope=col>&lt;int&gt;</th></tr>\n",
       "</thead>\n",
       "<tbody>\n",
       "\t<tr><td>A</td><td>1</td></tr>\n",
       "</tbody>\n",
       "</table>\n"
      ],
      "text/latex": [
       "A tibble: 1 × 2\n",
       "\\begin{tabular}{ll}\n",
       " x1 & x2\\\\\n",
       " <chr> & <int>\\\\\n",
       "\\hline\n",
       "\t A & 1\\\\\n",
       "\\end{tabular}\n"
      ],
      "text/markdown": [
       "\n",
       "A tibble: 1 × 2\n",
       "\n",
       "| x1 &lt;chr&gt; | x2 &lt;int&gt; |\n",
       "|---|---|\n",
       "| A | 1 |\n",
       "\n"
      ],
      "text/plain": [
       "  x1 x2\n",
       "1 A  1 "
      ]
     },
     "metadata": {},
     "output_type": "display_data"
    }
   ],
   "source": [
    "# your code here\n",
    "(only_y <- setdiff(y, z))"
   ]
  },
  {
   "cell_type": "code",
   "execution_count": 121,
   "metadata": {
    "deletable": false,
    "editable": false,
    "nbgrader": {
     "cell_type": "code",
     "checksum": "d3483e10942db7735a9e820c3b3c6722",
     "grade": true,
     "grade_id": "cell-99b0c66bc2260c3a",
     "locked": true,
     "points": 1,
     "schema_version": 3,
     "solution": false,
     "task": false
    }
   },
   "outputs": [
    {
     "name": "stdout",
     "output_type": "stream",
     "text": [
      "[1] \"Success!\"\n"
     ]
    }
   ],
   "source": [
    "test_that(\"Question 5.3\", expect_known_hash(only_y$x1, \"75f1160e72554f4270c809f041c7a776\"))\n",
    "print(\"Success!\")"
   ]
  },
  {
   "cell_type": "markdown",
   "metadata": {
    "deletable": false,
    "editable": false,
    "nbgrader": {
     "cell_type": "markdown",
     "checksum": "51982d812b165ea90143d635b5bd0c2f",
     "grade": false,
     "grade_id": "cell-dbacfd6c24590e38",
     "locked": true,
     "schema_version": 3,
     "solution": false,
     "task": false
    }
   },
   "source": [
    "### Question 6- Dates and Tsibble "
   ]
  },
  {
   "cell_type": "markdown",
   "metadata": {
    "deletable": false,
    "editable": false,
    "nbgrader": {
     "cell_type": "markdown",
     "checksum": "a08daa6c40ec723ddf21cf731cf30846",
     "grade": false,
     "grade_id": "cell-c43c897ae13fcab2",
     "locked": true,
     "schema_version": 3,
     "solution": false,
     "task": false
    }
   },
   "source": [
    "We're going to take a look at the Tsibble package and how it works with dates. Let's first load this package. "
   ]
  },
  {
   "cell_type": "markdown",
   "metadata": {
    "deletable": false,
    "editable": false,
    "nbgrader": {
     "cell_type": "markdown",
     "checksum": "e67b91d05727c35425aec1e5ff4fcab7",
     "grade": false,
     "grade_id": "cell-50adaa9f821e21fb",
     "locked": true,
     "schema_version": 3,
     "solution": false,
     "task": false
    }
   },
   "source": [
    "#### Question 6.1"
   ]
  },
  {
   "cell_type": "code",
   "execution_count": null,
   "metadata": {},
   "outputs": [],
   "source": [
    "#install.packages(\"tsibble\")\n",
    "suppressPackageStartupMessages(library(tsibble))"
   ]
  },
  {
   "cell_type": "markdown",
   "metadata": {
    "deletable": false,
    "editable": false,
    "nbgrader": {
     "cell_type": "markdown",
     "checksum": "3f14fb8b459a9e2e13958467d93a8faa",
     "grade": false,
     "grade_id": "cell-9512560549311751",
     "locked": true,
     "schema_version": 3,
     "solution": false,
     "task": false
    }
   },
   "source": [
    "Next let's take a look at the built in presidential dataset that looks at the start and ending terms of US presidents. "
   ]
  },
  {
   "cell_type": "code",
   "execution_count": null,
   "metadata": {
    "deletable": false,
    "editable": false,
    "nbgrader": {
     "cell_type": "code",
     "checksum": "246325f07aae4a0f4815628aac685ca8",
     "grade": false,
     "grade_id": "cell-a37c8810b6e3de5d",
     "locked": true,
     "schema_version": 3,
     "solution": false,
     "task": false
    }
   },
   "outputs": [],
   "source": [
    "presidential"
   ]
  },
  {
   "cell_type": "markdown",
   "metadata": {
    "deletable": false,
    "editable": false,
    "nbgrader": {
     "cell_type": "markdown",
     "checksum": "5e898f3bd8e5392ece174a63c98b7bc5",
     "grade": false,
     "grade_id": "cell-3ec12f8dddc1b136",
     "locked": true,
     "schema_version": 3,
     "solution": false,
     "task": false
    }
   },
   "source": [
    "Using `tsibble` to convert the existing start and end column dates into only year and month. Name this tibble\n",
    "`president_ym`.\n",
    "\n",
    "```\n",
    "(president_ym <- presidential %>%\n",
    " mutate(start=FILL_THIS_IN(start), end=FILL_THIS_IN(end)))\n",
    "```\n"
   ]
  },
  {
   "cell_type": "code",
   "execution_count": null,
   "metadata": {
    "deletable": false,
    "nbgrader": {
     "cell_type": "code",
     "checksum": "7ef4504468da877571e569cc07f67d68",
     "grade": false,
     "grade_id": "cell-1bb9d4544eb25006",
     "locked": false,
     "schema_version": 3,
     "solution": true,
     "task": false
    }
   },
   "outputs": [],
   "source": [
    "# your code here\n",
    "fail() # No Answer - remove if you provide an answer"
   ]
  },
  {
   "cell_type": "code",
   "execution_count": null,
   "metadata": {
    "deletable": false,
    "editable": false,
    "nbgrader": {
     "cell_type": "code",
     "checksum": "67fde07fcba4b2ded96923b795760afb",
     "grade": true,
     "grade_id": "cell-7d4a3a9d3ba31dd4",
     "locked": true,
     "points": 1,
     "schema_version": 3,
     "solution": false,
     "task": false
    }
   },
   "outputs": [],
   "source": [
    "test_that(\"Question 6.1\", expect_known_hash(president_ym[1,], \"8b9ac24bc52a692ab7d1bd83f9e0a19c\"))\n",
    "print(\"Success!\")"
   ]
  }
 ],
 "metadata": {
  "jupytext": {
   "cell_metadata_filter": "-all"
  },
  "kernelspec": {
   "display_name": "R",
   "language": "R",
   "name": "ir"
  },
  "language_info": {
   "codemirror_mode": "r",
   "file_extension": ".r",
   "mimetype": "text/x-r-source",
   "name": "R",
   "pygments_lexer": "r",
   "version": "4.0.2"
  }
 },
 "nbformat": 4,
 "nbformat_minor": 4
}
